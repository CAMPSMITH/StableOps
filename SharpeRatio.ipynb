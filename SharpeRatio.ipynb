{
 "cells": [
  {
   "cell_type": "markdown",
   "id": "2e1c3e03-4770-4b15-8228-620b057b8a20",
   "metadata": {},
   "source": [
    "# Sharpe Ratio\n",
    "The Sharpe ratio is a metric that helps quantify both the risk and the potential reward of a particular investment.\n",
    "```\n",
    "Sharpe Ration = (Annualized Ave. Return - Risk Free Return)/Annualized Std. Deviation\n",
    "```\n",
    "\n",
    "For our purposes, \n",
    "* the risk free option is simply holding the stable coin, which returns 0%\n",
    "* the arbitrage strategy will be compared to staking stable coin\n"
   ]
  },
  {
   "cell_type": "markdown",
   "id": "a716722a",
   "metadata": {},
   "source": [
    "## Assumptions\n",
    "* staking is risk free return alternative\n",
    "* average staking reward is 2% / year\n",
    "* 365 trading days / year, crypto trading is 24/7\n"
   ]
  },
  {
   "cell_type": "code",
   "execution_count": 1,
   "id": "00bf244a-35c5-4a20-9874-f5f7dbc182ef",
   "metadata": {},
   "outputs": [],
   "source": [
    "import pandas as pd\n",
    "import numpy as np\n",
    "%matplotlib inline"
   ]
  },
  {
   "cell_type": "markdown",
   "id": "23552f78-f14a-4eef-a615-6be5708df276",
   "metadata": {},
   "source": [
    "## Input needed\n",
    "* A representative daily return of arbitrage trading\n",
    "* risk free annualized return\n",
    "\n",
    "## Derived metrics\n",
    "* Annualized Ave. return of arbitrage trading\n",
    "* Annualized Standard Deviation of arbitrage trading"
   ]
  },
  {
   "cell_type": "code",
   "execution_count": 2,
   "id": "6c337490-840e-41c0-84e9-4565faa9da4e",
   "metadata": {},
   "outputs": [],
   "source": [
    "# Define trading days per year for analysis and calculations\n",
    "trading_days_per_year = 365\n",
    "\n",
    "# risk free return from assumption\n",
    "staking_annualized_return = 0.02 # 2%"
   ]
  },
  {
   "cell_type": "markdown",
   "id": "5ec9ca19-5f74-4061-8a5e-9b8de00cccc1",
   "metadata": {},
   "source": [
    "## Create a mock of daily return arbitrage trading\n",
    "\n",
    "### Criteria\n",
    "* mean of 0.00\n",
    "* occasional deviations from mean +/- 6%\n",
    "* one years worth of data"
   ]
  },
  {
   "cell_type": "code",
   "execution_count": 3,
   "id": "875b7f18-df48-4393-8c5b-369902096b42",
   "metadata": {},
   "outputs": [
    {
     "data": {
      "text/plain": [
       "0      0.015611\n",
       "1     -0.020750\n",
       "2      0.003487\n",
       "3      0.032001\n",
       "4      0.005908\n",
       "         ...   \n",
       "360    0.014111\n",
       "361   -0.004131\n",
       "362   -0.011471\n",
       "363    0.012871\n",
       "364   -0.003020\n",
       "Length: 365, dtype: float64"
      ]
     },
     "execution_count": 3,
     "metadata": {},
     "output_type": "execute_result"
    }
   ],
   "source": [
    "# create a mock return for a year's worth of data\n",
    "mock_arbitrage_daily_returns = pd.Series(np.random.normal(\n",
    "    loc=0,\n",
    "    scale=0.018,\n",
    "    size=365\n",
    "))\n",
    "# inspect mock arbitrage series\n",
    "mock_arbitrage_daily_returns"
   ]
  },
  {
   "cell_type": "code",
   "execution_count": 4,
   "id": "780503e3-58e0-42a2-bf1a-d91af06b23d6",
   "metadata": {},
   "outputs": [
    {
     "data": {
      "text/plain": [
       "count    365.000000\n",
       "mean       0.000355\n",
       "std        0.018393\n",
       "min       -0.045930\n",
       "25%       -0.011473\n",
       "50%       -0.000164\n",
       "75%        0.012871\n",
       "max        0.072133\n",
       "dtype: float64"
      ]
     },
     "execution_count": 4,
     "metadata": {},
     "output_type": "execute_result"
    }
   ],
   "source": [
    "# look at the summary stats for the mock arbitrage series\n",
    "mock_arbitrage_daily_returns.describe()"
   ]
  },
  {
   "cell_type": "markdown",
   "id": "a06b2c30-b188-4f3d-979b-38b1240993ba",
   "metadata": {},
   "source": [
    "mock_daily_returns series meets the initial criteria."
   ]
  },
  {
   "cell_type": "code",
   "execution_count": 5,
   "id": "1360f96f-f2ea-4294-840a-7c5660320502",
   "metadata": {
    "tags": []
   },
   "outputs": [
    {
     "data": {
      "text/plain": [
       "<AxesSubplot:title={'center':'Box Plot of Daily Returns Data - Mock Stablecoin Arbitrage'}>"
      ]
     },
     "execution_count": 5,
     "metadata": {},
     "output_type": "execute_result"
    },
    {
     "data": {
      "image/png": "[encoded data removed]",
      "text/plain": [
       "<Figure size 432x288 with 1 Axes>"
      ]
     },
     "metadata": {
      "needs_background": "light"
     },
     "output_type": "display_data"
    }
   ],
   "source": [
    "# Visualize Daily return summary statistics for the mock arbitrage series\n",
    "mock_arbitrage_daily_returns.plot.box(title=\"Box Plot of Daily Returns Data - Mock Stablecoin Arbitrage\")"
   ]
  },
  {
   "cell_type": "markdown",
   "id": "b56edc12-4423-4d5b-b153-89b7fc91d359",
   "metadata": {},
   "source": [
    "## create a mock series for the staking option\n",
    "\n",
    "### Criteria\n",
    "* 2 % annualized return\n",
    "* one years worth of data"
   ]
  },
  {
   "cell_type": "code",
   "execution_count": 6,
   "id": "9a4f0074-9f7e-40b2-9ba8-672bf0719d34",
   "metadata": {},
   "outputs": [
    {
     "name": "stdout",
     "output_type": "stream",
     "text": [
      "staking_daily_return=0.0055%\n"
     ]
    },
    {
     "data": {
      "text/plain": [
       "0      0.000079\n",
       "1      0.000039\n",
       "2      0.000030\n",
       "3      0.000071\n",
       "4      0.000079\n",
       "         ...   \n",
       "360    0.000059\n",
       "361    0.000069\n",
       "362    0.000047\n",
       "363    0.000051\n",
       "364    0.000069\n",
       "Length: 365, dtype: float64"
      ]
     },
     "execution_count": 6,
     "metadata": {},
     "output_type": "execute_result"
    }
   ],
   "source": [
    "# calculate the staking daily return\n",
    "staking_daily_return = staking_annualized_return / trading_days_per_year\n",
    "\n",
    "# display the staking_daily_return\n",
    "print(f\"staking_daily_return={staking_daily_return*100:.4f}%\")\n",
    "\n",
    "# create a mock series for the staking option\n",
    "mock_staking_daily_returns = pd.Series(np.random.normal(\n",
    "    loc=staking_daily_return,\n",
    "    scale=staking_daily_return/3,\n",
    "    size=365\n",
    "))\n",
    "\n",
    "# inspect mock series for the staking option \n",
    "mock_staking_daily_returns"
   ]
  },
  {
   "cell_type": "code",
   "execution_count": 7,
   "id": "c7212225-3671-4061-a3a9-1354e1d00da0",
   "metadata": {},
   "outputs": [
    {
     "data": {
      "text/plain": [
       "count    365.000000\n",
       "mean       0.000055\n",
       "std        0.000019\n",
       "min       -0.000032\n",
       "25%        0.000042\n",
       "50%        0.000055\n",
       "75%        0.000066\n",
       "max        0.000108\n",
       "dtype: float64"
      ]
     },
     "execution_count": 7,
     "metadata": {},
     "output_type": "execute_result"
    }
   ],
   "source": [
    "# look at the summary stats for the mock staking series\n",
    "mock_staking_daily_returns.describe()"
   ]
  },
  {
   "cell_type": "code",
   "execution_count": 8,
   "id": "ddd4ae09-f8bd-4b5c-ae03-5d473e8364c9",
   "metadata": {},
   "outputs": [
    {
     "data": {
      "text/plain": [
       "<AxesSubplot:title={'center':'Box Plot of Daily Returns Data - Mock Stablecoin Arbitrage'}>"
      ]
     },
     "execution_count": 8,
     "metadata": {},
     "output_type": "execute_result"
    },
    {
     "data": {
      "image/png": "[encoded data removed]",
      "text/plain": [
       "<Figure size 432x288 with 1 Axes>"
      ]
     },
     "metadata": {
      "needs_background": "light"
     },
     "output_type": "display_data"
    }
   ],
   "source": [
    "# Visualize daily return summary statistics for the mock staking series\n",
    "mock_staking_daily_returns.plot.box(title=\"Box Plot of Daily Returns Data - Mock Stablecoin Arbitrage\")"
   ]
  },
  {
   "cell_type": "markdown",
   "id": "de921495-d273-4045-97f0-4a2b3e595048",
   "metadata": {},
   "source": [
    "## Combine into a dataframe"
   ]
  },
  {
   "cell_type": "code",
   "execution_count": 9,
   "id": "765199ac-0448-4592-8aad-2eff9b1be97b",
   "metadata": {},
   "outputs": [
    {
     "data": {
      "text/html": [
       "<div>\n",
       "<style scoped>\n",
       "    .dataframe tbody tr th:only-of-type {\n",
       "        vertical-align: middle;\n",
       "    }\n",
       "\n",
       "    .dataframe tbody tr th {\n",
       "        vertical-align: top;\n",
       "    }\n",
       "\n",
       "    .dataframe thead th {\n",
       "        text-align: right;\n",
       "    }\n",
       "</style>\n",
       "<table border=\"1\" class=\"dataframe\">\n",
       "  <thead>\n",
       "    <tr style=\"text-align: right;\">\n",
       "      <th></th>\n",
       "      <th>arbitrage</th>\n",
       "      <th>staking</th>\n",
       "    </tr>\n",
       "  </thead>\n",
       "  <tbody>\n",
       "    <tr>\n",
       "      <th>0</th>\n",
       "      <td>0.015611</td>\n",
       "      <td>0.000079</td>\n",
       "    </tr>\n",
       "    <tr>\n",
       "      <th>1</th>\n",
       "      <td>-0.020750</td>\n",
       "      <td>0.000039</td>\n",
       "    </tr>\n",
       "    <tr>\n",
       "      <th>2</th>\n",
       "      <td>0.003487</td>\n",
       "      <td>0.000030</td>\n",
       "    </tr>\n",
       "    <tr>\n",
       "      <th>3</th>\n",
       "      <td>0.032001</td>\n",
       "      <td>0.000071</td>\n",
       "    </tr>\n",
       "    <tr>\n",
       "      <th>4</th>\n",
       "      <td>0.005908</td>\n",
       "      <td>0.000079</td>\n",
       "    </tr>\n",
       "    <tr>\n",
       "      <th>...</th>\n",
       "      <td>...</td>\n",
       "      <td>...</td>\n",
       "    </tr>\n",
       "    <tr>\n",
       "      <th>360</th>\n",
       "      <td>0.014111</td>\n",
       "      <td>0.000059</td>\n",
       "    </tr>\n",
       "    <tr>\n",
       "      <th>361</th>\n",
       "      <td>-0.004131</td>\n",
       "      <td>0.000069</td>\n",
       "    </tr>\n",
       "    <tr>\n",
       "      <th>362</th>\n",
       "      <td>-0.011471</td>\n",
       "      <td>0.000047</td>\n",
       "    </tr>\n",
       "    <tr>\n",
       "      <th>363</th>\n",
       "      <td>0.012871</td>\n",
       "      <td>0.000051</td>\n",
       "    </tr>\n",
       "    <tr>\n",
       "      <th>364</th>\n",
       "      <td>-0.003020</td>\n",
       "      <td>0.000069</td>\n",
       "    </tr>\n",
       "  </tbody>\n",
       "</table>\n",
       "<p>365 rows × 2 columns</p>\n",
       "</div>"
      ],
      "text/plain": [
       "     arbitrage   staking\n",
       "0     0.015611  0.000079\n",
       "1    -0.020750  0.000039\n",
       "2     0.003487  0.000030\n",
       "3     0.032001  0.000071\n",
       "4     0.005908  0.000079\n",
       "..         ...       ...\n",
       "360   0.014111  0.000059\n",
       "361  -0.004131  0.000069\n",
       "362  -0.011471  0.000047\n",
       "363   0.012871  0.000051\n",
       "364  -0.003020  0.000069\n",
       "\n",
       "[365 rows x 2 columns]"
      ]
     },
     "execution_count": 9,
     "metadata": {},
     "output_type": "execute_result"
    }
   ],
   "source": [
    "returns_df = pd.DataFrame(\n",
    "    {'arbitrage':mock_arbitrage_daily_returns,\n",
    "     'staking':mock_staking_daily_returns\n",
    "    }\n",
    ")\n",
    "returns_df"
   ]
  },
  {
   "cell_type": "markdown",
   "id": "6e0cbec2-85ba-4be4-998a-d867a40bca1e",
   "metadata": {},
   "source": [
    "## Calculate Annualized Ave. Return\n"
   ]
  },
  {
   "cell_type": "code",
   "execution_count": 10,
   "id": "6980083d-92ec-4400-8e39-8b4cba453e80",
   "metadata": {},
   "outputs": [
    {
     "data": {
      "text/plain": [
       "arbitrage    0.129549\n",
       "staking      0.019900\n",
       "dtype: float64"
      ]
     },
     "execution_count": 10,
     "metadata": {},
     "output_type": "execute_result"
    }
   ],
   "source": [
    "# calculate the average annualized return\n",
    "annualized_returns = returns_df.mean() * trading_days_per_year\n",
    "\n",
    "# display the average annualized return\n",
    "annualized_returns"
   ]
  },
  {
   "cell_type": "markdown",
   "id": "96cd3d80-2385-4fe6-8b0c-33032f81d080",
   "metadata": {},
   "source": [
    "## Calculate Annualized Standard Deviation\n"
   ]
  },
  {
   "cell_type": "code",
   "execution_count": 11,
   "id": "7a804301-1e29-4089-9396-734e82ef06f7",
   "metadata": {},
   "outputs": [
    {
     "data": {
      "text/plain": [
       "arbitrage    0.351405\n",
       "staking      0.000359\n",
       "dtype: float64"
      ]
     },
     "execution_count": 11,
     "metadata": {},
     "output_type": "execute_result"
    }
   ],
   "source": [
    "# calculate the annualized standard deviation\n",
    "annual_standard_deviation = returns_df.std() * np.sqrt(trading_days_per_year)\n",
    "\n",
    "# display the annualized standard deviation\n",
    "annual_standard_deviation"
   ]
  },
  {
   "cell_type": "markdown",
   "id": "0b9f0389-0b3f-491b-9b41-9cf8fd2fc73e",
   "metadata": {},
   "source": [
    "## Calculate Sharpe Ratio\n"
   ]
  },
  {
   "cell_type": "code",
   "execution_count": 12,
   "id": "d72a5910-1df5-45b9-8cd7-f25e85706210",
   "metadata": {},
   "outputs": [
    {
     "data": {
      "text/plain": [
       "arbitrage     0.368658\n",
       "staking      55.494319\n",
       "dtype: float64"
      ]
     },
     "execution_count": 12,
     "metadata": {},
     "output_type": "execute_result"
    }
   ],
   "source": [
    "# calculate sharpe ratio\n",
    "# Sharpe Ration = (Annualized Ave. Return - Risk Free Return)/Annualized Std. Deviatio\n",
    "sharpe_ratio = (annualized_returns)/annual_standard_deviation\n",
    "\n",
    "# display sharpe ratio\n",
    "sharpe_ratio"
   ]
  },
  {
   "cell_type": "code",
   "execution_count": 13,
   "id": "fbd230fd-717a-4c9f-93bb-69fdcf1d45de",
   "metadata": {},
   "outputs": [
    {
     "data": {
      "text/plain": [
       "<AxesSubplot:title={'center':'Risk/Reward (Sharpe Ratio) Comparison of arbitrage vs staking'}>"
      ]
     },
     "execution_count": 13,
     "metadata": {},
     "output_type": "execute_result"
    },
    {
     "data": {
      "image/png": "[encoded data removed]",
      "text/plain": [
       "<Figure size 432x288 with 1 Axes>"
      ]
     },
     "metadata": {
      "needs_background": "light"
     },
     "output_type": "display_data"
    }
   ],
   "source": [
    "sharpe_ratio.plot(\n",
    "    kind=\"bar\",\n",
    "    title=\"Risk/Reward (Sharpe Ratio) Comparison of arbitrage vs staking\"\n",
    ")"
   ]
  },
  {
   "cell_type": "code",
   "execution_count": null,
   "id": "56296411-668b-43d8-bbae-3a2f10f1a6d2",
   "metadata": {},
   "outputs": [],
   "source": []
  }
 ],
 "metadata": {
  "kernelspec": {
   "display_name": "Python 3 (ipykernel)",
   "language": "python",
   "name": "python3"
  },
  "language_info": {
   "codemirror_mode": {
    "name": "ipython",
    "version": 3
   },
   "file_extension": ".py",
   "mimetype": "text/x-python",
   "name": "python",
   "nbconvert_exporter": "python",
   "pygments_lexer": "ipython3",
   "version": "3.7.11"
  }
 },
 "nbformat": 4,
 "nbformat_minor": 5
}
