{
 "cells": [
  {
   "cell_type": "markdown",
   "id": "2e1c3e03-4770-4b15-8228-620b057b8a20",
   "metadata": {},
   "source": [
    "# StableOps\n",
    "An analysis of opportunities in stable coins\n"
   ]
  },
  {
   "cell_type": "code",
   "execution_count": null,
   "id": "00bf244a-35c5-4a20-9874-f5f7dbc182ef",
   "metadata": {},
   "outputs": [],
   "source": []
  }
 ],
 "metadata": {
  "kernelspec": {
   "display_name": "Python 3 (ipykernel)",
   "language": "python",
   "name": "python3"
  },
  "language_info": {
   "codemirror_mode": {
    "name": "ipython",
    "version": 3
   },
   "file_extension": ".py",
   "mimetype": "text/x-python",
   "name": "python",
   "nbconvert_exporter": "python",
   "pygments_lexer": "ipython3",
   "version": "3.7.11"
  }
 },
 "nbformat": 4,
 "nbformat_minor": 5
}
