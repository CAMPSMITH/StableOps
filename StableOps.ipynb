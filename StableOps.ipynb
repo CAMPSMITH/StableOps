{
 "cells": [
  {
   "cell_type": "markdown",
   "id": "2e1c3e03-4770-4b15-8228-620b057b8a20",
   "metadata": {},
   "source": [
    "# StableOps\n",
    "## Overview\n",
    "\n",
    "**StableOps** is an analysis of potential opportunities derived from volatility in stablecoin pricing.  It was observed that several stablecoins have some pricing volatility.  Although usually pegged to a FIAT currency, like the US dollar, they sometimes drift to be a little over or under that value.\n",
    "\n",
    "#TODO: insert histogram and line chart of a stable coin\n",
    "\n",
    "In theory, if this volatility could be harnessed, it might lead to 4-6% yield.  The objective of this project is to analyze volatility in stablecoin pricing and assess whether this volatility could provide profitable arbitrage opportunities. \n",
    "\n",
    "In order to explore this hypothesis further, the following will be analyzed:\n",
    "* Analysis of the volatility of a sampling of stablecoins based on the US Dollar\n",
    "    * frequency and magnitude of deviations from pegged stable value\n",
    "    * statistical distribution\n",
    "    * line graph\n",
    "    * histogram\n",
    "* Analysis of the volatility of a sampling of stablecoins based on a currency other than the US Dollar\n",
    "    * frequency and magnitude of deviations from pegged stable value\n",
    "    * statistical distribution\n",
    "    * line graph\n",
    "    * histogram\n",
    "* Analysis of costs associated with exchanging stablecoins with FIAT currency or with another stablecoin\n",
    "    * resolve a % cost overhead\n",
    "* Analysis of low risk yield producing options with stable coins, e.g. staking yields\n",
    "    * resolve an average low risk yield \n",
    "* Beta analysis ??? \n",
    "    [I seem to remember something about low risk investment opportunity assessment with Beta]\n",
    "* Analysis of potential arbitrage opportunity\n",
    "    * Simulations to forecast future returns leveraging this opportunity"
   ]
  },
  {
   "cell_type": "code",
   "execution_count": null,
   "id": "00bf244a-35c5-4a20-9874-f5f7dbc182ef",
   "metadata": {},
   "outputs": [],
   "source": []
  }
 ],
 "metadata": {
  "kernelspec": {
   "display_name": "Python 3 (ipykernel)",
   "language": "python",
   "name": "python3"
  },
  "language_info": {
   "codemirror_mode": {
    "name": "ipython",
    "version": 3
   },
   "file_extension": ".py",
   "mimetype": "text/x-python",
   "name": "python",
   "nbconvert_exporter": "python",
   "pygments_lexer": "ipython3",
   "version": "3.7.11"
  }
 },
 "nbformat": 4,
 "nbformat_minor": 5
}
