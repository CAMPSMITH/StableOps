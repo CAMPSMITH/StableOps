{
 "cells": [
  {
   "cell_type": "markdown",
   "id": "2e1c3e03-4770-4b15-8228-620b057b8a20",
   "metadata": {},
   "source": [
    "# StableOps\n",
    "## Overview\n",
    "\n",
    "**StableOps** is an analysis of potential opportunities derived from volatility in stablecoin pricing.  It was observed that several stablecoins have some pricing volatility.  Although usually pegged to a FIAT currency, like the US dollar, they sometimes drift to be a little over or under that value.\n",
    "\n",
    "![Paxos Price History](images/USDP_price.png)\n",
    "![Paxos Price Histogram](images/paxos_price_hist.png)\n",
    "\n",
    "In theory, if this volatility could be harnessed, it might be profitable.  The objective of this project is to analyze volatility in stablecoin pricing and assess whether this volatility could provide profitable arbitrage opportunities. \n",
    "\n",
    "In order to explore this hypothesis further, the following will be analyzed:\n",
    "* A statistical analysis of the price volatility of several stable coins using daily data going back several years.  The following stablecoins will be reviewed:\n",
    "    * USDC\n",
    "    * USDT\n",
    "    * PAXOS\n",
    "    * DAI\n",
    "    * sUSD\n",
    "    * GUSD\n",
    "\n",
    "* A statistical analysis of the price volatility of selected stable coins using high resolution price data data going back several years, at up to 1 minute intervals (see [intraday.ipynb](intraday.ipynb)).  The following stablecoins will be reviewed:\n",
    "    * DAI\n",
    "    * PAXOS\n",
    "    * UST\n",
    "\n",
    "* Rolling 30 day analysis of the volatility of stablecoin price volatility.\n",
    "* Modelling potential arbitrage return using daily price data over that last 365 days.\n",
    "* Survey of safer stablecoin investment alternatives, such as yield farming ( see [stable_coin_compare.ipynb](stable_coin_compare.ipynb)).\n",
    "* Modelling yield farming returns\n",
    "* Risk/ Reward analysis using Sharpe Ratio comparing arbitrate with yield farming."
   ]
  },
  {
   "cell_type": "code",
   "execution_count": 70,
   "id": "8de7d81d-2d67-4ac1-97e5-caff8407204c",
   "metadata": {},
   "outputs": [],
   "source": [
    "# import dependencies used in analysis\n",
    "\n",
    "import requests\n",
    "import json\n",
    "import pandas as pd\n",
    "import os\n",
    "import numpy as np\n",
    "import hvplot.pandas\n",
    "from utils.utils import coin_gecko_cleaner\n",
    "%matplotlib inline"
   ]
  },
  {
   "cell_type": "code",
   "execution_count": 71,
   "id": "00c2ad40-eebc-4a1c-94c0-3ab813d1b038",
   "metadata": {},
   "outputs": [],
   "source": [
    "# constants used in the analysis\n",
    "peg=1.00 # the value a stable coin is expected to be valued at, $1.00 USD\n",
    "margin=0.01  # the margin needed for profitable arbitrage\n",
    "trading_days_per_year = 365\n"
   ]
  },
  {
   "cell_type": "markdown",
   "id": "00cc926e-eed0-4cc8-b12c-c86500842752",
   "metadata": {},
   "source": [
    "## Daily Stablecoin Price Data"
   ]
  },
  {
   "cell_type": "markdown",
   "id": "6fd69822-e056-4d5f-bb16-6272cb31d000",
   "metadata": {},
   "source": [
    "### USDC : USD Coin"
   ]
  },
  {
   "cell_type": "code",
   "execution_count": 72,
   "id": "6eb8cf9d-00a2-4daa-b23b-8b9354e7c499",
   "metadata": {},
   "outputs": [],
   "source": [
    "# Pulling in api data for USDC\n",
    "usdc_url = 'https://api.coingecko.com/api/v3/coins/usd-coin/market_chart?vs_currency=usd&days=1095&interval=daily'"
   ]
  },
  {
   "cell_type": "code",
   "execution_count": 73,
   "id": "c562956e-a272-4ee3-82bb-d92354a8f09d",
   "metadata": {},
   "outputs": [],
   "source": [
    "# Converting api to json format\n",
    "usdc = requests.get(usdc_url).json()"
   ]
  },
  {
   "cell_type": "code",
   "execution_count": 74,
   "id": "d22501a4-9347-4be4-8993-6d8bc46e5c74",
   "metadata": {},
   "outputs": [],
   "source": [
    "# Converting json into DataFrame\n",
    "usdc_df=pd.DataFrame(usdc)"
   ]
  },
  {
   "cell_type": "code",
   "execution_count": 75,
   "id": "ca42da19-83cc-42e2-96b7-efc071b49da6",
   "metadata": {},
   "outputs": [
    {
     "data": {
      "text/html": [
       "<div>\n",
       "<style scoped>\n",
       "    .dataframe tbody tr th:only-of-type {\n",
       "        vertical-align: middle;\n",
       "    }\n",
       "\n",
       "    .dataframe tbody tr th {\n",
       "        vertical-align: top;\n",
       "    }\n",
       "\n",
       "    .dataframe thead th {\n",
       "        text-align: right;\n",
       "    }\n",
       "</style>\n",
       "<table border=\"1\" class=\"dataframe\">\n",
       "  <thead>\n",
       "    <tr style=\"text-align: right;\">\n",
       "      <th></th>\n",
       "      <th>prices</th>\n",
       "      <th>market_caps</th>\n",
       "      <th>total_volumes</th>\n",
       "    </tr>\n",
       "  </thead>\n",
       "  <tbody>\n",
       "    <tr>\n",
       "      <th>0</th>\n",
       "      <td>[1558569600000, 0.9998024114923273]</td>\n",
       "      <td>[1558569600000, 360266085.5269885]</td>\n",
       "      <td>[1558569600000, 367755623.2256438]</td>\n",
       "    </tr>\n",
       "    <tr>\n",
       "      <th>1</th>\n",
       "      <td>[1558656000000, 1.0020401855802195]</td>\n",
       "      <td>[1558656000000, 361312034.41507894]</td>\n",
       "      <td>[1558656000000, 151408068.26361677]</td>\n",
       "    </tr>\n",
       "    <tr>\n",
       "      <th>2</th>\n",
       "      <td>[1558742400000, 1.000936191533932]</td>\n",
       "      <td>[1558742400000, 360687372.60481495]</td>\n",
       "      <td>[1558742400000, 177835906.27547008]</td>\n",
       "    </tr>\n",
       "    <tr>\n",
       "      <th>3</th>\n",
       "      <td>[1558828800000, 1.0037128509121127]</td>\n",
       "      <td>[1558828800000, 363359359.00397295]</td>\n",
       "      <td>[1558828800000, 120036519.6281535]</td>\n",
       "    </tr>\n",
       "    <tr>\n",
       "      <th>4</th>\n",
       "      <td>[1558915200000, 0.9999653657173496]</td>\n",
       "      <td>[1558915200000, 362378697.0302579]</td>\n",
       "      <td>[1558915200000, 166189313.60345092]</td>\n",
       "    </tr>\n",
       "  </tbody>\n",
       "</table>\n",
       "</div>"
      ],
      "text/plain": [
       "                                prices                          market_caps  \\\n",
       "0  [1558569600000, 0.9998024114923273]   [1558569600000, 360266085.5269885]   \n",
       "1  [1558656000000, 1.0020401855802195]  [1558656000000, 361312034.41507894]   \n",
       "2   [1558742400000, 1.000936191533932]  [1558742400000, 360687372.60481495]   \n",
       "3  [1558828800000, 1.0037128509121127]  [1558828800000, 363359359.00397295]   \n",
       "4  [1558915200000, 0.9999653657173496]   [1558915200000, 362378697.0302579]   \n",
       "\n",
       "                         total_volumes  \n",
       "0   [1558569600000, 367755623.2256438]  \n",
       "1  [1558656000000, 151408068.26361677]  \n",
       "2  [1558742400000, 177835906.27547008]  \n",
       "3   [1558828800000, 120036519.6281535]  \n",
       "4  [1558915200000, 166189313.60345092]  "
      ]
     },
     "execution_count": 75,
     "metadata": {},
     "output_type": "execute_result"
    }
   ],
   "source": [
    "# inspect original dataframe\n",
    "usdc_df.head()"
   ]
  },
  {
   "cell_type": "markdown",
   "id": "e43b8978-dfce-460e-8b28-dbb33eee0d95",
   "metadata": {},
   "source": [
    "The data is returned in tuples consisting of Unix epoch time followed by the value.  \n",
    "The dataframe index should be a date set according to the extracted epoch time.  Converting the Unix epoch time to DateTime will facilitate an easier understanding of the data as well as enable additional DataFrame time based capabilities.  The reusable *coin_gecko_cleaner()* function was created to prepare the dataframe, including extracting and setting the DateTime index."
   ]
  },
  {
   "cell_type": "code",
   "execution_count": 76,
   "id": "57ae1aeb-1f57-4a2a-bdae-a79f94f714b7",
   "metadata": {},
   "outputs": [
    {
     "data": {
      "text/html": [
       "<div>\n",
       "<style scoped>\n",
       "    .dataframe tbody tr th:only-of-type {\n",
       "        vertical-align: middle;\n",
       "    }\n",
       "\n",
       "    .dataframe tbody tr th {\n",
       "        vertical-align: top;\n",
       "    }\n",
       "\n",
       "    .dataframe thead th {\n",
       "        text-align: right;\n",
       "    }\n",
       "</style>\n",
       "<table border=\"1\" class=\"dataframe\">\n",
       "  <thead>\n",
       "    <tr style=\"text-align: right;\">\n",
       "      <th></th>\n",
       "      <th>prices</th>\n",
       "      <th>market_caps</th>\n",
       "      <th>total_volumes</th>\n",
       "    </tr>\n",
       "    <tr>\n",
       "      <th>time</th>\n",
       "      <th></th>\n",
       "      <th></th>\n",
       "      <th></th>\n",
       "    </tr>\n",
       "  </thead>\n",
       "  <tbody>\n",
       "    <tr>\n",
       "      <th>2019-05-22</th>\n",
       "      <td>0.999802</td>\n",
       "      <td>3.602661e+08</td>\n",
       "      <td>3.677556e+08</td>\n",
       "    </tr>\n",
       "    <tr>\n",
       "      <th>2019-05-23</th>\n",
       "      <td>1.002040</td>\n",
       "      <td>3.613120e+08</td>\n",
       "      <td>1.514081e+08</td>\n",
       "    </tr>\n",
       "    <tr>\n",
       "      <th>2019-05-24</th>\n",
       "      <td>1.000936</td>\n",
       "      <td>3.606874e+08</td>\n",
       "      <td>1.778359e+08</td>\n",
       "    </tr>\n",
       "    <tr>\n",
       "      <th>2019-05-25</th>\n",
       "      <td>1.003713</td>\n",
       "      <td>3.633594e+08</td>\n",
       "      <td>1.200365e+08</td>\n",
       "    </tr>\n",
       "    <tr>\n",
       "      <th>2019-05-26</th>\n",
       "      <td>0.999965</td>\n",
       "      <td>3.623787e+08</td>\n",
       "      <td>1.661893e+08</td>\n",
       "    </tr>\n",
       "  </tbody>\n",
       "</table>\n",
       "</div>"
      ],
      "text/plain": [
       "              prices   market_caps  total_volumes\n",
       "time                                             \n",
       "2019-05-22  0.999802  3.602661e+08   3.677556e+08\n",
       "2019-05-23  1.002040  3.613120e+08   1.514081e+08\n",
       "2019-05-24  1.000936  3.606874e+08   1.778359e+08\n",
       "2019-05-25  1.003713  3.633594e+08   1.200365e+08\n",
       "2019-05-26  0.999965  3.623787e+08   1.661893e+08"
      ]
     },
     "execution_count": 76,
     "metadata": {},
     "output_type": "execute_result"
    }
   ],
   "source": [
    "# cleaning url. Displaying dataframe\n",
    "usdc = coin_gecko_cleaner(usdc_url)\n",
    "\n",
    "# inspect dataframe\n",
    "usdc.head()"
   ]
  },
  {
   "cell_type": "code",
   "execution_count": 77,
   "id": "ec5ecfbb-cda1-491b-bb3e-653568bc971a",
   "metadata": {},
   "outputs": [
    {
     "data": {},
     "metadata": {},
     "output_type": "display_data"
    },
    {
     "data": {
      "application/vnd.holoviews_exec.v0+json": "",
      "text/html": [
       "<div id='2723'>\n",
       "\n",
       "\n",
       "\n",
       "\n",
       "\n",
       "  <div class=\"bk-root\" id=\"870f542e-6b9d-4732-a398-fc40328ba0d3\" data-root-id=\"2723\"></div>\n",
       "</div>\n",
       "<script type=\"application/javascript\">(function(root) {\n",
       "  function embed_document(root) {\n",
       "    var docs_json = {\"75e6afa7-44a4-44e4-8456-64465409ac9b\":{\"defs\":[{\"extends\":null,\"module\":null,\"name\":\"ReactiveHTML1\",\"overrides\":[],\"properties\":[]},{\"extends\":null,\"module\":null,\"name\":\"FlexBox1\",\"overrides\":[],\"properties\":[{\"default\":\"flex-start\",\"kind\":null,\"name\":\"align_content\"},{\"default\":\"flex-start\",\"kind\":null,\"name\":\"align_items\"},{\"default\":\"row\",\"kind\":null,\"name\":\"flex_direction\"},{\"default\":\"wrap\",\"kind\":null,\"name\":\"flex_wrap\"},{\"default\":\"flex-start\",\"kind\":null,\"name\":\"justify_content\"}]},{\"extends\":null,\"module\":null,\"name\":\"GridStack1\",\"overrides\":[],\"properties\":[{\"default\":\"warn\",\"kind\":null,\"name\":\"mode\"},{\"default\":null,\"kind\":null,\"name\":\"ncols\"},{\"default\":null,\"kind\":null,\"name\":\"nrows\"},{\"default\":true,\"kind\":null,\"name\":\"allow_resize\"},{\"default\":true,\"kind\":null,\"name\":\"allow_drag\"},{\"default\":[],\"kind\":null,\"name\":\"state\"}]},{\"extends\":null,\"module\":null,\"name\":\"click1\",\"overrides\":[],\"properties\":[{\"default\":\"\",\"kind\":null,\"name\":\"terminal_output\"},{\"default\":\"\",\"kind\":null,\"name\":\"debug_name\"},{\"default\":0,\"kind\":null,\"name\":\"clears\"}]},{\"extends\":null,\"module\":null,\"name\":\"TemplateActions1\",\"overrides\":[],\"properties\":[{\"default\":0,\"kind\":null,\"name\":\"open_modal\"},{\"default\":0,\"kind\":null,\"name\":\"close_modal\"}]},{\"extends\":null,\"module\":null,\"name\":\"MaterialTemplateActions1\",\"overrides\":[],\"properties\":[{\"default\":0,\"kind\":null,\"name\":\"open_modal\"},{\"default\":0,\"kind\":null,\"name\":\"close_modal\"}]}],\"roots\":{\"references\":[{\"attributes\":{},\"id\":\"2735\",\"type\":\"LinearScale\"},{\"attributes\":{\"days\":[1,4,7,10,13,16,19,22,25,28]},\"id\":\"2787\",\"type\":\"DaysTicker\"},{\"attributes\":{\"children\":[{\"id\":\"2724\"},{\"id\":\"2728\"},{\"id\":\"2817\"}],\"margin\":[0,0,0,0],\"name\":\"Row03330\",\"tags\":[\"embedded\"]},\"id\":\"2723\",\"type\":\"Row\"},{\"attributes\":{\"axis\":{\"id\":\"2737\"},\"coordinates\":null,\"grid_line_color\":null,\"group\":null,\"ticker\":null},\"id\":\"2740\",\"type\":\"Grid\"},{\"attributes\":{\"days\":[1,8,15,22]},\"id\":\"2788\",\"type\":\"DaysTicker\"},{\"attributes\":{\"months\":[0,2,4,6,8,10]},\"id\":\"2791\",\"type\":\"MonthsTicker\"},{\"attributes\":{\"data\":{\"prices\":{\"__ndarray__\":\"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\",\"dtype\":\"float64\",\"order\":\"little\",\"shape\":[1096]},\"time\":{\"__ndarray__\":\"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\",\"dtype\":\"float64\",\"order\":\"little\",\"shape\":[1096]}},\"selected\":{\"id\":\"2759\"},\"selection_policy\":{\"id\":\"2780\"}},\"id\":\"2758\",\"type\":\"ColumnDataSource\"},{\"attributes\":{\"axis\":{\"id\":\"2741\"},\"coordinates\":null,\"dimension\":1,\"grid_line_color\":null,\"group\":null,\"ticker\":null},\"id\":\"2744\",\"type\":\"Grid\"},{\"attributes\":{\"line_alpha\":0.1,\"line_color\":\"#30a2da\",\"line_width\":2,\"x\":{\"field\":\"time\"},\"y\":{\"field\":\"prices\"}},\"id\":\"2762\",\"type\":\"Line\"},{\"attributes\":{\"days\":[1,15]},\"id\":\"2789\",\"type\":\"DaysTicker\"},{\"attributes\":{\"axis_label\":\"Price\",\"coordinates\":null,\"formatter\":{\"id\":\"2771\"},\"group\":null,\"major_label_policy\":{\"id\":\"2772\"},\"ticker\":{\"id\":\"2742\"}},\"id\":\"2741\",\"type\":\"LinearAxis\"},{\"attributes\":{\"below\":[{\"id\":\"2737\"}],\"center\":[{\"id\":\"2740\"},{\"id\":\"2744\"}],\"height\":300,\"left\":[{\"id\":\"2741\"}],\"margin\":[5,5,5,5],\"min_border_bottom\":10,\"min_border_left\":10,\"min_border_right\":10,\"min_border_top\":10,\"renderers\":[{\"id\":\"2764\"}],\"sizing_mode\":\"fixed\",\"title\":{\"id\":\"2729\"},\"toolbar\":{\"id\":\"2751\"},\"width\":700,\"x_range\":{\"id\":\"2725\"},\"x_scale\":{\"id\":\"2733\"},\"y_range\":{\"id\":\"2726\"},\"y_scale\":{\"id\":\"2735\"}},\"id\":\"2728\",\"subtype\":\"Figure\",\"type\":\"Plot\"},{\"attributes\":{\"months\":[0,4,8]},\"id\":\"2792\",\"type\":\"MonthsTicker\"},{\"attributes\":{\"coordinates\":null,\"data_source\":{\"id\":\"2758\"},\"glyph\":{\"id\":\"2761\"},\"group\":null,\"hover_glyph\":null,\"muted_glyph\":{\"id\":\"2763\"},\"nonselection_glyph\":{\"id\":\"2762\"},\"selection_glyph\":{\"id\":\"2766\"},\"view\":{\"id\":\"2765\"}},\"id\":\"2764\",\"type\":\"GlyphRenderer\"},{\"attributes\":{\"line_color\":\"#30a2da\",\"line_width\":2,\"x\":{\"field\":\"time\"},\"y\":{\"field\":\"prices\"}},\"id\":\"2766\",\"type\":\"Line\"},{\"attributes\":{\"months\":[0,6]},\"id\":\"2793\",\"type\":\"MonthsTicker\"},{\"attributes\":{\"months\":[0,1,2,3,4,5,6,7,8,9,10,11]},\"id\":\"2790\",\"type\":\"MonthsTicker\"},{\"attributes\":{\"end\":1653091200000.0,\"reset_end\":1653091200000.0,\"reset_start\":1558483200000.0,\"start\":1558483200000.0,\"tags\":[[[\"time\",\"time\",null]]]},\"id\":\"2725\",\"type\":\"Range1d\"},{\"attributes\":{},\"id\":\"2794\",\"type\":\"YearsTicker\"},{\"attributes\":{\"line_color\":\"#30a2da\",\"line_width\":2,\"x\":{\"field\":\"time\"},\"y\":{\"field\":\"prices\"}},\"id\":\"2761\",\"type\":\"Line\"},{\"attributes\":{},\"id\":\"2769\",\"type\":\"AllLabels\"},{\"attributes\":{},\"id\":\"2780\",\"type\":\"UnionRenderers\"},{\"attributes\":{\"tools\":[{\"id\":\"2727\"},{\"id\":\"2745\"},{\"id\":\"2746\"},{\"id\":\"2747\"},{\"id\":\"2748\"},{\"id\":\"2749\"}]},\"id\":\"2751\",\"type\":\"Toolbar\"},{\"attributes\":{},\"id\":\"2771\",\"type\":\"BasicTickFormatter\"},{\"attributes\":{\"coordinates\":null,\"group\":null,\"text\":\"USDC Daily Prices May 2020 - May 2022\",\"text_color\":\"black\",\"text_font_size\":\"12pt\"},\"id\":\"2729\",\"type\":\"Title\"},{\"attributes\":{\"source\":{\"id\":\"2758\"}},\"id\":\"2765\",\"type\":\"CDSView\"},{\"attributes\":{\"margin\":[5,5,5,5],\"name\":\"HSpacer03335\",\"sizing_mode\":\"stretch_width\"},\"id\":\"2817\",\"type\":\"Spacer\"},{\"attributes\":{},\"id\":\"2745\",\"type\":\"SaveTool\"},{\"attributes\":{\"days\":[1,2,3,4,5,6,7,8,9,10,11,12,13,14,15,16,17,18,19,20,21,22,23,24,25,26,27,28,29,30,31]},\"id\":\"2786\",\"type\":\"DaysTicker\"},{\"attributes\":{},\"id\":\"2768\",\"type\":\"DatetimeTickFormatter\"},{\"attributes\":{},\"id\":\"2746\",\"type\":\"PanTool\"},{\"attributes\":{\"mantissas\":[1,2,5],\"max_interval\":500.0,\"num_minor_ticks\":0},\"id\":\"2783\",\"type\":\"AdaptiveTicker\"},{\"attributes\":{\"base\":60,\"mantissas\":[1,2,5,10,15,20,30],\"max_interval\":1800000.0,\"min_interval\":1000.0,\"num_minor_ticks\":0},\"id\":\"2784\",\"type\":\"AdaptiveTicker\"},{\"attributes\":{\"callback\":null,\"formatters\":{\"@{time}\":\"datetime\"},\"renderers\":[{\"id\":\"2764\"}],\"tags\":[\"hv_created\"],\"tooltips\":[[\"time\",\"@{time}{%F %T}\"],[\"prices\",\"@{prices}\"]]},\"id\":\"2727\",\"type\":\"HoverTool\"},{\"attributes\":{},\"id\":\"2747\",\"type\":\"WheelZoomTool\"},{\"attributes\":{\"end\":1.0256384198743114,\"reset_end\":1.0256384198743114,\"reset_start\":0.9768266738721333,\"start\":0.9768266738721333,\"tags\":[[[\"prices\",\"prices\",null]]]},\"id\":\"2726\",\"type\":\"Range1d\"},{\"attributes\":{\"base\":24,\"mantissas\":[1,2,4,6,8,12],\"max_interval\":43200000.0,\"min_interval\":3600000.0,\"num_minor_ticks\":0},\"id\":\"2785\",\"type\":\"AdaptiveTicker\"},{\"attributes\":{\"overlay\":{\"id\":\"2750\"}},\"id\":\"2748\",\"type\":\"BoxZoomTool\"},{\"attributes\":{\"axis_label\":\"Date\",\"coordinates\":null,\"formatter\":{\"id\":\"2768\"},\"group\":null,\"major_label_policy\":{\"id\":\"2769\"},\"ticker\":{\"id\":\"2738\"}},\"id\":\"2737\",\"type\":\"DatetimeAxis\"},{\"attributes\":{},\"id\":\"2759\",\"type\":\"Selection\"},{\"attributes\":{},\"id\":\"2772\",\"type\":\"AllLabels\"},{\"attributes\":{\"margin\":[5,5,5,5],\"name\":\"HSpacer03334\",\"sizing_mode\":\"stretch_width\"},\"id\":\"2724\",\"type\":\"Spacer\"},{\"attributes\":{},\"id\":\"2733\",\"type\":\"LinearScale\"},{\"attributes\":{\"line_alpha\":0.2,\"line_color\":\"#30a2da\",\"line_width\":2,\"x\":{\"field\":\"time\"},\"y\":{\"field\":\"prices\"}},\"id\":\"2763\",\"type\":\"Line\"},{\"attributes\":{},\"id\":\"2749\",\"type\":\"ResetTool\"},{\"attributes\":{},\"id\":\"2742\",\"type\":\"BasicTicker\"},{\"attributes\":{\"bottom_units\":\"screen\",\"coordinates\":null,\"fill_alpha\":0.5,\"fill_color\":\"lightgrey\",\"group\":null,\"left_units\":\"screen\",\"level\":\"overlay\",\"line_alpha\":1.0,\"line_color\":\"black\",\"line_dash\":[4,4],\"line_width\":2,\"right_units\":\"screen\",\"syncable\":false,\"top_units\":\"screen\"},\"id\":\"2750\",\"type\":\"BoxAnnotation\"},{\"attributes\":{\"num_minor_ticks\":5,\"tickers\":[{\"id\":\"2783\"},{\"id\":\"2784\"},{\"id\":\"2785\"},{\"id\":\"2786\"},{\"id\":\"2787\"},{\"id\":\"2788\"},{\"id\":\"2789\"},{\"id\":\"2790\"},{\"id\":\"2791\"},{\"id\":\"2792\"},{\"id\":\"2793\"},{\"id\":\"2794\"}]},\"id\":\"2738\",\"type\":\"DatetimeTicker\"}],\"root_ids\":[\"2723\"]},\"title\":\"Bokeh Application\",\"version\":\"2.4.1\"}};\n",
       "    var render_items = [{\"docid\":\"75e6afa7-44a4-44e4-8456-64465409ac9b\",\"root_ids\":[\"2723\"],\"roots\":{\"2723\":\"870f542e-6b9d-4732-a398-fc40328ba0d3\"}}];\n",
       "    root.Bokeh.embed.embed_items_notebook(docs_json, render_items);\n",
       "  }\n",
       "  if (root.Bokeh !== undefined && root.Bokeh.Panel !== undefined) {\n",
       "    embed_document(root);\n",
       "  } else {\n",
       "    var attempts = 0;\n",
       "    var timer = setInterval(function(root) {\n",
       "      if (root.Bokeh !== undefined && root.Bokeh.Panel !== undefined) {\n",
       "        clearInterval(timer);\n",
       "        embed_document(root);\n",
       "      } else if (document.readyState == \"complete\") {\n",
       "        attempts++;\n",
       "        if (attempts > 200) {\n",
       "          clearInterval(timer);\n",
       "          console.log(\"Bokeh: ERROR: Unable to run BokehJS code because BokehJS library is missing\");\n",
       "        }\n",
       "      }\n",
       "    }, 25, root)\n",
       "  }\n",
       "})(window);</script>"
      ],
      "text/plain": [
       ":Curve   [time]   (prices)"
      ]
     },
     "execution_count": 77,
     "metadata": {
      "application/vnd.holoviews_exec.v0+json": {
       "id": "2723"
      }
     },
     "output_type": "execute_result"
    }
   ],
   "source": [
    "# Plotting Daily Prices\n",
    "usdc_price_plot = usdc.hvplot.line(\n",
    "    x='time',\n",
    "    y='prices',\n",
    "    xlabel='Date',\n",
    "    ylabel='Price',\n",
    "    title='USDC Daily Prices May 2020 - May 2022'\n",
    ")\n",
    "#saving plot to .png\n",
    "# hvplot.save(usdc_price_plot, 'images/usdc_price.png')\n",
    "\n",
    "#display plot\n",
    "usdc_price_plot"
   ]
  },
  {
   "cell_type": "code",
   "execution_count": 78,
   "id": "20207df2-7612-4d07-8a6a-88ae5f7bb57d",
   "metadata": {},
   "outputs": [
    {
     "name": "stdout",
     "output_type": "stream",
     "text": [
      "USDC had 7 arbitrage opportunities\n"
     ]
    }
   ],
   "source": [
    "# Counting frequency of prices where the price was above or below its peg \n",
    "# by an amount equal to or greather than the margin\n",
    "usdc_arb = usdc['prices'][usdc['prices'] <= (peg-margin)].count() + usdc['prices'][usdc['prices'] >= (peg+margin)].count()\n",
    "print(f\"USDC had {usdc_arb} arbitrage opportunities\")"
   ]
  },
  {
   "cell_type": "code",
   "execution_count": 79,
   "id": "b74a90a8-19e4-4c1c-8cfb-dd2bd34723c1",
   "metadata": {
    "tags": []
   },
   "outputs": [],
   "source": [
    "# Creating variables for standard deviation and mean \n",
    "usdc_mean = usdc.describe().loc['mean','prices']\n",
    "usdc_std = usdc.describe().loc['std','prices']"
   ]
  },
  {
   "cell_type": "markdown",
   "id": "b873241a-7800-44cc-9661-2289b11bf198",
   "metadata": {},
   "source": [
    "### GUSD : Gemini Dollar"
   ]
  },
  {
   "cell_type": "code",
   "execution_count": 80,
   "id": "a5455365-b785-4473-ab62-7d1b8a4a584a",
   "metadata": {},
   "outputs": [
    {
     "data": {
      "text/html": [
       "<div>\n",
       "<style scoped>\n",
       "    .dataframe tbody tr th:only-of-type {\n",
       "        vertical-align: middle;\n",
       "    }\n",
       "\n",
       "    .dataframe tbody tr th {\n",
       "        vertical-align: top;\n",
       "    }\n",
       "\n",
       "    .dataframe thead th {\n",
       "        text-align: right;\n",
       "    }\n",
       "</style>\n",
       "<table border=\"1\" class=\"dataframe\">\n",
       "  <thead>\n",
       "    <tr style=\"text-align: right;\">\n",
       "      <th></th>\n",
       "      <th>prices</th>\n",
       "      <th>market_caps</th>\n",
       "      <th>total_volumes</th>\n",
       "    </tr>\n",
       "    <tr>\n",
       "      <th>time</th>\n",
       "      <th></th>\n",
       "      <th></th>\n",
       "      <th></th>\n",
       "    </tr>\n",
       "  </thead>\n",
       "  <tbody>\n",
       "    <tr>\n",
       "      <th>2019-05-22</th>\n",
       "      <td>0.996765</td>\n",
       "      <td>2.242025e+07</td>\n",
       "      <td>2.795331e+07</td>\n",
       "    </tr>\n",
       "    <tr>\n",
       "      <th>2019-05-23</th>\n",
       "      <td>0.999212</td>\n",
       "      <td>2.218988e+07</td>\n",
       "      <td>2.825804e+07</td>\n",
       "    </tr>\n",
       "    <tr>\n",
       "      <th>2019-05-24</th>\n",
       "      <td>1.000104</td>\n",
       "      <td>2.223352e+07</td>\n",
       "      <td>2.885259e+07</td>\n",
       "    </tr>\n",
       "    <tr>\n",
       "      <th>2019-05-25</th>\n",
       "      <td>1.000882</td>\n",
       "      <td>2.215154e+07</td>\n",
       "      <td>2.823884e+07</td>\n",
       "    </tr>\n",
       "    <tr>\n",
       "      <th>2019-05-26</th>\n",
       "      <td>1.009095</td>\n",
       "      <td>2.228724e+07</td>\n",
       "      <td>4.029591e+07</td>\n",
       "    </tr>\n",
       "  </tbody>\n",
       "</table>\n",
       "</div>"
      ],
      "text/plain": [
       "              prices   market_caps  total_volumes\n",
       "time                                             \n",
       "2019-05-22  0.996765  2.242025e+07   2.795331e+07\n",
       "2019-05-23  0.999212  2.218988e+07   2.825804e+07\n",
       "2019-05-24  1.000104  2.223352e+07   2.885259e+07\n",
       "2019-05-25  1.000882  2.215154e+07   2.823884e+07\n",
       "2019-05-26  1.009095  2.228724e+07   4.029591e+07"
      ]
     },
     "execution_count": 80,
     "metadata": {},
     "output_type": "execute_result"
    }
   ],
   "source": [
    "# Pulling in api data for GUSD\n",
    "gusd_url = 'https://api.coingecko.com/api/v3/coins/gemini-dollar/market_chart?vs_currency=usd&days=1095&interval=daily'\n",
    "\n",
    "# cleaning url. Displaying dataframe\n",
    "gusd = coin_gecko_cleaner(gusd_url)\n",
    "\n",
    "# inspect dataframe\n",
    "gusd.head()"
   ]
  },
  {
   "cell_type": "code",
   "execution_count": 81,
   "id": "5070d07f-b882-4999-9bb4-3f367d1a5d69",
   "metadata": {},
   "outputs": [
    {
     "data": {},
     "metadata": {},
     "output_type": "display_data"
    },
    {
     "data": {
      "application/vnd.holoviews_exec.v0+json": "",
      "text/html": [
       "<div id='2929'>\n",
       "\n",
       "\n",
       "\n",
       "\n",
       "\n",
       "  <div class=\"bk-root\" id=\"adc5811c-0255-429c-ba61-5d0634f95703\" data-root-id=\"2929\"></div>\n",
       "</div>\n",
       "<script type=\"application/javascript\">(function(root) {\n",
       "  function embed_document(root) {\n",
       "    var docs_json = {\"1f26421c-7c56-4ecb-bb49-4ab05c010750\":{\"defs\":[{\"extends\":null,\"module\":null,\"name\":\"ReactiveHTML1\",\"overrides\":[],\"properties\":[]},{\"extends\":null,\"module\":null,\"name\":\"FlexBox1\",\"overrides\":[],\"properties\":[{\"default\":\"flex-start\",\"kind\":null,\"name\":\"align_content\"},{\"default\":\"flex-start\",\"kind\":null,\"name\":\"align_items\"},{\"default\":\"row\",\"kind\":null,\"name\":\"flex_direction\"},{\"default\":\"wrap\",\"kind\":null,\"name\":\"flex_wrap\"},{\"default\":\"flex-start\",\"kind\":null,\"name\":\"justify_content\"}]},{\"extends\":null,\"module\":null,\"name\":\"GridStack1\",\"overrides\":[],\"properties\":[{\"default\":\"warn\",\"kind\":null,\"name\":\"mode\"},{\"default\":null,\"kind\":null,\"name\":\"ncols\"},{\"default\":null,\"kind\":null,\"name\":\"nrows\"},{\"default\":true,\"kind\":null,\"name\":\"allow_resize\"},{\"default\":true,\"kind\":null,\"name\":\"allow_drag\"},{\"default\":[],\"kind\":null,\"name\":\"state\"}]},{\"extends\":null,\"module\":null,\"name\":\"click1\",\"overrides\":[],\"properties\":[{\"default\":\"\",\"kind\":null,\"name\":\"terminal_output\"},{\"default\":\"\",\"kind\":null,\"name\":\"debug_name\"},{\"default\":0,\"kind\":null,\"name\":\"clears\"}]},{\"extends\":null,\"module\":null,\"name\":\"TemplateActions1\",\"overrides\":[],\"properties\":[{\"default\":0,\"kind\":null,\"name\":\"open_modal\"},{\"default\":0,\"kind\":null,\"name\":\"close_modal\"}]},{\"extends\":null,\"module\":null,\"name\":\"MaterialTemplateActions1\",\"overrides\":[],\"properties\":[{\"default\":0,\"kind\":null,\"name\":\"open_modal\"},{\"default\":0,\"kind\":null,\"name\":\"close_modal\"}]}],\"roots\":{\"references\":[{\"attributes\":{\"data\":{\"prices\":{\"__ndarray__\":\"WY0BTX/l7z+6EJu8i/nvP+yPg4lsAPA/sL20lZwD8D8LrJ5mQCXwP+BQR2uaAPA/L1Z2FO4J8D983Vh6QxbwPytZG8b92u8/h37YnHMN8D9hl+wWNwHwP0Q1LRaBAfA/SWJpHuGo7z+GzPA7aQHwPz9WpAZusu8/NBqr308H8D/TNrm/2fvvP9OLvkZxvO8/9OBqPRfu7z/Mh0nWwAHwP8XTy0ocqu8/khFCNTDf7z+RmRnXD+nvP1OGrXAaAfA/AZpMhAED8D/9zOL1RdrvP46+lZmiBvA/GvcK8fUF8D9DTjq0PPzvPxCxH0OK+e8/IMIuXvYB8D+LFESyvvLvP35MmLpEBPA/FvTYRy8K8D9qquxJrSDwP2NOLw5BJvA/VKiEtGMY8D925FM4xwnwP2idXago3u8/dylSs0jc7z89d5GiU+3vP4eNpqZ3/O8/nZYs1LkH8D8QCOVevdPvP9ehPLc74O8/DSYME53m7z8Uanl0s+7vP9E4iGuNBfA/Lm3TbXwI8D9qeRUnovzvP8AC3wc28u8/8Z4ytU/Y7z+y3A54CfPvPzxdpIk4s+8/S0i//MDi7z84K8+PKrXvP7uYsXcBAPA//RpIeEy97z+PCILjmRbwP0vfvdMAD/A/yU1kxybr7z+8svx9QsfvP11Kprht0O8/ueEZQ4YG8D9H+FuVKrzvP8zKvcW/EPA/h3jlOPP17z/hVUvE0CPwP34wQ6Iq8e8/4fxlsOTF7z961jh1UgHwPx2+h3jS4O8/rEDxSIA68D8Fv+ROswLwP4sd+BvgEvA/uZ2ZV0IM8D/9XKre+qXvPwFrdF6FJ/A/RFoHoW0T8D+i1WiZOuTvP/DiLUq1wO8/q3iA5/IM8D8gQg44X9zvP8e/4R27uO8/lAWH2dlm7z8rT+D2egTwPyoXpl698e8/t28XDJQN8D/hgqMjex/wP2kOI8OTbPA/NwwyEJ3C7z9Rs/hdvxbwP20KzvWFCfA/bOc6lxXG7z8bjREtD9rvPzz0CbaZde8/rQcQNl9l7z9F9MEtgSrvPwznGE+Azu8/+vPF0QXS7z/32PmUJdrvP/A+8UOQ4e8/mlSbJbzY7z+QKsoTZNfvP2hWYcNGA/A/fCoV2nv67z8kwIuXAf/vP4UdF62OYu8/YxE9PJrs7z/2zPG4ZnHvPyJa0IHr9e8/oYco4BQA8D976znORfrvP+PeRs3Zge8/KkGZVdiG7z9coikPthrwP6C+asXz/e8/vEvMrhTy7z/wRKbIAeXvP6TqoAi40e8/+BdhvUcO8D+rNIE9avjvPwAEBM/Z+e8/h+GVhDHf7z+16ckHabLvP+1Z7SIuRe8/FYwCtVbE7z+XAeZIgbfvP86gx6/Zxu8/ohGeH4n17z+z3BAjmtTvP31gz/2o++8/kNyEEfPi7z+Q3IQR8+LvP6D1Dgr//u8/ng3J1uv87z8cFLb3zvDvP/kgOVs+ze8/WpYPNzvr7z84ukP2/ervP+U0UCx15+8/wDL/WH/w7z+TxjRXE7rvP9ocXvlGr+8/JrbW8lfm7z970RQ0k+PvP5pJcjuM2O8/Xz3eL+jN7z9LrxoFJOXvP2zavZA0qe8/Rwu3yJux7z9Y81XX1ePvP61IyHVAzO8/5Zc7UNO97z8MB9ZASMHvP6yE8qI4su8/RY61bZ3q7z8NCyykedzvPzh3qhDgwe8/mTY+OvuS7z/lKvlgtc/vP3jBKKbm2+8/wr2LLj7r7z8/V5AtAevvP3sJXECv7+8/241MCynR7z9eG9VwNNrvP4OybF+Br+8/MxfbuaW47z+feveJodPvP3lsCmYIv+8/Q9cpierV7z+uGUb0nu/vPwVNfqV11+8/XgTqPqTm7z8pcznVHuXvPx69VdmT1u8/HhE7BPnc7z/d4LL2997vPwa1QPA42+8/vJgbgejQ7z9I4TGDluDvPxRHqisb7u8/Z0WLac707z97lVPeKgzwPwYvcm8z9e8/zjf6RlrN7j+eRIdLC9PvP05+Y1iA5e8/Ml2a8NoD8D9Sq1oUE+vvP7amrWuc5O8/EF+dkmXO7z9F7gq/Eq/vP97HDlGL4O8/nowdjDjP7z8Pfcvun+PvP0mEN55WAPA/MQP8W78K8D+Y8CkEU+LvP7dfJltI6+8/9FM0mYX37z/qCA4wQM/vP35XcOEfqe8/HZBeSpe77z82xrR8l+XvP9KdtQDKy+8/CoZU4HnT7z9qgXUi2MbvP5DXWdeL8u8/z24PBfz67z9yf41JK9nvP3c3knfm9O8/qyJwsaHy7z9CallPxSbwP0RGpvIx5u8/OL9O8EP47z8rF7kVtu7vP/qhNmKbDvA/KYiL5HgS8D+ZhW6zuhDwP16DfC9kKfA/3nA3SkoG8D+1lnmfjdzvP6KgGtvp5O8/m/B8NXnS7z8OhzoUQGDwP5YFcEl9BPA/0bzsw77/7z83U+S7sRbwPyddfHTM6e8/b+R/V9La7z+Ob2crCwPwPx1S/nmIFfA/5X/5J7Xa7z+3ZINMmP/vP0ZrGhu2AfA/I9P/QYTt7z/wc806bfvvPyrxKyYF4u8/ZulqwVjr7z8tRzJpDwvwPyuQZWLHtu8/iJcM0Xmq7z+dcxPhNt3vP1sI0KaJu+8/B8TFLkvg7z9CqFUGShjwP3Ebk5rU8e8/50SIFbIa8D9psGYzRTvwPx5djE+IOPA/UDt8O6TV7z9v4FACoB/wP2F4cL1ewu8/iEevgXsD8D8Jb+voG83vPw6HN/Q56O8/haNBc4K17z8jUfM8ai/wP9CVfOwJ3e8/tLI4HbYS8D9Aq+tq1CjwP3SfjBkQEPA/sV3EjsjN7z+4LeKLpf3vP7oAZDvX9+8/IUTVoabR7z+PSqEGyiHwP/sSe3PPju8/7JAccqYX8D+p9GiyHgTwP8Y1GG64UvA/BypFjxt07j/CUqxwiaPvPy4lQ1FFy+8/n9cfrga/7z9L0dALmRTwP/BXUTMfku8/SV+dKyeO7z/RPzSp8ArwPyNCBy5M++8/PAIJCbJN8D+vj5tJoG/vP0O1jLGUtO8/NQUf31I+8D/DvDuZeunvP8KFLls9EfA/b+TWTjbk7z9tvJgDTDzwP53BE6PFb+8/Wsx2yrDb7j9mnmLeDzvwP5fM98Z0HvA/QQyHtXEl8D+uVTEqVGbsP/U4dGuwqPA/eXbS39Ko7j+Y6Yb0JALwPxxjhTaCJvA/v73Un19x8D8FAxqfAHTwP+nRHKb6nO8/hoThuYbV7z9AKMNc9W3vP+xAAQAFdO8/xmSndFXD7z9rgEoY3NrvP6I42LqHxO8/AHvLqKQA8D/63T7EO+ruP2husw0wye8/J2JgHIRS7z+oGTBeoqHvP/bW8uTVv+8/kdHbExyg8D81wV3EJA7wP9Dysa775O8/6Nx5FZoV8D+t5uOapujvPwkiLxyrQvA/zUoAUJhl7z8WH8ku2tXvPzUXpcTHDvA/SWbOt0oG8D9iDuR7th3wP3BCvZ2JDPA/BTIg4Aos8D8vOV64ggnwP2RcFDZOvO8/aYUOqinB7z+kf+LNsODvPz6ps2mnQPA/AEk+4qS07z9Y89zwndLvP+jGxuqbi+8/kd8C6Fbj7z+Pb4oWKHfvP5mUAYDS0+8/xLGSG3zj7z+LxePEXwDwP69HglLW5e8/hTDZrPHr7z++SwrL5fXvP/SNeTWmyu8/JD0XsrnY7z+zMoWVIuHvP87HzdgZ1O8/kVJUT/bf7z9fK3NIQu/vP7qjehJ1uu8/Gltj2bXh7z+kM7LqhbTvP8fMnsnZ3e8/m6FcRfTd7z+/ylYQN07vPynj7dLkwe8/VIB3PDdX8D9I5TGWYPzvP/8jxYP14u8/k5LBfUPi7z+1nvJXUP7vP5eYjb/Q8O8/DgrUCgre7z9LTLGyD+/vP3pvt3d04u8//247PVTC7z+r6HvZes3vPyM0V9wU2O8/Tf8Vtu3h7z8B9ZiYpu3vP/JOdZtX/u8/DfoS+eT87z/DrHjwt8LvP1/mjgE8HvA/TO3zzsyS8D8PK1k8Rd/wP/xyFpJ87+8/l6Sq+Fj37z+aKzp8aAPwP/dZyPDu+O8/5DxOunXy7z/LrBGhDwLwP5BJj4W88e8/5bN5fLwG8D+5kdVjAP3vPyu62PtRCPA/xf8psyr17z/eMCdeafjvP/Cfvahm6u8/AoneUnHa7z+7AxXPPPLvP1Gf5TGP4+8/mANQDLTr7z+dOsTtIwHwP3+UIxSB+u8/6eH405vs7z/QI7B7SfXvP5iqTxIL7O8/aRneXi3Y7z+Zfz/NPObvP/8ntzTb9+8/tc0L2vD27z9/mX0kYALwP+yXRYHy/u8/Gx2n8H337z/RO1Im/+PvPyn0jeeW4O8/W8qkzOfe7z9SY3xskefvP+v23qZJ7O8/y+JxvG3y7z9remzleOzvP74dRET49+8/VVvDTBrp7z9NUGwSq/nvPzKEKOh33e8/x/ZFmvzh7z8W515fBObvP5DkbW58/+8/Xv0RzFTr7z8vC0HJg/rvP46aU2eI++8/ccGkakj77z/P1J9S6wLwP8H4bAGX+O8/z/9olPQB8D9tZJlb/QLwP/gqDcn9BPA/UaR8e8fp7z/l2NhF1/fvP47JBwuNAvA/11MBmsL97z/yHsnCnezvP+wK2OOvC/A/2o2TXAIC8D99VcVs19bvP77MPZjP5u8/8IiyJiHn7z/SpZxNYeXvP0RD625B7+8/hfIkGMIa8D8j7HjJY/zvP9oPALqm+O8/4YoleHb37z8iUhS4KgnwP0BYekY1APA/zg4HB8mY7z9TuwUfC+rvP7uTUAynRfA/07Z2Okun7z/0b6PHhhDwPy2WyAcqBPA/R0U3gbEN8D/svTUtamPvP2OuWiSrou8/Lc1k9COc7z8i6j4xS5jvPyBVZEjfDfA/AXOP/STr7z9i/yF/0ePvPw+IM2hm+O8/p+BjoUz27z+3waxtXtXvP4DVY7tJFfA/AtTEheUM8D83Am/cQ/DvPzulPtgeBvA/BsPxRUy77z+1K5uCa9jvP1w3Kxwu1u8/TkV4t1oA8D/1bj1PFe/vP6zfCQDeCPA/BpFfofj/7z/GW0+aJ/nvPxC4zYSD7u8/x/p2aeX/7z8a1YL7lwvwPyIRzaPRI/A/fWU7IHrf7z92NG6HixrwPwa115c5/O8/hRhDdtIT8D8qiPbG7AHwP6WlTY2/AfA/zV/n/zXf7z8oEacSG+zvPyGjW9Xub+8/RxjmvSgJ8D/6F2cZ5k/vP3sR2thr5O8/2ZmnFzkM8D8/71oUfgzwP3JA4Pz/EvA/CvtriQnk7z87yd/LKvnvPy4EDSDH6e8/2YRJLxmy7z8vPSGKDv3vP+GNK5+J9e8/1xxusrHs7z8u5vezj/rvP90ipuTqCfA/nGCtDVMU8D+MxkdbBjzwPzkjZgfQJPA/DgLHNf4G8D8lr7s8lB/wP59or1RqLvA/gq5k5Wrm7z+guLnxF+HvP+xvoMqhPPA/myoh4lMs8D+2fYGHgtDvP6jJTXjaB/A/RIc8+JXm7z9qdV2v/RzwP16TuTlfRvA/8FWdixNR8D8Lr7TXozvwP9XC1mQoLfA/pbKeq63D7z/UsVaTrzLwP9tdjTALcvA/FnIVp0ky8D8wyLwdPPzvPwx9Nq1WCvA/QpHWURkZ8D8PuTtxJ/HvP/k3Raax1+8/edxDBhVI8D84w8bzkErwP805TrepT/A/HQEkqYDs7z/Up8HLg5rvP/FmJzr9EvA/poIRr0UJ8D84KZ6XE77vPzgkqtXQ4+8/1rWIRSU18D/bl9enbyLwP1tT0mdx9O8/cb9jjcsK8D88vPyMvGbwPwp5IFZwd/A/BKHYDxPe7z/jZuVho8DvPzY6h3bWMvA/mzT1vzIk8D8t+2nEXyLwP7BWbM8sAPA/a8smjDXw7z9mIkt6z2bvPxmhex4l5O8/9yiGeAhe8D8vmvugQHLwPyGlWqboPPA/+x18RvIU8D9fEiVxpJzvP9r2RP94B/A/a3ZM1czo7z/I4z3WoLfvP4LMaGHh7+8/sVXdSrX/7z9fPvz7i/fvP8ZWwoEM4+8/48KWAC/z7z/HDQL1BQ7wP5OTYngZBPA/kXJE2Lb87z9ZV8mpY9DvP1UjU20e/e8/lN2MgpQL8D9ksRWNGPXvP86Rz9dtF/A/NGopq/Ep8D/aF2iMBMbvP7w6xBbly+8/cYyB20gf8D+fTEs+VQ/wPzYC5cmzye8/Q6EeiWe17z8AJ3cwGc/vP+ynw69o7e8/CTBFoW7a7z9Z4KZ33yTwPxbLEZPUH/A/ZRzszlhV8D9Wuh5WSPzvP0BNc/bJ6u8/8D186N8F8D85xLfY+J/vP/6d27aSg+8/Fl+O268C8D9Hoxb1ff3vP1F+cBt3jPA/WYlMchcT8D8PNdA3RATwP+FDR/eXne8/KzKBhlcf8D8arNJe/wrwP54WcdfAy+8/0MW7xhUI8D9/V8KTCRTwP/+pw9kJ6e8/UgHYtjIC8D9XkGgILffvP4hFZaQy3u8/jSmQNSIJ8D9ofNnK0z/vP0VaCHU6KvA/M4Dy1iUh8D8jFsPoEDbwP+gZJ7+QT/A/gbWVC7pD8D/65cNX2wbwPxTXRM0/M/A/AgjfK57W7z/RFjW6xk/vP70g6FhxMu8/e6m6h4WW7z+8tpYfrhvwP4pa2jrWV/A/6IfbGDqX7z/DrPFvRkvwP/aDfuaWn+8/MJ+Okfie7z/uQKM4vPDvPyKet+2k/u8/I8NyKFts7z9sLPbmkGbwP8qf+Z4HUvA/9glwMaHU7z9ybyf0pxrwP4n9kf3j6u8/7ekesAsw8D9SRljAzHDwP6MwI19bAfA/26pGOaIo8D+pMRYE1BzwP4XUIaUFZPA/roo8WmR48D+p6FrnFrnvP3d6rkAs3e8/kw2gLSbQ7j+vrsDUWgnwP1jw8v6gL/A/xzKPEVLZ7z8xc7Osew3wPy05H33dA/A/UHFsYVwN8D9E9OGCQ+/vP2Q2/oMTKPA/8G5odSIX8D9w5DebWSTwPzAVdYuHL/A/35hzk5oK8D/Vc+5GgFHwP6BHSSRjUPA/OHDwNMk/8D8cN5bWGCfwP28v5i4W5+8/Xg1GVC8I8D+PNTOETfXvPytNzXLa/+8/Dknrqy4P8D+NhAxyNc3vPxAH9esP5O8/wp8ycm3W7z9JyFLWaQTvPwulwkWZzO8/wha6a1xO7z/yVgxau8bvP9ET3VoQ/e8/JL5i5Djc7z88S73TTurvP9lA8vWYI/A/c0xwOs/t7z8Qbxjl3dnvP8L6deBUwe8/7e1wGi7t7z/M6u8qMM/vP5r2YY5C/O8/MpUPwjMC8D/JcG8WSx/wP/bHqFemw+8/XI04rTvo7z/gIJGYdFnwP7wFi6+CXe8/BjEY59MA8D+VQHkmPZrvP8HTtMr0BPA/hrKavRfh7z+ZhMGq6yDwPwpTxfcUx+8/tm4nlkDN7z+5kMJoTcjvP8fXfiHDte8/Uo/KWRgb8D/R7D0fpa7vPzufZcXQ7+8/s9pNqmAf8D8yqnqD7MTvP9MQu8i2CvA/mo9nc4EC8D9C8SPf0vLvP0T5avN96O8/LshWuavo7z+vOH/CNknwPyJBlCTuD/A/kwIPbXPL7z8w/4oARQLwP2sSX/d6iO8/G6iJqT4T8D+uRt6mAQrwP9L4LAY3MfA/l2qqGrZS8D+OrvuIm/jvP38Zdl+1lO8/DvcJkpcS8D8coG0mJ7nvPw8VGuBkrO8/Zuy0F8Kk7z+QYrOLvJLvPxa8r9MVDvA/DJ7m/dLq7z/5/aXflwXwPyF8HxG0DO8/tg8/43TG7z9Cup8SXNHvPxQ6gITZqe8/i9hTksoT8D/hnztopP7vP0jWeH0o3O8/1823BzML8D8Wt10NhN/vP/4m8bHT8u8/8tGzcp0f8D8JRYabGs7vP6SQ2Q0IHvA/l06n8Uj47z/n0xy7T/7vPxOZFbq0BvA/HL+ub9/j7z8kH4JNYv7vPxUU45TK7u8/fYq/B2i+7z//Tkg19g/wP1d4vlJmMPA/NQHYkOMb8D8l3NQlTB7wP9jLm/P9E/A/EdjrWmEo8D/1WZ2LBBfwPyd4eP9IEfA/TJtjYlXy7z9OLfkyBf7vP0DuvPawHfA/OidbuFDi7z/MxfOaUwfwP6WRfk3FC/A/Qi3EdA4E8D8/aeQ9YgjwP2BXCBn+7O8/EY1bPeIO8D9Z+I8CBRPwPyJYJtllL/A/wHjycLsO8D/KIRPLPfrvP0RUcwHnBvA/6ASKWoAO8D/skps1ByHwP8DJIeSsBfA/wupOA/j07z+CYAOm8d3vP3IxXWm69+8/2zO9Ozn/7z/zON6kC+zvPyrgcdTkB/A/od2dpLII8D+36kjGyvjvP3d43e/49e8/HmR3A23h7z8D/Fu7awzwP08soCpGxe8/jkxI3VDc7z+rz/kCQavvP6wG2+P59+8/M7Vji2by7z+EuZKwcw3wP457Lti1FvA/k+NiZTve7z/h6CiCFCTwP/JfK0yA/u8/eMC/IMs/8D8BGCfCtAPwP2ZcbkyA7+8/P95LBSzu7z+zssRrKQfwP/9J+u8GBfA/VrjW6cb77z+9fpqwnizvPwfi+Hqx1+8/UAmIaBzR7z90dofgbf/vP1lj4ey56e8/axoeq3Tx7z+eKo4YESfwP7VcgPyt0u8/izeo9wgL8D9S6f096AXwP4wrmH985u8/1GHn8WjS7z9+rZ2JIPjvPxx1kA4nC/A/sd611LUe8D+mEgveG93vP2WTa0P0qe8/nH60QibM7z82s5BqniDwPyfD/LLA6+8/zybsbZ+97z/zfmwLlwvwP/oZbBqNy+8/WnTE/BmY7z+saCATh+7vP7mkOGj7hu8/xd+qfwzr7z+9+/feBvPvP7T35pgdyu8/VhoENbOf7z9pnSdLUc3vPz8RepitC/A/hJADpeXb7z8P5O2MRezvP9/0MJMi8O8/ZRhgJwXq7z9hWxbGvgjwP5Jc/pix2u8/J2wkInHa7z/Gwy+RkfzvP3wrzoSg5u8/kwRhLyHy7z+H8PCJxOLvP8Byh/lh6+8/ThrmR50C8D8brrDptvPvP6pE8Rjd+u8/J0uHJWX37z+k94GJAQHwPy6HzsLz2O8/cKytMjvd7z863zm3T7nvP6tCUePP7+8/nOTkaCAe8D9DIph/rNbvPwQ4XUTe5O8/S9FBHQDg7z8kq/h7/8bvP9BWzl+NuO8/a/nVNPEN8D9UiiV5BgPwP2C6n4LeBvA/1Ph5pbcT8D/LJscGMQrwP8VKg7GpAfA/HEFRJU4D8D9ZRjUaTgbwP7tZAtvW4O8/mlXU9qLw7z9i9PHdfNjvP8jEBgRK2O8/K3iBFhoL8D+f48cjEfTvP+5cBlKk9O8/zQXTl7/Z7z9wI5/YCdXvPyb2OY3h1e8/5dUt9iPy7z9GKb0ldurvP9vlPfNz3+8/ZpKDcIwF8D8NfrY6sfXvP2SDvPMHBfA/9hjTYBwA8D9t/Fhnbx/wPxqipWYf/u8/a824Ek0C8D/o4ngPG9DvP2G/mm4VAvA/9ahWmfT87z92HLbCKv/vP9lbbvBA1u8/gVeyLm/k7z8sm76tpgTwP9CgqHXGvu8/ZLwvpsgI8D+JBeoaCALwPzi3XNGfA/A/p09zOWoG8D/QwywqmPvvP4/M6RRn8e8/Evd/940L8D/18bG1KwDwP7pE4UMPFfA/KxSOHn747z++M4PZrwzwP5e9s0OXAvA/nAWoQ6PZ7z9hq+JaZAXwP938obQz4u8/mWMyPkkC8D/xOFoQ7e7vP3nNczCY/e8/MUNFY4Hm7z+8n3vh2PTvP1pPkNz85O8/QB9VhYi67z/PgNV/Pu3vPwxi4PsMyO8/cN7gV8jN7z+eaQ8jxvDvPx9qt7hC7O8/tHRTtCAB8D8wAcLmRNbvP+WZZMy08e8/d/3H7RPO7z8cIkmZVuXvPxVtOTVGzu8/W2jju6Hi7z+6Bi0YMOnvP3i7lpno1u8/tVsiKZLG7z+RIWPvH+HvP/Pme1k05e8/SRrFP+/07z/74csiXwPwP2Nc0D/F5O8/jMmlqDz07z/ObRX2u/LvP4otWPRZ6u8/xX85rRXe7z/OTwrnH/HvP2mZ2KBW9+8/fmqWwdP37z/Hm+s3LO3vP7pEOE2jDfA/7suyKIv47z8TSOrGggjwP32rLVMR9O8/u8gOnxsD8D8v0b7BVfzvP0fDVDOhBfA/6v6rYd3d7z9kYZfe6Q/wP/L9nMZa9e8/5uun3qAD8D9oWgbMuvXvP2Zil7Y+DvA/RvxkjEj47z918hnk/RbwP63qGokJBfA/tdsEX0UC8D+qVYQtVQrwPw5OvoGK/O8/ppG5qcn27z/i0ywOEPbvP/VIrY0CB/A/Rl2Bxk7+7z+gVj7ingTwP2VShiseCfA/udwWL0nH7z9bYlqoYPbvPwrc3m1z5+8/IMTnaIvd7z+o5IWbx/nvP5P734Fg7+8/6bLrk0Ps7z/CWuTra7DvP6sROVCEru8/02MmuzIF8D+cwv6IdQXwPzY17kJDBfA/I+GB9MTu7z+nO5GobwLwP1Mw9msc/O8/KukocUP27z/x6C/px/TvP6RFdl7F9O8/5lEjnVP97z/a+w2eUwHwPxOoW90sCfA/xYuNTKUC8D95+57+KwPwP5KgSR/YBvA/6XKTPCMI8D8nN45DdQPwP93IQo6MBfA/bVT/IGwC8D+5FHab5QXwP+bhNCzuAvA/8J0gtuz77z8P7ir8NAHwP/8LFtSEEvA/z92qkEPn7z9+KSEfV//vP1k3lLs68u8/FDk256gD8D9Bzrna0xXwP4FL6qHgCvA/+0zJkNAI8D8ETyyG+RPwP+xE33UQCfA/NjSWXaQG8D9qRZgDCgvwPwzJvI7X/e8/EDKyy0r97z+9KkitXQnwP9dTw40W/u8/NMA0r40G8D9MAAUEHAfwPzUjvGyE/+8/iYZm5vD/7z9EH3mWwfjvP1586jBGBvA/CDLpM0kD8D/xUQ0Brf7vP9ZI18b+A/A/gs/3ki8C8D9cT8v6fvzvP+ew1+njA/A/td85X+QA8D+XkafyGALwPzTdIfDX/+8/MdlaJH/67z811vcAjALwP3HwW0TZ9e8/J7cY940D8D/ZVd/jzvnvPzZrJQLa++8/2Qd/o8L67z8v04P8nwHwPwRFIfQoA/A/lBAIAJwY8D/2uiU7lP/vP6sB1R/R6e8/rf8tNR3b7z9b0JtdofXvPzC94n2OBvA/YEmWCOHe7z+roUacygLwP2qirQ9CDfA/nFMEp9ER8D9wrAKsitnvP7DZ8FxHAfA/JMBiW5YQ8D+MADok8QfwP36f47xUC/A/0mYrwDIH8D8RbksDRAHwP7U0l0VD++8/w9eFwJ8E8D+6mXENuQLwP2aMwBWY7u8/Y3dL0cz77z+M+bNmNPrvP7rf/9J+CvA/m5Gw+EQD8D9fJZVg3PrvP5Ju5hljCPA/wsDstUgB8D9+dtUa9vfvP6Y/mb1p/e8/ZDmxj3UJ8D9voezydgzwP5T9MXPMAfA/LMteXbAG8D8e6wDuqQbwPzXRZDeCAvA/6PshKXIC8D+2Zmt4KwLwP99kYSG4CPA/8CsxYTAD8D9XEhGf/wjwPzj2Umu9AfA/9OdO6wf07z9jqGf/YwfwPy7FTafFE/A/ZzpgtUMI8D+faIsbQxLwPyPfeMjQC/A/nH5LvigH8D8ADFSYbw7wP0VsncIVC/A/sgjAPUQD8D8=\",\"dtype\":\"float64\",\"order\":\"little\",\"shape\":[1096]},\"time\":{\"__ndarray__\":\"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\",\"dtype\":\"float64\",\"order\":\"little\",\"shape\":[1096]}},\"selected\":{\"id\":\"2965\"},\"selection_policy\":{\"id\":\"2986\"}},\"id\":\"2964\",\"type\":\"ColumnDataSource\"},{\"attributes\":{},\"id\":\"2974\",\"type\":\"DatetimeTickFormatter\"},{\"attributes\":{},\"id\":\"2948\",\"type\":\"BasicTicker\"},{\"attributes\":{},\"id\":\"2978\",\"type\":\"AllLabels\"},{\"attributes\":{},\"id\":\"2975\",\"type\":\"AllLabels\"},{\"attributes\":{},\"id\":\"2965\",\"type\":\"Selection\"},{\"attributes\":{\"axis_label\":\"Date\",\"coordinates\":null,\"formatter\":{\"id\":\"2974\"},\"group\":null,\"major_label_policy\":{\"id\":\"2975\"},\"ticker\":{\"id\":\"2944\"}},\"id\":\"2943\",\"type\":\"DatetimeAxis\"},{\"attributes\":{\"bottom_units\":\"screen\",\"coordinates\":null,\"fill_alpha\":0.5,\"fill_color\":\"lightgrey\",\"group\":null,\"left_units\":\"screen\",\"level\":\"overlay\",\"line_alpha\":1.0,\"line_color\":\"black\",\"line_dash\":[4,4],\"line_width\":2,\"right_units\":\"screen\",\"syncable\":false,\"top_units\":\"screen\"},\"id\":\"2956\",\"type\":\"BoxAnnotation\"},{\"attributes\":{\"margin\":[5,5,5,5],\"name\":\"HSpacer03514\",\"sizing_mode\":\"stretch_width\"},\"id\":\"3023\",\"type\":\"Spacer\"},{\"attributes\":{},\"id\":\"2939\",\"type\":\"LinearScale\"},{\"attributes\":{},\"id\":\"2986\",\"type\":\"UnionRenderers\"},{\"attributes\":{\"num_minor_ticks\":5,\"tickers\":[{\"id\":\"2989\"},{\"id\":\"2990\"},{\"id\":\"2991\"},{\"id\":\"2992\"},{\"id\":\"2993\"},{\"id\":\"2994\"},{\"id\":\"2995\"},{\"id\":\"2996\"},{\"id\":\"2997\"},{\"id\":\"2998\"},{\"id\":\"2999\"},{\"id\":\"3000\"}]},\"id\":\"2944\",\"type\":\"DatetimeTicker\"},{\"attributes\":{\"mantissas\":[1,2,5],\"max_interval\":500.0,\"num_minor_ticks\":0},\"id\":\"2989\",\"type\":\"AdaptiveTicker\"},{\"attributes\":{},\"id\":\"2953\",\"type\":\"WheelZoomTool\"},{\"attributes\":{\"base\":24,\"mantissas\":[1,2,4,6,8,12],\"max_interval\":43200000.0,\"min_interval\":3600000.0,\"num_minor_ticks\":0},\"id\":\"2991\",\"type\":\"AdaptiveTicker\"},{\"attributes\":{\"axis\":{\"id\":\"2943\"},\"coordinates\":null,\"grid_line_color\":null,\"group\":null,\"ticker\":null},\"id\":\"2946\",\"type\":\"Grid\"},{\"attributes\":{\"days\":[1,2,3,4,5,6,7,8,9,10,11,12,13,14,15,16,17,18,19,20,21,22,23,24,25,26,27,28,29,30,31]},\"id\":\"2992\",\"type\":\"DaysTicker\"},{\"attributes\":{\"axis\":{\"id\":\"2947\"},\"coordinates\":null,\"dimension\":1,\"grid_line_color\":null,\"group\":null,\"ticker\":null},\"id\":\"2950\",\"type\":\"Grid\"},{\"attributes\":{\"days\":[1,4,7,10,13,16,19,22,25,28]},\"id\":\"2993\",\"type\":\"DaysTicker\"},{\"attributes\":{\"axis_label\":\"Price\",\"coordinates\":null,\"formatter\":{\"id\":\"2977\"},\"group\":null,\"major_label_policy\":{\"id\":\"2978\"},\"ticker\":{\"id\":\"2948\"}},\"id\":\"2947\",\"type\":\"LinearAxis\"},{\"attributes\":{\"line_alpha\":0.1,\"line_color\":\"#30a2da\",\"line_width\":2,\"x\":{\"field\":\"time\"},\"y\":{\"field\":\"prices\"}},\"id\":\"2968\",\"type\":\"Line\"},{\"attributes\":{\"margin\":[5,5,5,5],\"name\":\"HSpacer03513\",\"sizing_mode\":\"stretch_width\"},\"id\":\"2930\",\"type\":\"Spacer\"},{\"attributes\":{\"days\":[1,8,15,22]},\"id\":\"2994\",\"type\":\"DaysTicker\"},{\"attributes\":{\"base\":60,\"mantissas\":[1,2,5,10,15,20,30],\"max_interval\":1800000.0,\"min_interval\":1000.0,\"num_minor_ticks\":0},\"id\":\"2990\",\"type\":\"AdaptiveTicker\"},{\"attributes\":{\"coordinates\":null,\"data_source\":{\"id\":\"2964\"},\"glyph\":{\"id\":\"2967\"},\"group\":null,\"hover_glyph\":null,\"muted_glyph\":{\"id\":\"2969\"},\"nonselection_glyph\":{\"id\":\"2968\"},\"selection_glyph\":{\"id\":\"2972\"},\"view\":{\"id\":\"2971\"}},\"id\":\"2970\",\"type\":\"GlyphRenderer\"},{\"attributes\":{\"days\":[1,15]},\"id\":\"2995\",\"type\":\"DaysTicker\"},{\"attributes\":{\"line_alpha\":0.2,\"line_color\":\"#30a2da\",\"line_width\":2,\"x\":{\"field\":\"time\"},\"y\":{\"field\":\"prices\"}},\"id\":\"2969\",\"type\":\"Line\"},{\"attributes\":{\"months\":[0,1,2,3,4,5,6,7,8,9,10,11]},\"id\":\"2996\",\"type\":\"MonthsTicker\"},{\"attributes\":{\"line_color\":\"#30a2da\",\"line_width\":2,\"x\":{\"field\":\"time\"},\"y\":{\"field\":\"prices\"}},\"id\":\"2967\",\"type\":\"Line\"},{\"attributes\":{\"months\":[0,2,4,6,8,10]},\"id\":\"2997\",\"type\":\"MonthsTicker\"},{\"attributes\":{\"coordinates\":null,\"group\":null,\"text\":\"Gemini Dollar Daily Prices May 2020 - May 2022\",\"text_color\":\"black\",\"text_font_size\":\"12pt\"},\"id\":\"2935\",\"type\":\"Title\"},{\"attributes\":{},\"id\":\"2977\",\"type\":\"BasicTickFormatter\"},{\"attributes\":{\"below\":[{\"id\":\"2943\"}],\"center\":[{\"id\":\"2946\"},{\"id\":\"2950\"}],\"height\":300,\"left\":[{\"id\":\"2947\"}],\"margin\":[5,5,5,5],\"min_border_bottom\":10,\"min_border_left\":10,\"min_border_right\":10,\"min_border_top\":10,\"renderers\":[{\"id\":\"2970\"}],\"sizing_mode\":\"fixed\",\"title\":{\"id\":\"2935\"},\"toolbar\":{\"id\":\"2957\"},\"width\":700,\"x_range\":{\"id\":\"2931\"},\"x_scale\":{\"id\":\"2939\"},\"y_range\":{\"id\":\"2932\"},\"y_scale\":{\"id\":\"2941\"}},\"id\":\"2934\",\"subtype\":\"Figure\",\"type\":\"Plot\"},{\"attributes\":{},\"id\":\"2951\",\"type\":\"SaveTool\"},{\"attributes\":{\"months\":[0,4,8]},\"id\":\"2998\",\"type\":\"MonthsTicker\"},{\"attributes\":{\"end\":1.0712111960109656,\"reset_end\":1.0712111960109656,\"reset_start\":0.8707894964931948,\"start\":0.8707894964931948,\"tags\":[[[\"prices\",\"prices\",null]]]},\"id\":\"2932\",\"type\":\"Range1d\"},{\"attributes\":{},\"id\":\"2952\",\"type\":\"PanTool\"},{\"attributes\":{\"months\":[0,6]},\"id\":\"2999\",\"type\":\"MonthsTicker\"},{\"attributes\":{\"children\":[{\"id\":\"2930\"},{\"id\":\"2934\"},{\"id\":\"3023\"}],\"margin\":[0,0,0,0],\"name\":\"Row03509\",\"tags\":[\"embedded\"]},\"id\":\"2929\",\"type\":\"Row\"},{\"attributes\":{\"line_color\":\"#30a2da\",\"line_width\":2,\"x\":{\"field\":\"time\"},\"y\":{\"field\":\"prices\"}},\"id\":\"2972\",\"type\":\"Line\"},{\"attributes\":{\"callback\":null,\"formatters\":{\"@{time}\":\"datetime\"},\"renderers\":[{\"id\":\"2970\"}],\"tags\":[\"hv_created\"],\"tooltips\":[[\"time\",\"@{time}{%F %T}\"],[\"prices\",\"@{prices}\"]]},\"id\":\"2933\",\"type\":\"HoverTool\"},{\"attributes\":{},\"id\":\"3000\",\"type\":\"YearsTicker\"},{\"attributes\":{\"tools\":[{\"id\":\"2933\"},{\"id\":\"2951\"},{\"id\":\"2952\"},{\"id\":\"2953\"},{\"id\":\"2954\"},{\"id\":\"2955\"}]},\"id\":\"2957\",\"type\":\"Toolbar\"},{\"attributes\":{\"overlay\":{\"id\":\"2956\"}},\"id\":\"2954\",\"type\":\"BoxZoomTool\"},{\"attributes\":{},\"id\":\"2941\",\"type\":\"LinearScale\"},{\"attributes\":{\"end\":1653091200000.0,\"reset_end\":1653091200000.0,\"reset_start\":1558483200000.0,\"start\":1558483200000.0,\"tags\":[[[\"time\",\"time\",null]]]},\"id\":\"2931\",\"type\":\"Range1d\"},{\"attributes\":{\"source\":{\"id\":\"2964\"}},\"id\":\"2971\",\"type\":\"CDSView\"},{\"attributes\":{},\"id\":\"2955\",\"type\":\"ResetTool\"}],\"root_ids\":[\"2929\"]},\"title\":\"Bokeh Application\",\"version\":\"2.4.1\"}};\n",
       "    var render_items = [{\"docid\":\"1f26421c-7c56-4ecb-bb49-4ab05c010750\",\"root_ids\":[\"2929\"],\"roots\":{\"2929\":\"adc5811c-0255-429c-ba61-5d0634f95703\"}}];\n",
       "    root.Bokeh.embed.embed_items_notebook(docs_json, render_items);\n",
       "  }\n",
       "  if (root.Bokeh !== undefined && root.Bokeh.Panel !== undefined) {\n",
       "    embed_document(root);\n",
       "  } else {\n",
       "    var attempts = 0;\n",
       "    var timer = setInterval(function(root) {\n",
       "      if (root.Bokeh !== undefined && root.Bokeh.Panel !== undefined) {\n",
       "        clearInterval(timer);\n",
       "        embed_document(root);\n",
       "      } else if (document.readyState == \"complete\") {\n",
       "        attempts++;\n",
       "        if (attempts > 200) {\n",
       "          clearInterval(timer);\n",
       "          console.log(\"Bokeh: ERROR: Unable to run BokehJS code because BokehJS library is missing\");\n",
       "        }\n",
       "      }\n",
       "    }, 25, root)\n",
       "  }\n",
       "})(window);</script>"
      ],
      "text/plain": [
       ":Curve   [time]   (prices)"
      ]
     },
     "execution_count": 81,
     "metadata": {
      "application/vnd.holoviews_exec.v0+json": {
       "id": "2929"
      }
     },
     "output_type": "execute_result"
    }
   ],
   "source": [
    "# Plotting Daily Prices\n",
    "gusd_price_plot = gusd.hvplot.line(\n",
    "    x='time',\n",
    "    y='prices',\n",
    "    xlabel='Date',\n",
    "    ylabel='Price',\n",
    "    title='Gemini Dollar Daily Prices May 2020 - May 2022'\n",
    ")\n",
    "# save as .png\n",
    "# hvplot.save(gusd_price_plot, 'images/gusd_price.png')\n",
    "\n",
    "#display plot\n",
    "gusd_price_plot"
   ]
  },
  {
   "cell_type": "code",
   "execution_count": 82,
   "id": "60e6bc7a-6e99-4b67-8ee7-dbe26b3cfa6f",
   "metadata": {},
   "outputs": [
    {
     "name": "stdout",
     "output_type": "stream",
     "text": [
      "GUSD had 149 arbitrage opportunities\n"
     ]
    }
   ],
   "source": [
    "# Counting frequency of prices where the price was above or below its peg \n",
    "# by an amount equal to or greather than the margin\n",
    "gusd_arb = gusd['prices'][gusd['prices'] <= (peg-margin)].count() + gusd['prices'][gusd['prices'] >= (peg+margin)].count()\n",
    "print(f\"GUSD had {gusd_arb} arbitrage opportunities\")"
   ]
  },
  {
   "cell_type": "code",
   "execution_count": 83,
   "id": "f133aea9-fd1f-4951-9b4c-9d80b0852838",
   "metadata": {
    "tags": []
   },
   "outputs": [],
   "source": [
    "# Creating variables for standard deviation and mean \n",
    "gusd_mean = gusd.describe().loc['mean','prices']\n",
    "gusd_std = gusd.describe().loc['std','prices']"
   ]
  },
  {
   "cell_type": "markdown",
   "id": "b59a04b4-1272-4cf1-a6bc-f183915d72f0",
   "metadata": {},
   "source": [
    "### USDT : US Dollar Tether"
   ]
  },
  {
   "cell_type": "code",
   "execution_count": 84,
   "id": "03d3f5cf-305f-4388-9adf-0521295fba7f",
   "metadata": {},
   "outputs": [
    {
     "data": {
      "text/html": [
       "<div>\n",
       "<style scoped>\n",
       "    .dataframe tbody tr th:only-of-type {\n",
       "        vertical-align: middle;\n",
       "    }\n",
       "\n",
       "    .dataframe tbody tr th {\n",
       "        vertical-align: top;\n",
       "    }\n",
       "\n",
       "    .dataframe thead th {\n",
       "        text-align: right;\n",
       "    }\n",
       "</style>\n",
       "<table border=\"1\" class=\"dataframe\">\n",
       "  <thead>\n",
       "    <tr style=\"text-align: right;\">\n",
       "      <th></th>\n",
       "      <th>prices</th>\n",
       "      <th>market_caps</th>\n",
       "      <th>total_volumes</th>\n",
       "    </tr>\n",
       "    <tr>\n",
       "      <th>time</th>\n",
       "      <th></th>\n",
       "      <th></th>\n",
       "      <th></th>\n",
       "    </tr>\n",
       "  </thead>\n",
       "  <tbody>\n",
       "    <tr>\n",
       "      <th>2019-05-22</th>\n",
       "      <td>1.000570</td>\n",
       "      <td>2.056883e+09</td>\n",
       "      <td>2.651286e+10</td>\n",
       "    </tr>\n",
       "    <tr>\n",
       "      <th>2019-05-23</th>\n",
       "      <td>1.001483</td>\n",
       "      <td>2.061262e+09</td>\n",
       "      <td>2.797105e+10</td>\n",
       "    </tr>\n",
       "    <tr>\n",
       "      <th>2019-05-24</th>\n",
       "      <td>1.001855</td>\n",
       "      <td>2.063260e+09</td>\n",
       "      <td>2.932611e+10</td>\n",
       "    </tr>\n",
       "    <tr>\n",
       "      <th>2019-05-25</th>\n",
       "      <td>1.001235</td>\n",
       "      <td>2.060613e+09</td>\n",
       "      <td>2.551885e+10</td>\n",
       "    </tr>\n",
       "    <tr>\n",
       "      <th>2019-05-26</th>\n",
       "      <td>1.007065</td>\n",
       "      <td>2.068333e+09</td>\n",
       "      <td>2.897424e+10</td>\n",
       "    </tr>\n",
       "  </tbody>\n",
       "</table>\n",
       "</div>"
      ],
      "text/plain": [
       "              prices   market_caps  total_volumes\n",
       "time                                             \n",
       "2019-05-22  1.000570  2.056883e+09   2.651286e+10\n",
       "2019-05-23  1.001483  2.061262e+09   2.797105e+10\n",
       "2019-05-24  1.001855  2.063260e+09   2.932611e+10\n",
       "2019-05-25  1.001235  2.060613e+09   2.551885e+10\n",
       "2019-05-26  1.007065  2.068333e+09   2.897424e+10"
      ]
     },
     "execution_count": 84,
     "metadata": {},
     "output_type": "execute_result"
    }
   ],
   "source": [
    "# Pulling in api data for USDT\n",
    "usdt_url = 'https://api.coingecko.com/api/v3/coins/tether/market_chart?vs_currency=usd&days=1095&interval=daily'\n",
    "\n",
    "# cleaning url. displaying DataFrame\n",
    "usdt = coin_gecko_cleaner(usdt_url)\n",
    "\n",
    "# inspect dataframe\n",
    "usdt.head()"
   ]
  },
  {
   "cell_type": "code",
   "execution_count": 85,
   "id": "21129c96-02a9-446a-805f-e3bfaf284bf2",
   "metadata": {},
   "outputs": [
    {
     "data": {},
     "metadata": {},
     "output_type": "display_data"
    },
    {
     "data": {
      "application/vnd.holoviews_exec.v0+json": "",
      "text/html": [
       "<div id='3135'>\n",
       "\n",
       "\n",
       "\n",
       "\n",
       "\n",
       "  <div class=\"bk-root\" id=\"6553d3f0-9f4f-4fee-a4d2-45d2cb8e2886\" data-root-id=\"3135\"></div>\n",
       "</div>\n",
       "<script type=\"application/javascript\">(function(root) {\n",
       "  function embed_document(root) {\n",
       "    var docs_json = {\"35e42638-5fee-4fc2-a3fe-b003f49df362\":{\"defs\":[{\"extends\":null,\"module\":null,\"name\":\"ReactiveHTML1\",\"overrides\":[],\"properties\":[]},{\"extends\":null,\"module\":null,\"name\":\"FlexBox1\",\"overrides\":[],\"properties\":[{\"default\":\"flex-start\",\"kind\":null,\"name\":\"align_content\"},{\"default\":\"flex-start\",\"kind\":null,\"name\":\"align_items\"},{\"default\":\"row\",\"kind\":null,\"name\":\"flex_direction\"},{\"default\":\"wrap\",\"kind\":null,\"name\":\"flex_wrap\"},{\"default\":\"flex-start\",\"kind\":null,\"name\":\"justify_content\"}]},{\"extends\":null,\"module\":null,\"name\":\"GridStack1\",\"overrides\":[],\"properties\":[{\"default\":\"warn\",\"kind\":null,\"name\":\"mode\"},{\"default\":null,\"kind\":null,\"name\":\"ncols\"},{\"default\":null,\"kind\":null,\"name\":\"nrows\"},{\"default\":true,\"kind\":null,\"name\":\"allow_resize\"},{\"default\":true,\"kind\":null,\"name\":\"allow_drag\"},{\"default\":[],\"kind\":null,\"name\":\"state\"}]},{\"extends\":null,\"module\":null,\"name\":\"click1\",\"overrides\":[],\"properties\":[{\"default\":\"\",\"kind\":null,\"name\":\"terminal_output\"},{\"default\":\"\",\"kind\":null,\"name\":\"debug_name\"},{\"default\":0,\"kind\":null,\"name\":\"clears\"}]},{\"extends\":null,\"module\":null,\"name\":\"TemplateActions1\",\"overrides\":[],\"properties\":[{\"default\":0,\"kind\":null,\"name\":\"open_modal\"},{\"default\":0,\"kind\":null,\"name\":\"close_modal\"}]},{\"extends\":null,\"module\":null,\"name\":\"MaterialTemplateActions1\",\"overrides\":[],\"properties\":[{\"default\":0,\"kind\":null,\"name\":\"open_modal\"},{\"default\":0,\"kind\":null,\"name\":\"close_modal\"}]}],\"roots\":{\"references\":[{\"attributes\":{\"end\":1653091200000.0,\"reset_end\":1653091200000.0,\"reset_start\":1558483200000.0,\"start\":1558483200000.0,\"tags\":[[[\"time\",\"time\",null]]]},\"id\":\"3137\",\"type\":\"Range1d\"},{\"attributes\":{\"base\":60,\"mantissas\":[1,2,5,10,15,20,30],\"max_interval\":1800000.0,\"min_interval\":1000.0,\"num_minor_ticks\":0},\"id\":\"3196\",\"type\":\"AdaptiveTicker\"},{\"attributes\":{},\"id\":\"3154\",\"type\":\"BasicTicker\"},{\"attributes\":{\"base\":24,\"mantissas\":[1,2,4,6,8,12],\"max_interval\":43200000.0,\"min_interval\":3600000.0,\"num_minor_ticks\":0},\"id\":\"3197\",\"type\":\"AdaptiveTicker\"},{\"attributes\":{\"axis\":{\"id\":\"3153\"},\"coordinates\":null,\"dimension\":1,\"grid_line_color\":null,\"group\":null,\"ticker\":null},\"id\":\"3156\",\"type\":\"Grid\"},{\"attributes\":{\"line_color\":\"#30a2da\",\"line_width\":2,\"x\":{\"field\":\"time\"},\"y\":{\"field\":\"prices\"}},\"id\":\"3173\",\"type\":\"Line\"},{\"attributes\":{},\"id\":\"3181\",\"type\":\"AllLabels\"},{\"attributes\":{\"days\":[1,15]},\"id\":\"3201\",\"type\":\"DaysTicker\"},{\"attributes\":{\"axis_label\":\"Price\",\"coordinates\":null,\"formatter\":{\"id\":\"3183\"},\"group\":null,\"major_label_policy\":{\"id\":\"3184\"},\"ticker\":{\"id\":\"3154\"}},\"id\":\"3153\",\"type\":\"LinearAxis\"},{\"attributes\":{\"months\":[0,1,2,3,4,5,6,7,8,9,10,11]},\"id\":\"3202\",\"type\":\"MonthsTicker\"},{\"attributes\":{\"line_alpha\":0.2,\"line_color\":\"#30a2da\",\"line_width\":2,\"x\":{\"field\":\"time\"},\"y\":{\"field\":\"prices\"}},\"id\":\"3175\",\"type\":\"Line\"},{\"attributes\":{\"days\":[1,2,3,4,5,6,7,8,9,10,11,12,13,14,15,16,17,18,19,20,21,22,23,24,25,26,27,28,29,30,31]},\"id\":\"3198\",\"type\":\"DaysTicker\"},{\"attributes\":{\"coordinates\":null,\"data_source\":{\"id\":\"3170\"},\"glyph\":{\"id\":\"3173\"},\"group\":null,\"hover_glyph\":null,\"muted_glyph\":{\"id\":\"3175\"},\"nonselection_glyph\":{\"id\":\"3174\"},\"selection_glyph\":{\"id\":\"3178\"},\"view\":{\"id\":\"3177\"}},\"id\":\"3176\",\"type\":\"GlyphRenderer\"},{\"attributes\":{\"months\":[0,2,4,6,8,10]},\"id\":\"3203\",\"type\":\"MonthsTicker\"},{\"attributes\":{\"end\":1.0153357440758093,\"reset_end\":1.0153357440758093,\"reset_start\":0.9787921707600981,\"start\":0.9787921707600981,\"tags\":[[[\"prices\",\"prices\",null]]]},\"id\":\"3138\",\"type\":\"Range1d\"},{\"attributes\":{\"line_color\":\"#30a2da\",\"line_width\":2,\"x\":{\"field\":\"time\"},\"y\":{\"field\":\"prices\"}},\"id\":\"3178\",\"type\":\"Line\"},{\"attributes\":{\"months\":[0,4,8]},\"id\":\"3204\",\"type\":\"MonthsTicker\"},{\"attributes\":{},\"id\":\"3183\",\"type\":\"BasicTickFormatter\"},{\"attributes\":{\"children\":[{\"id\":\"3136\"},{\"id\":\"3140\"},{\"id\":\"3229\"}],\"margin\":[0,0,0,0],\"name\":\"Row03688\",\"tags\":[\"embedded\"]},\"id\":\"3135\",\"type\":\"Row\"},{\"attributes\":{},\"id\":\"3180\",\"type\":\"DatetimeTickFormatter\"},{\"attributes\":{\"days\":[1,4,7,10,13,16,19,22,25,28]},\"id\":\"3199\",\"type\":\"DaysTicker\"},{\"attributes\":{\"months\":[0,6]},\"id\":\"3205\",\"type\":\"MonthsTicker\"},{\"attributes\":{\"margin\":[5,5,5,5],\"name\":\"HSpacer03692\",\"sizing_mode\":\"stretch_width\"},\"id\":\"3136\",\"type\":\"Spacer\"},{\"attributes\":{},\"id\":\"3157\",\"type\":\"SaveTool\"},{\"attributes\":{},\"id\":\"3206\",\"type\":\"YearsTicker\"},{\"attributes\":{\"mantissas\":[1,2,5],\"max_interval\":500.0,\"num_minor_ticks\":0},\"id\":\"3195\",\"type\":\"AdaptiveTicker\"},{\"attributes\":{\"callback\":null,\"formatters\":{\"@{time}\":\"datetime\"},\"renderers\":[{\"id\":\"3176\"}],\"tags\":[\"hv_created\"],\"tooltips\":[[\"time\",\"@{time}{%F %T}\"],[\"prices\",\"@{prices}\"]]},\"id\":\"3139\",\"type\":\"HoverTool\"},{\"attributes\":{},\"id\":\"3158\",\"type\":\"PanTool\"},{\"attributes\":{\"coordinates\":null,\"group\":null,\"text\":\"USDT Daily Prices May 2020 - May 2022\",\"text_color\":\"black\",\"text_font_size\":\"12pt\"},\"id\":\"3141\",\"type\":\"Title\"},{\"attributes\":{\"below\":[{\"id\":\"3149\"}],\"center\":[{\"id\":\"3152\"},{\"id\":\"3156\"}],\"height\":300,\"left\":[{\"id\":\"3153\"}],\"margin\":[5,5,5,5],\"min_border_bottom\":10,\"min_border_left\":10,\"min_border_right\":10,\"min_border_top\":10,\"renderers\":[{\"id\":\"3176\"}],\"sizing_mode\":\"fixed\",\"title\":{\"id\":\"3141\"},\"toolbar\":{\"id\":\"3163\"},\"width\":700,\"x_range\":{\"id\":\"3137\"},\"x_scale\":{\"id\":\"3145\"},\"y_range\":{\"id\":\"3138\"},\"y_scale\":{\"id\":\"3147\"}},\"id\":\"3140\",\"subtype\":\"Figure\",\"type\":\"Plot\"},{\"attributes\":{},\"id\":\"3159\",\"type\":\"WheelZoomTool\"},{\"attributes\":{\"margin\":[5,5,5,5],\"name\":\"HSpacer03693\",\"sizing_mode\":\"stretch_width\"},\"id\":\"3229\",\"type\":\"Spacer\"},{\"attributes\":{\"tools\":[{\"id\":\"3139\"},{\"id\":\"3157\"},{\"id\":\"3158\"},{\"id\":\"3159\"},{\"id\":\"3160\"},{\"id\":\"3161\"}]},\"id\":\"3163\",\"type\":\"Toolbar\"},{\"attributes\":{\"days\":[1,8,15,22]},\"id\":\"3200\",\"type\":\"DaysTicker\"},{\"attributes\":{},\"id\":\"3147\",\"type\":\"LinearScale\"},{\"attributes\":{\"overlay\":{\"id\":\"3162\"}},\"id\":\"3160\",\"type\":\"BoxZoomTool\"},{\"attributes\":{\"source\":{\"id\":\"3170\"}},\"id\":\"3177\",\"type\":\"CDSView\"},{\"attributes\":{\"data\":{\"prices\":{\"__ndarray__\":\"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\",\"dtype\":\"float64\",\"order\":\"little\",\"shape\":[1095]},\"time\":{\"__ndarray__\":\"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\",\"dtype\":\"float64\",\"order\":\"little\",\"shape\":[1095]}},\"selected\":{\"id\":\"3171\"},\"selection_policy\":{\"id\":\"3192\"}},\"id\":\"3170\",\"type\":\"ColumnDataSource\"},{\"attributes\":{\"line_alpha\":0.1,\"line_color\":\"#30a2da\",\"line_width\":2,\"x\":{\"field\":\"time\"},\"y\":{\"field\":\"prices\"}},\"id\":\"3174\",\"type\":\"Line\"},{\"attributes\":{},\"id\":\"3184\",\"type\":\"AllLabels\"},{\"attributes\":{},\"id\":\"3192\",\"type\":\"UnionRenderers\"},{\"attributes\":{},\"id\":\"3161\",\"type\":\"ResetTool\"},{\"attributes\":{\"axis\":{\"id\":\"3149\"},\"coordinates\":null,\"grid_line_color\":null,\"group\":null,\"ticker\":null},\"id\":\"3152\",\"type\":\"Grid\"},{\"attributes\":{\"bottom_units\":\"screen\",\"coordinates\":null,\"fill_alpha\":0.5,\"fill_color\":\"lightgrey\",\"group\":null,\"left_units\":\"screen\",\"level\":\"overlay\",\"line_alpha\":1.0,\"line_color\":\"black\",\"line_dash\":[4,4],\"line_width\":2,\"right_units\":\"screen\",\"syncable\":false,\"top_units\":\"screen\"},\"id\":\"3162\",\"type\":\"BoxAnnotation\"},{\"attributes\":{\"axis_label\":\"Date\",\"coordinates\":null,\"formatter\":{\"id\":\"3180\"},\"group\":null,\"major_label_policy\":{\"id\":\"3181\"},\"ticker\":{\"id\":\"3150\"}},\"id\":\"3149\",\"type\":\"DatetimeAxis\"},{\"attributes\":{},\"id\":\"3171\",\"type\":\"Selection\"},{\"attributes\":{},\"id\":\"3145\",\"type\":\"LinearScale\"},{\"attributes\":{\"num_minor_ticks\":5,\"tickers\":[{\"id\":\"3195\"},{\"id\":\"3196\"},{\"id\":\"3197\"},{\"id\":\"3198\"},{\"id\":\"3199\"},{\"id\":\"3200\"},{\"id\":\"3201\"},{\"id\":\"3202\"},{\"id\":\"3203\"},{\"id\":\"3204\"},{\"id\":\"3205\"},{\"id\":\"3206\"}]},\"id\":\"3150\",\"type\":\"DatetimeTicker\"}],\"root_ids\":[\"3135\"]},\"title\":\"Bokeh Application\",\"version\":\"2.4.1\"}};\n",
       "    var render_items = [{\"docid\":\"35e42638-5fee-4fc2-a3fe-b003f49df362\",\"root_ids\":[\"3135\"],\"roots\":{\"3135\":\"6553d3f0-9f4f-4fee-a4d2-45d2cb8e2886\"}}];\n",
       "    root.Bokeh.embed.embed_items_notebook(docs_json, render_items);\n",
       "  }\n",
       "  if (root.Bokeh !== undefined && root.Bokeh.Panel !== undefined) {\n",
       "    embed_document(root);\n",
       "  } else {\n",
       "    var attempts = 0;\n",
       "    var timer = setInterval(function(root) {\n",
       "      if (root.Bokeh !== undefined && root.Bokeh.Panel !== undefined) {\n",
       "        clearInterval(timer);\n",
       "        embed_document(root);\n",
       "      } else if (document.readyState == \"complete\") {\n",
       "        attempts++;\n",
       "        if (attempts > 200) {\n",
       "          clearInterval(timer);\n",
       "          console.log(\"Bokeh: ERROR: Unable to run BokehJS code because BokehJS library is missing\");\n",
       "        }\n",
       "      }\n",
       "    }, 25, root)\n",
       "  }\n",
       "})(window);</script>"
      ],
      "text/plain": [
       ":Curve   [time]   (prices)"
      ]
     },
     "execution_count": 85,
     "metadata": {
      "application/vnd.holoviews_exec.v0+json": {
       "id": "3135"
      }
     },
     "output_type": "execute_result"
    }
   ],
   "source": [
    "# Plotting Daily Prices\n",
    "usdt_price_plot = usdt.hvplot.line(\n",
    "    x='time',\n",
    "    y='prices',\n",
    "    xlabel='Date',\n",
    "    ylabel='Price',\n",
    "    title='USDT Daily Prices May 2020 - May 2022'\n",
    ")\n",
    "# saving plot as .png\n",
    "# hvplot.save(usdt_price_plot, 'images/usdt_price.png')\n",
    "\n",
    "#display plot\n",
    "usdt_price_plot"
   ]
  },
  {
   "cell_type": "code",
   "execution_count": 86,
   "id": "3eeebf85-2a9e-4659-a09f-2a3d1c5b0406",
   "metadata": {},
   "outputs": [
    {
     "name": "stdout",
     "output_type": "stream",
     "text": [
      "USDT had 6 arbitrage opportunities\n"
     ]
    }
   ],
   "source": [
    "# Counting frequency of prices where the price was above or below its peg \n",
    "# by an amount equal to or greather than the margin\n",
    "usdt_arb = usdt['prices'][usdt['prices'] <= (peg-margin)].count() + usdt['prices'][usdt['prices'] >= (peg+margin)].count()\n",
    "print(f\"USDT had {usdt_arb} arbitrage opportunities\")"
   ]
  },
  {
   "cell_type": "code",
   "execution_count": 87,
   "id": "14a6631a-8002-4f2f-a73d-39931f0f3556",
   "metadata": {
    "tags": []
   },
   "outputs": [],
   "source": [
    "# Creating variables for standard deviation and mean \n",
    "usdt_mean = usdt.describe().loc['mean','prices']\n",
    "usdt_std = usdt.describe().loc['std','prices']"
   ]
  },
  {
   "cell_type": "markdown",
   "id": "4c9ecd0e-fa83-46b8-b2a1-0cf9776627b1",
   "metadata": {
    "tags": []
   },
   "source": [
    "### USDP : Paxos-Standard"
   ]
  },
  {
   "cell_type": "code",
   "execution_count": 88,
   "id": "44b4fa48-aadc-42b7-b865-8cdb1173a1c9",
   "metadata": {},
   "outputs": [
    {
     "data": {
      "text/html": [
       "<div>\n",
       "<style scoped>\n",
       "    .dataframe tbody tr th:only-of-type {\n",
       "        vertical-align: middle;\n",
       "    }\n",
       "\n",
       "    .dataframe tbody tr th {\n",
       "        vertical-align: top;\n",
       "    }\n",
       "\n",
       "    .dataframe thead th {\n",
       "        text-align: right;\n",
       "    }\n",
       "</style>\n",
       "<table border=\"1\" class=\"dataframe\">\n",
       "  <thead>\n",
       "    <tr style=\"text-align: right;\">\n",
       "      <th></th>\n",
       "      <th>prices</th>\n",
       "      <th>market_caps</th>\n",
       "      <th>total_volumes</th>\n",
       "    </tr>\n",
       "    <tr>\n",
       "      <th>time</th>\n",
       "      <th></th>\n",
       "      <th></th>\n",
       "      <th></th>\n",
       "    </tr>\n",
       "  </thead>\n",
       "  <tbody>\n",
       "    <tr>\n",
       "      <th>2019-05-22</th>\n",
       "      <td>0.997595</td>\n",
       "      <td>1.777255e+08</td>\n",
       "      <td>5.043136e+08</td>\n",
       "    </tr>\n",
       "    <tr>\n",
       "      <th>2019-05-23</th>\n",
       "      <td>0.997621</td>\n",
       "      <td>1.775881e+08</td>\n",
       "      <td>5.593109e+08</td>\n",
       "    </tr>\n",
       "    <tr>\n",
       "      <th>2019-05-24</th>\n",
       "      <td>0.995586</td>\n",
       "      <td>1.767331e+08</td>\n",
       "      <td>5.430040e+08</td>\n",
       "    </tr>\n",
       "    <tr>\n",
       "      <th>2019-05-25</th>\n",
       "      <td>0.995438</td>\n",
       "      <td>1.759668e+08</td>\n",
       "      <td>4.033268e+08</td>\n",
       "    </tr>\n",
       "    <tr>\n",
       "      <th>2019-05-26</th>\n",
       "      <td>0.995349</td>\n",
       "      <td>1.758233e+08</td>\n",
       "      <td>5.640232e+08</td>\n",
       "    </tr>\n",
       "  </tbody>\n",
       "</table>\n",
       "</div>"
      ],
      "text/plain": [
       "              prices   market_caps  total_volumes\n",
       "time                                             \n",
       "2019-05-22  0.997595  1.777255e+08   5.043136e+08\n",
       "2019-05-23  0.997621  1.775881e+08   5.593109e+08\n",
       "2019-05-24  0.995586  1.767331e+08   5.430040e+08\n",
       "2019-05-25  0.995438  1.759668e+08   4.033268e+08\n",
       "2019-05-26  0.995349  1.758233e+08   5.640232e+08"
      ]
     },
     "execution_count": 88,
     "metadata": {},
     "output_type": "execute_result"
    }
   ],
   "source": [
    "# Pulling in api data for USDP\n",
    "usdp_url = 'https://api.coingecko.com/api/v3/coins/paxos-standard/market_chart?vs_currency=usd&days=1095&interval=daily'\n",
    "\n",
    "# cleaning url. Displaying DataFrame\n",
    "usdp = coin_gecko_cleaner(usdp_url)\n",
    "\n",
    "# inspect dataframe\n",
    "usdp.head()"
   ]
  },
  {
   "cell_type": "code",
   "execution_count": 89,
   "id": "880562a1-0fbe-4d81-865a-f95f7182c506",
   "metadata": {},
   "outputs": [
    {
     "data": {},
     "metadata": {},
     "output_type": "display_data"
    },
    {
     "data": {
      "application/vnd.holoviews_exec.v0+json": "",
      "text/html": [
       "<div id='3341'>\n",
       "\n",
       "\n",
       "\n",
       "\n",
       "\n",
       "  <div class=\"bk-root\" id=\"db8ea1ea-7e0b-454d-8ee1-1424c6ba04bd\" data-root-id=\"3341\"></div>\n",
       "</div>\n",
       "<script type=\"application/javascript\">(function(root) {\n",
       "  function embed_document(root) {\n",
       "    var docs_json = {\"86b29583-77af-4ee0-bd70-47de92ef289e\":{\"defs\":[{\"extends\":null,\"module\":null,\"name\":\"ReactiveHTML1\",\"overrides\":[],\"properties\":[]},{\"extends\":null,\"module\":null,\"name\":\"FlexBox1\",\"overrides\":[],\"properties\":[{\"default\":\"flex-start\",\"kind\":null,\"name\":\"align_content\"},{\"default\":\"flex-start\",\"kind\":null,\"name\":\"align_items\"},{\"default\":\"row\",\"kind\":null,\"name\":\"flex_direction\"},{\"default\":\"wrap\",\"kind\":null,\"name\":\"flex_wrap\"},{\"default\":\"flex-start\",\"kind\":null,\"name\":\"justify_content\"}]},{\"extends\":null,\"module\":null,\"name\":\"GridStack1\",\"overrides\":[],\"properties\":[{\"default\":\"warn\",\"kind\":null,\"name\":\"mode\"},{\"default\":null,\"kind\":null,\"name\":\"ncols\"},{\"default\":null,\"kind\":null,\"name\":\"nrows\"},{\"default\":true,\"kind\":null,\"name\":\"allow_resize\"},{\"default\":true,\"kind\":null,\"name\":\"allow_drag\"},{\"default\":[],\"kind\":null,\"name\":\"state\"}]},{\"extends\":null,\"module\":null,\"name\":\"click1\",\"overrides\":[],\"properties\":[{\"default\":\"\",\"kind\":null,\"name\":\"terminal_output\"},{\"default\":\"\",\"kind\":null,\"name\":\"debug_name\"},{\"default\":0,\"kind\":null,\"name\":\"clears\"}]},{\"extends\":null,\"module\":null,\"name\":\"TemplateActions1\",\"overrides\":[],\"properties\":[{\"default\":0,\"kind\":null,\"name\":\"open_modal\"},{\"default\":0,\"kind\":null,\"name\":\"close_modal\"}]},{\"extends\":null,\"module\":null,\"name\":\"MaterialTemplateActions1\",\"overrides\":[],\"properties\":[{\"default\":0,\"kind\":null,\"name\":\"open_modal\"},{\"default\":0,\"kind\":null,\"name\":\"close_modal\"}]}],\"roots\":{\"references\":[{\"attributes\":{\"months\":[0,4,8]},\"id\":\"3410\",\"type\":\"MonthsTicker\"},{\"attributes\":{\"below\":[{\"id\":\"3355\"}],\"center\":[{\"id\":\"3358\"},{\"id\":\"3362\"}],\"height\":300,\"left\":[{\"id\":\"3359\"}],\"margin\":[5,5,5,5],\"min_border_bottom\":10,\"min_border_left\":10,\"min_border_right\":10,\"min_border_top\":10,\"renderers\":[{\"id\":\"3382\"}],\"sizing_mode\":\"fixed\",\"title\":{\"id\":\"3347\"},\"toolbar\":{\"id\":\"3369\"},\"width\":700,\"x_range\":{\"id\":\"3343\"},\"x_scale\":{\"id\":\"3351\"},\"y_range\":{\"id\":\"3344\"},\"y_scale\":{\"id\":\"3353\"}},\"id\":\"3346\",\"subtype\":\"Figure\",\"type\":\"Plot\"},{\"attributes\":{},\"id\":\"3364\",\"type\":\"PanTool\"},{\"attributes\":{},\"id\":\"3390\",\"type\":\"AllLabels\"},{\"attributes\":{\"base\":24,\"mantissas\":[1,2,4,6,8,12],\"max_interval\":43200000.0,\"min_interval\":3600000.0,\"num_minor_ticks\":0},\"id\":\"3403\",\"type\":\"AdaptiveTicker\"},{\"attributes\":{\"months\":[0,6]},\"id\":\"3411\",\"type\":\"MonthsTicker\"},{\"attributes\":{},\"id\":\"3365\",\"type\":\"WheelZoomTool\"},{\"attributes\":{\"tools\":[{\"id\":\"3345\"},{\"id\":\"3363\"},{\"id\":\"3364\"},{\"id\":\"3365\"},{\"id\":\"3366\"},{\"id\":\"3367\"}]},\"id\":\"3369\",\"type\":\"Toolbar\"},{\"attributes\":{},\"id\":\"3360\",\"type\":\"BasicTicker\"},{\"attributes\":{},\"id\":\"3412\",\"type\":\"YearsTicker\"},{\"attributes\":{\"callback\":null,\"formatters\":{\"@{time}\":\"datetime\"},\"renderers\":[{\"id\":\"3382\"}],\"tags\":[\"hv_created\"],\"tooltips\":[[\"time\",\"@{time}{%F %T}\"],[\"prices\",\"@{prices}\"]]},\"id\":\"3345\",\"type\":\"HoverTool\"},{\"attributes\":{\"overlay\":{\"id\":\"3368\"}},\"id\":\"3366\",\"type\":\"BoxZoomTool\"},{\"attributes\":{},\"id\":\"3351\",\"type\":\"LinearScale\"},{\"attributes\":{\"mantissas\":[1,2,5],\"max_interval\":500.0,\"num_minor_ticks\":0},\"id\":\"3401\",\"type\":\"AdaptiveTicker\"},{\"attributes\":{},\"id\":\"3387\",\"type\":\"AllLabels\"},{\"attributes\":{},\"id\":\"3353\",\"type\":\"LinearScale\"},{\"attributes\":{},\"id\":\"3367\",\"type\":\"ResetTool\"},{\"attributes\":{\"bottom_units\":\"screen\",\"coordinates\":null,\"fill_alpha\":0.5,\"fill_color\":\"lightgrey\",\"group\":null,\"left_units\":\"screen\",\"level\":\"overlay\",\"line_alpha\":1.0,\"line_color\":\"black\",\"line_dash\":[4,4],\"line_width\":2,\"right_units\":\"screen\",\"syncable\":false,\"top_units\":\"screen\"},\"id\":\"3368\",\"type\":\"BoxAnnotation\"},{\"attributes\":{\"margin\":[5,5,5,5],\"name\":\"HSpacer03872\",\"sizing_mode\":\"stretch_width\"},\"id\":\"3435\",\"type\":\"Spacer\"},{\"attributes\":{\"coordinates\":null,\"group\":null,\"text\":\"Paxos-Standard Daily Prices May 2020 - May 2022\",\"text_color\":\"black\",\"text_font_size\":\"12pt\"},\"id\":\"3347\",\"type\":\"Title\"},{\"attributes\":{\"line_color\":\"#30a2da\",\"line_width\":2,\"x\":{\"field\":\"time\"},\"y\":{\"field\":\"prices\"}},\"id\":\"3379\",\"type\":\"Line\"},{\"attributes\":{\"margin\":[5,5,5,5],\"name\":\"HSpacer03871\",\"sizing_mode\":\"stretch_width\"},\"id\":\"3342\",\"type\":\"Spacer\"},{\"attributes\":{\"axis_label\":\"Date\",\"coordinates\":null,\"formatter\":{\"id\":\"3386\"},\"group\":null,\"major_label_policy\":{\"id\":\"3387\"},\"ticker\":{\"id\":\"3356\"}},\"id\":\"3355\",\"type\":\"DatetimeAxis\"},{\"attributes\":{},\"id\":\"3389\",\"type\":\"BasicTickFormatter\"},{\"attributes\":{\"data\":{\"prices\":{\"__ndarray__\":\"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\",\"dtype\":\"float64\",\"order\":\"little\",\"shape\":[1096]},\"time\":{\"__ndarray__\":\"AACAZs2tdkIAAEDMH652QgAAADJyrnZCAADAl8SudkIAAID9Fq92QgAAQGNpr3ZCAAAAybuvdkIAAMAuDrB2QgAAgJRgsHZCAABA+rKwdkIAAABgBbF2QgAAwMVXsXZCAACAK6qxdkIAAECR/LF2QgAAAPdOsnZCAADAXKGydkIAAIDC87J2QgAAQChGs3ZCAAAAjpizdkIAAMDz6rN2QgAAgFk9tHZCAABAv4+0dkIAAAAl4rR2QgAAwIo0tXZCAACA8Ia1dkIAAEBW2bV2QgAAALwrtnZCAADAIX62dkIAAICH0LZ2QgAAQO0it3ZCAAAAU3W3dkIAAMC4x7d2QgAAgB4auHZCAABAhGy4dkIAAADqvrh2QgAAwE8RuXZCAACAtWO5dkIAAEAbtrl2QgAAAIEIunZCAADA5lq6dkIAAIBMrbp2QgAAQLL/unZCAAAAGFK7dkIAAMB9pLt2QgAAgOP2u3ZCAABASUm8dkIAAACvm7x2QgAAwBTuvHZCAACAekC9dkIAAEDgkr12QgAAAEblvXZCAADAqze+dkIAAIARir52QgAAQHfcvnZCAAAA3S6/dkIAAMBCgb92QgAAgKjTv3ZCAABADibAdkIAAAB0eMB2QgAAwNnKwHZCAACAPx3BdkIAAEClb8F2QgAAAAvCwXZCAADAcBTCdkIAAIDWZsJ2QgAAQDy5wnZCAAAAogvDdkIAAMAHXsN2QgAAgG2ww3ZCAABA0wLEdkIAAAA5VcR2QgAAwJ6nxHZCAACABPrEdkIAAEBqTMV2QgAAANCexXZCAADANfHFdkIAAICbQ8Z2QgAAQAGWxnZCAAAAZ+jGdkIAAMDMOsd2QgAAgDKNx3ZCAABAmN/HdkIAAAD+Mch2QgAAwGOEyHZCAACAydbIdkIAAEAvKcl2QgAAAJV7yXZCAADA+s3JdkIAAIBgIMp2QgAAQMZyynZCAAAALMXKdkIAAMCRF8t2QgAAgPdpy3ZCAABAXbzLdkIAAADDDsx2QgAAwChhzHZCAACAjrPMdkIAAED0Bc12QgAAAFpYzXZCAADAv6rNdkIAAIAl/c12QgAAQItPznZCAAAA8aHOdkIAAMBW9M52QgAAgLxGz3ZCAABAIpnPdkIAAACI6892QgAAwO090HZCAACAU5DQdkIAAEC54tB2QgAAAB810XZCAADAhIfRdkIAAIDq2dF2QgAAQFAs0nZCAAAAtn7SdkIAAMAb0dJ2QgAAgIEj03ZCAABA53XTdkIAAABNyNN2QgAAwLIa1HZCAACAGG3UdkIAAEB+v9R2QgAAAOQR1XZCAADASWTVdkIAAICvttV2QgAAQBUJ1nZCAAAAe1vWdkIAAMDgrdZ2QgAAgEYA13ZCAABArFLXdkIAAAASpdd2QgAAwHf313ZCAACA3UnYdkIAAEBDnNh2QgAAAKnu2HZCAADADkHZdkIAAIB0k9l2QgAAQNrl2XZCAAAAQDjadkIAAMClitp2QgAAgAvd2nZCAABAcS/bdkIAAADXgdt2QgAAwDzU23ZCAACAoibcdkIAAEAIedx2QgAAAG7L3HZCAADA0x3ddkIAAIA5cN12QgAAQJ/C3XZCAAAABRXedkIAAMBqZ952QgAAgNC53nZCAABANgzfdkIAAACcXt92QgAAwAGx33ZCAACAZwPgdkIAAEDNVeB2QgAAADOo4HZCAADAmPrgdkIAAID+TOF2QgAAQGSf4XZCAAAAyvHhdkIAAMAvROJ2QgAAgJWW4nZCAABA++jidkIAAABhO+N2QgAAwMaN43ZCAACALODjdkIAAECSMuR2QgAAAPiE5HZCAADAXdfkdkIAAIDDKeV2QgAAQCl85XZCAAAAj87ldkIAAMD0IOZ2QgAAgFpz5nZCAABAwMXmdkIAAAAmGOd2QgAAwItq53ZCAACA8bzndkIAAEBXD+h2QgAAAL1h6HZCAADAIrTodkIAAICIBul2QgAAQO5Y6XZCAAAAVKvpdkIAAMC5/el2QgAAgB9Q6nZCAABAhaLqdkIAAADr9Op2QgAAwFBH63ZCAACAtpnrdkIAAEAc7Ot2QgAAAII+7HZCAADA55DsdkIAAIBN4+x2QgAAQLM17XZCAAAAGYjtdkIAAMB+2u12QgAAgOQs7nZCAABASn/udkIAAACw0e52QgAAwBUk73ZCAACAe3bvdkIAAEDhyO92QgAAAEcb8HZCAADArG3wdkIAAIASwPB2QgAAQHgS8XZCAAAA3mTxdkIAAMBDt/F2QgAAgKkJ8nZCAABAD1zydkIAAAB1rvJ2QgAAwNoA83ZCAACAQFPzdkIAAECmpfN2QgAAAAz483ZCAADAcUr0dkIAAIDXnPR2QgAAQD3v9HZCAAAAo0H1dkIAAMAIlPV2QgAAgG7m9XZCAABA1Dj2dkIAAAA6i/Z2QgAAwJ/d9nZCAACABTD3dkIAAEBrgvd2QgAAANHU93ZCAADANif4dkIAAICcefh2QgAAQALM+HZCAAAAaB75dkIAAMDNcPl2QgAAgDPD+XZCAABAmRX6dkIAAAD/Z/p2QgAAwGS6+nZCAACAygz7dkIAAEAwX/t2QgAAAJax+3ZCAADA+wP8dkIAAIBhVvx2QgAAQMeo/HZCAAAALfv8dkIAAMCSTf12QgAAgPif/XZCAABAXvL9dkIAAADERP52QgAAwCmX/nZCAACAj+n+dkIAAED1O/92QgAAAFuO/3ZCAADAwOD/dkIAAIAmMwB3QgAAQIyFAHdCAAAA8tcAd0IAAMBXKgF3QgAAgL18AXdCAABAI88Bd0IAAACJIQJ3QgAAwO5zAndCAACAVMYCd0IAAEC6GAN3QgAAACBrA3dCAADAhb0Dd0IAAIDrDwR3QgAAQFFiBHdCAAAAt7QEd0IAAMAcBwV3QgAAgIJZBXdCAABA6KsFd0IAAABO/gV3QgAAwLNQBndCAACAGaMGd0IAAEB/9QZ3QgAAAOVHB3dCAADASpoHd0IAAICw7Ad3QgAAQBY/CHdCAAAAfJEId0IAAMDh4wh3QgAAgEc2CXdCAABArYgJd0IAAAAT2wl3QgAAwHgtCndCAACA3n8Kd0IAAEBE0gp3QgAAAKokC3dCAADAD3cLd0IAAIB1yQt3QgAAQNsbDHdCAAAAQW4Md0IAAMCmwAx3QgAAgAwTDXdCAABAcmUNd0IAAADYtw13QgAAwD0KDndCAACAo1wOd0IAAEAJrw53QgAAAG8BD3dCAADA1FMPd0IAAIA6pg93QgAAQKD4D3dCAAAABksQd0IAAMBrnRB3QgAAgNHvEHdCAABAN0IRd0IAAACdlBF3QgAAwALnEXdCAACAaDkSd0IAAEDOixJ3QgAAADTeEndCAADAmTATd0IAAID/ghN3QgAAQGXVE3dCAAAAyycUd0IAAMAwehR3QgAAgJbMFHdCAABA/B4Vd0IAAABicRV3QgAAwMfDFXdCAACALRYWd0IAAECTaBZ3QgAAAPm6FndCAADAXg0Xd0IAAIDEXxd3QgAAQCqyF3dCAAAAkAQYd0IAAMD1Vhh3QgAAgFupGHdCAABAwfsYd0IAAAAnThl3QgAAwIygGXdCAACA8vIZd0IAAEBYRRp3QgAAAL6XGndCAADAI+oad0IAAICJPBt3QgAAQO+OG3dCAAAAVeEbd0IAAMC6Mxx3QgAAgCCGHHdCAABAhtgcd0IAAADsKh13QgAAwFF9HXdCAACAt88dd0IAAEAdIh53QgAAAIN0HndCAADA6MYed0IAAIBOGR93QgAAQLRrH3dCAAAAGr4fd0IAAMB/ECB3QgAAgOViIHdCAABAS7Ugd0IAAACxByF3QgAAwBZaIXdCAACAfKwhd0IAAEDi/iF3QgAAAEhRIndCAADAraMid0IAAIAT9iJ3QgAAQHlII3dCAAAA35ojd0IAAMBE7SN3QgAAgKo/JHdCAABAEJIkd0IAAAB25CR3QgAAwNs2JXdCAACAQYkld0IAAECn2yV3QgAAAA0uJndCAADAcoAmd0IAAIDY0iZ3QgAAQD4lJ3dCAAAApHcnd0IAAMAJyid3QgAAgG8cKHdCAABA1W4od0IAAAA7wSh3QgAAwKATKXdCAACABmYpd0IAAEBsuCl3QgAAANIKKndCAADAN10qd0IAAICdryp3QgAAQAMCK3dCAAAAaVQrd0IAAMDOpit3QgAAgDT5K3dCAABAmkssd0IAAAAAnix3QgAAwGXwLHdCAACAy0Itd0IAAEAxlS13QgAAAJfnLXdCAADA/Dkud0IAAIBijC53QgAAQMjeLndCAAAALjEvd0IAAMCTgy93QgAAgPnVL3dCAABAXygwd0IAAADFejB3QgAAwCrNMHdCAACAkB8xd0IAAED2cTF3QgAAAFzEMXdCAADAwRYyd0IAAIAnaTJ3QgAAQI27MndCAAAA8w0zd0IAAMBYYDN3QgAAgL6yM3dCAABAJAU0d0IAAACKVzR3QgAAwO+pNHdCAACAVfw0d0IAAEC7TjV3QgAAACGhNXdCAADAhvM1d0IAAIDsRTZ3QgAAQFKYNndCAAAAuOo2d0IAAMAdPTd3QgAAgIOPN3dCAABA6eE3d0IAAABPNDh3QgAAwLSGOHdCAACAGtk4d0IAAECAKzl3QgAAAOZ9OXdCAADAS9A5d0IAAICxIjp3QgAAQBd1OndCAAAAfcc6d0IAAMDiGTt3QgAAgEhsO3dCAABArr47d0IAAAAUETx3QgAAwHljPHdCAACA37U8d0IAAEBFCD13QgAAAKtaPXdCAADAEK09d0IAAIB2/z13QgAAQNxRPndCAAAAQqQ+d0IAAMCn9j53QgAAgA1JP3dCAABAc5s/d0IAAADZ7T93QgAAwD5AQHdCAACApJJAd0IAAEAK5UB3QgAAAHA3QXdCAADA1YlBd0IAAIA73EF3QgAAQKEuQndCAAAAB4FCd0IAAMBs00J3QgAAgNIlQ3dCAABAOHhDd0IAAACeykN3QgAAwAMdRHdCAACAaW9Ed0IAAEDPwUR3QgAAADUURXdCAADAmmZFd0IAAIAAuUV3QgAAQGYLRndCAAAAzF1Gd0IAAMAxsEZ3QgAAgJcCR3dCAABA/VRHd0IAAABjp0d3QgAAwMj5R3dCAACALkxId0IAAECUnkh3QgAAAPrwSHdCAADAX0NJd0IAAIDFlUl3QgAAQCvoSXdCAAAAkTpKd0IAAMD2jEp3QgAAgFzfSndCAABAwjFLd0IAAAAohEt3QgAAwI3WS3dCAACA8yhMd0IAAEBZe0x3QgAAAL/NTHdCAADAJCBNd0IAAICKck13QgAAQPDETXdCAAAAVhdOd0IAAMC7aU53QgAAgCG8TndCAABAhw5Pd0IAAADtYE93QgAAwFKzT3dCAACAuAVQd0IAAEAeWFB3QgAAAISqUHdCAADA6fxQd0IAAIBPT1F3QgAAQLWhUXdCAAAAG/RRd0IAAMCARlJ3QgAAgOaYUndCAABATOtSd0IAAACyPVN3QgAAwBeQU3dCAACAfeJTd0IAAEDjNFR3QgAAAEmHVHdCAADArtlUd0IAAIAULFV3QgAAQHp+VXdCAAAA4NBVd0IAAMBFI1Z3QgAAgKt1VndCAABAEchWd0IAAAB3Gld3QgAAwNxsV3dCAACAQr9Xd0IAAECoEVh3QgAAAA5kWHdCAADAc7ZYd0IAAIDZCFl3QgAAQD9bWXdCAAAApa1Zd0IAAMAKAFp3QgAAgHBSWndCAABA1qRad0IAAAA891p3QgAAwKFJW3dCAACAB5xbd0IAAEBt7lt3QgAAANNAXHdCAADAOJNcd0IAAICe5Vx3QgAAQAQ4XXdCAAAAaopdd0IAAMDP3F13QgAAgDUvXndCAABAm4Fed0IAAAAB1F53QgAAwGYmX3dCAACAzHhfd0IAAEAyy193QgAAAJgdYHdCAADA/W9gd0IAAIBjwmB3QgAAQMkUYXdCAAAAL2dhd0IAAMCUuWF3QgAAgPoLYndCAABAYF5id0IAAADGsGJ3QgAAwCsDY3dCAACAkVVjd0IAAED3p2N3QgAAAF36Y3dCAADAwkxkd0IAAIAon2R3QgAAQI7xZHdCAAAA9ENld0IAAMBZlmV3QgAAgL/oZXdCAABAJTtmd0IAAACLjWZ3QgAAwPDfZndCAACAVjJnd0IAAEC8hGd3QgAAACLXZ3dCAADAhylod0IAAIDte2h3QgAAQFPOaHdCAAAAuSBpd0IAAMAec2l3QgAAgITFaXdCAABA6hdqd0IAAABQamp3QgAAwLW8andCAACAGw9rd0IAAECBYWt3QgAAAOeza3dCAADATAZsd0IAAICyWGx3QgAAQBirbHdCAAAAfv1sd0IAAMDjT213QgAAgEmibXdCAABAr/Rtd0IAAAAVR253QgAAwHqZbndCAACA4Otud0IAAEBGPm93QgAAAKyQb3dCAADAEeNvd0IAAIB3NXB3QgAAQN2HcHdCAAAAQ9pwd0IAAMCoLHF3QgAAgA5/cXdCAABAdNFxd0IAAADaI3J3QgAAwD92cndCAACApchyd0IAAEALG3N3QgAAAHFtc3dCAADA1r9zd0IAAIA8EnR3QgAAQKJkdHdCAAAACLd0d0IAAMBtCXV3QgAAgNNbdXdCAABAOa51d0IAAACfAHZ3QgAAwARTdndCAACAaqV2d0IAAEDQ93Z3QgAAADZKd3dCAADAm5x3d0IAAIAB73d3QgAAQGdBeHdCAAAAzZN4d0IAAMAy5nh3QgAAgJg4eXdCAABA/op5d0IAAABk3Xl3QgAAwMkvendCAACAL4J6d0IAAECV1Hp3QgAAAPsme3dCAADAYHl7d0IAAIDGy3t3QgAAQCwefHdCAAAAknB8d0IAAMD3wnx3QgAAgF0VfXdCAABAw2d9d0IAAAApun13QgAAwI4MfndCAACA9F5+d0IAAEBasX53QgAAAMADf3dCAADAJVZ/d0IAAICLqH93QgAAQPH6f3dCAAAAV02Ad0IAAMC8n4B3QgAAgCLygHdCAABAiESBd0IAAADuloF3QgAAwFPpgXdCAACAuTuCd0IAAEAfjoJ3QgAAAIXggndCAADA6jKDd0IAAIBQhYN3QgAAQLbXg3dCAAAAHCqEd0IAAMCBfIR3QgAAgOfOhHdCAABATSGFd0IAAACzc4V3QgAAwBjGhXdCAACAfhiGd0IAAEDkaoZ3QgAAAEq9hndCAADArw+Hd0IAAIAVYod3QgAAQHu0h3dCAAAA4QaId0IAAMBGWYh3QgAAgKyriHdCAABAEv6Id0IAAAB4UIl3QgAAwN2iiXdCAACAQ/WJd0IAAECpR4p3QgAAAA+aindCAADAdOyKd0IAAIDaPot3QgAAQECRi3dCAAAApuOLd0IAAMALNox3QgAAgHGIjHdCAABA19qMd0IAAAA9LY13QgAAwKJ/jXdCAACACNKNd0IAAEBuJI53QgAAANR2jndCAADAOcmOd0IAAICfG493QgAAQAVuj3dCAAAAa8CPd0IAAMDQEpB3QgAAgDZlkHdCAABAnLeQd0IAAAACCpF3QgAAwGdckXdCAACAza6Rd0IAAEAzAZJ3QgAAAJlTkndCAADA/qWSd0IAAIBk+JJ3QgAAQMpKk3dCAAAAMJ2Td0IAAMCV75N3QgAAgPtBlHdCAABAYZSUd0IAAADH5pR3QgAAwCw5lXdCAACAkouVd0IAAED43ZV3QgAAAF4wlndCAADAw4KWd0IAAIAp1ZZ3QgAAQI8nl3dCAAAA9XmXd0IAAMBazJd3QgAAgMAemHdCAABAJnGYd0IAAACMw5h3QgAAwPEVmXdCAACAV2iZd0IAAEC9upl3QgAAACMNmndCAADAiF+ad0IAAIDusZp3QgAAQFQEm3dCAAAAulabd0IAAMAfqZt3QgAAgIX7m3dCAABA602cd0IAAABRoJx3QgAAwLbynHdCAACAHEWdd0IAAECCl513QgAAAOjpnXdCAADATTyed0IAAICzjp53QgAAQBnhnndCAAAAfzOfd0IAAMDkhZ93QgAAgErYn3dCAABAsCqgd0IAAAAWfaB3QgAAwHvPoHdCAACA4SGhd0IAAEBHdKF3QgAAAK3GoXdCAADAEhmid0IAAIB4a6J3QgAAQN69ondCAAAARBCjd0IAAMCpYqN3QgAAgA+1o3dCAABAdQekd0IAAADbWaR3QgAAwECspHdCAACApv6kd0IAAEAMUaV3QgAAAHKjpXdCAADA1/Wld0IAAIA9SKZ3QgAAQKOapndCAAAACe2md0IAAMBuP6d3QgAAgNSRp3dCAABAOuSnd0IAAACgNqh3QgAAwAWJqHdCAACAa9uod0IAAEDRLal3QgAAADeAqXdCAADAnNKpd0IAAIACJap3QgAAQGh3qndCAAAAzsmqd0IAAMAzHKt3QgAAgJluq3dCAABA/8Crd0IAAABlE6x3QgAAwMplrHdCAACAMLisd0IAAECWCq13QgAAAPxcrXdCAADAYa+td0IAAIDHAa53QgAAQC1UrndCAAAAk6aud0IAAMD4+K53QgAAgF5Lr3dCAABAxJ2vd0IAAAAq8K93QgAAwI9CsHdCAACA9ZSwd0IAAEBb57B3QgAAAME5sXdCAADAJoyxd0IAAICM3rF3QgAAQPIwsndCAAAAWIOyd0IAAMC91bJ3QgAAgCMos3dCAABAiXqzd0IAAADvzLN3QgAAwFQftHdCAACAunG0d0IAAEAgxLR3QgAAAIYWtXdCAADA62i1d0IAAIBRu7V3QgAAQLcNtndCAAAAHWC2d0IAAMCCsrZ3QgAAgOgEt3dCAABATle3d0IAAAC0qbd3QgAAwBn8t3dCAACAf064d0IAAEDloLh3QgAAAEvzuHdCAADAsEW5d0IAAIAWmLl3QgAAQHzquXdCAAAA4jy6d0IAAMBHj7p3QgAAgK3hundCAABAEzS7d0IAAAB5hrt3QgAAwN7Yu3dCAACARCu8d0IAAECqfbx3QgAAABDQvHdCAADAdSK9d0IAAIDbdL13QgAAQEHHvXdCAAAApxm+d0IAAMAMbL53QgAAgHK+vndCAABA2BC/d0IAAAA+Y793QgAAwKO1v3dCAACACQjAd0IAAEBvWsB3QgAAANWswHdCAADAOv/Ad0IAAICgUcF3QgAAQAakwXdCAAAAbPbBd0IAAMDRSMJ3QgAAgDebwndCAABAne3Cd0IAAAADQMN3QgAAwGiSw3dCAACAzuTDd0IAAEA0N8R3QgAAAJqJxHdCAADA/9vEd0IAAIBlLsV3QgAAQMuAxXdCAAAAMdPFd0IAAMCWJcZ3QgAAgPx3xndCAABAYsrGd0IAAADIHMd3QgAAwC1vx3dCAACAk8HHd0IAAED5E8h3QgAAAF9myHdCAADAxLjId0IAAIAqC8l3QgAAQJBdyXdCAAAA9q/Jd0IAAMBbAsp3QgAAgMFUyndCAABAJ6fKd0IAAACN+cp3QgAAwPJLy3dCAACAWJ7Ld0IAAEC+8Mt3QgAAACRDzHdCAADAiZXMd0IAAIDv58x3QgAAQFU6zXdCAAAAu4zNd0IAAMAg3813QgAAgIYxzndCAABA7IPOd0IAAABS1s53QgAAwLcoz3dCAACAHXvPd0IAAECDzc93QgAAAOkf0HdCAADATnLQd0IAAIC0xNB3QgAAQBoX0XdCAAAAgGnRd0IAAMDlu9F3QgAAgEsO0ndCAABAsWDSd0IAAAAXs9J3QgAAwHwF03dCAACA4lfTd0IAAEBIqtN3QgAAAK7803dCAADAE0/Ud0IAAIB5odR3QgAAQN/z1HdCAAAARUbVd0IAAMCqmNV3QgAAgBDr1XdCAABAdj3Wd0IAAADcj9Z3QgAAwEHi1ndCAACApzTXd0IAAEANh9d3QgAAAHPZ13dCAADA2CvYd0IAAIA+fth3QgAAQKTQ2HdCAAAACiPZd0IAAMBvddl3QgAAgNXH2XdCAABAOxrad0IAAAChbNp3QgAAwAa/2ndCAACAbBHbd0IAAEDSY9t3QgAAADi223dCAADAnQjcd0IAAIADW9x3QgAAQGmt3HdCAAAAz//cd0IAAMA0Ut13QgAAgJqk3XdCAABAAPfdd0IAAABmSd53QgAAwMub3ndCAACAMe7ed0IAAECXQN93QgAAAP2S33dCAADAYuXfd0IAAIDIN+B3QgAAQC6K4HdCAAAAlNzgd0IAAMD5LuF3QgAAgF+B4XdCAABAxdPhd0IAAAArJuJ3QgAAwJB44ndCAACA9srid0IAAEBcHeN3QgAAAMJv43dCAADAJ8Ljd0IAAICNFOR3QgAAQPNm5HdCAAAAWbnkd0IAAMC+C+V3QgAAgCRe5XdCAABAirDld0IAAADwAuZ3QgAAwFVV5ndCAACAu6fmd0IAAEAh+uZ3QgAAAIdM53dCAADA7J7nd0IAAIBS8ed3QgAAQLhD6HdCAAAAHpbod0IAAMCD6Oh3QgAAgOk66XdCAABAT43pd0IAAAC13+l3QgAAwBoy6ndCAACAgITqd0IAAEDm1up3QgAAAEwp63dCAADAsXvrd0IAAIAXzut3QgAAQH0g7HdCAAAA43Lsd0IAAMBIxex3QgAAgK4X7XdCAABAFGrtd0IAAAB6vO13QgAAwN8O7ndCAACARWHud0IAAECrs+53QgAAABEG73dCAADAdljvd0IAAIDcqu93QgAAQEL973dCAAAAqE/wd0IAAMANovB3QgAAgHP08HdCAABA2Ubxd0IAAAA/mfF3QgAAwKTr8XdCAACACj7yd0IAAEBwkPJ3QgAAANbi8ndCAADAOzXzd0IAAIChh/N3QgAAQAfa83dCAAAAbSz0d0IAAMDSfvR3QgAAgDjR9HdCAABAniP1d0IAAAAEdvV3QgAAwGnI9XdCAACAzxr2d0IAAEA1bfZ3QgAAAJu/9ndCAADAABL3d0IAAIBmZPd3QgAAQMy293dCAAAAMgn4d0IAAMCXW/h3QgAAgP2t+HdCAABAYwD5d0IAAADJUvl3QgAAwC6l+XdCAACAlPf5d0IAAED6Sfp3QgAAAGCc+ndCAADAxe76d0IAAIArQft3QgAAQJGT+3dCAAAA9+X7d0IAAMBcOPx3QgAAgMKK/HdCAABAKN38d0IAAACOL/13QgAAwPOB/XdCAACAWdT9d0IAAEC/Jv53QgAAACV5/ndCAADAisv+d0IAAIDwHf93QgAAQFZw/3dCAAAAvML/d0IAAMAhFQB4QgAAgIdnAHhCAABA7bkAeEIAAABTDAF4QgAAwLheAXhCAACAHrEBeEIAAECEAwJ4QgAAAOpVAnhCAADAT6gCeEIAAIC1+gJ4QgAAQBtNA3hCAAAAgZ8DeEIAAMDm8QN4QgAAgExEBHhCAABAspYEeEIAAAAY6QR4QgAAwH07BXhCAACA440FeEIAAEBJ4AV4QgAAAK8yBnhCAADAFIUGeEIAAIB61wZ4QgAAQOApB3hCAAAARnwHeEIAAMCrzgd4QgAAgBEhCHhCAABAd3MIeEIAAADdxQh4QgAAwEIYCXhCAACAqGoJeEIAAEAOvQl4QgAAAHQPCnhCAADA2WEKeEIAAIA/tAp4QgAAQKUGC3hCAAAAC1kLeEIAAMBwqwt4QgAAgNb9C3hCAABAPFAMeEIAAACiogx4QgAAwAf1DHhCAACAbUcNeEIAAEDTmQ14QgAAADnsDXhCAADAnj4OeEI=\",\"dtype\":\"float64\",\"order\":\"little\",\"shape\":[1096]}},\"selected\":{\"id\":\"3377\"},\"selection_policy\":{\"id\":\"3398\"}},\"id\":\"3376\",\"type\":\"ColumnDataSource\"},{\"attributes\":{\"num_minor_ticks\":5,\"tickers\":[{\"id\":\"3401\"},{\"id\":\"3402\"},{\"id\":\"3403\"},{\"id\":\"3404\"},{\"id\":\"3405\"},{\"id\":\"3406\"},{\"id\":\"3407\"},{\"id\":\"3408\"},{\"id\":\"3409\"},{\"id\":\"3410\"},{\"id\":\"3411\"},{\"id\":\"3412\"}]},\"id\":\"3356\",\"type\":\"DatetimeTicker\"},{\"attributes\":{},\"id\":\"3398\",\"type\":\"UnionRenderers\"},{\"attributes\":{\"axis\":{\"id\":\"3355\"},\"coordinates\":null,\"grid_line_color\":null,\"group\":null,\"ticker\":null},\"id\":\"3358\",\"type\":\"Grid\"},{\"attributes\":{\"days\":[1,2,3,4,5,6,7,8,9,10,11,12,13,14,15,16,17,18,19,20,21,22,23,24,25,26,27,28,29,30,31]},\"id\":\"3404\",\"type\":\"DaysTicker\"},{\"attributes\":{\"days\":[1,8,15,22]},\"id\":\"3406\",\"type\":\"DaysTicker\"},{\"attributes\":{\"axis\":{\"id\":\"3359\"},\"coordinates\":null,\"dimension\":1,\"grid_line_color\":null,\"group\":null,\"ticker\":null},\"id\":\"3362\",\"type\":\"Grid\"},{\"attributes\":{\"line_color\":\"#30a2da\",\"line_width\":2,\"x\":{\"field\":\"time\"},\"y\":{\"field\":\"prices\"}},\"id\":\"3384\",\"type\":\"Line\"},{\"attributes\":{\"days\":[1,15]},\"id\":\"3407\",\"type\":\"DaysTicker\"},{\"attributes\":{\"axis_label\":\"Price\",\"coordinates\":null,\"formatter\":{\"id\":\"3389\"},\"group\":null,\"major_label_policy\":{\"id\":\"3390\"},\"ticker\":{\"id\":\"3360\"}},\"id\":\"3359\",\"type\":\"LinearAxis\"},{\"attributes\":{\"days\":[1,4,7,10,13,16,19,22,25,28]},\"id\":\"3405\",\"type\":\"DaysTicker\"},{\"attributes\":{\"base\":60,\"mantissas\":[1,2,5,10,15,20,30],\"max_interval\":1800000.0,\"min_interval\":1000.0,\"num_minor_ticks\":0},\"id\":\"3402\",\"type\":\"AdaptiveTicker\"},{\"attributes\":{\"children\":[{\"id\":\"3342\"},{\"id\":\"3346\"},{\"id\":\"3435\"}],\"margin\":[0,0,0,0],\"name\":\"Row03867\",\"tags\":[\"embedded\"]},\"id\":\"3341\",\"type\":\"Row\"},{\"attributes\":{\"coordinates\":null,\"data_source\":{\"id\":\"3376\"},\"glyph\":{\"id\":\"3379\"},\"group\":null,\"hover_glyph\":null,\"muted_glyph\":{\"id\":\"3381\"},\"nonselection_glyph\":{\"id\":\"3380\"},\"selection_glyph\":{\"id\":\"3384\"},\"view\":{\"id\":\"3383\"}},\"id\":\"3382\",\"type\":\"GlyphRenderer\"},{\"attributes\":{\"line_alpha\":0.2,\"line_color\":\"#30a2da\",\"line_width\":2,\"x\":{\"field\":\"time\"},\"y\":{\"field\":\"prices\"}},\"id\":\"3381\",\"type\":\"Line\"},{\"attributes\":{},\"id\":\"3377\",\"type\":\"Selection\"},{\"attributes\":{\"line_alpha\":0.1,\"line_color\":\"#30a2da\",\"line_width\":2,\"x\":{\"field\":\"time\"},\"y\":{\"field\":\"prices\"}},\"id\":\"3380\",\"type\":\"Line\"},{\"attributes\":{\"end\":1653091200000.0,\"reset_end\":1653091200000.0,\"reset_start\":1558483200000.0,\"start\":1558483200000.0,\"tags\":[[[\"time\",\"time\",null]]]},\"id\":\"3343\",\"type\":\"Range1d\"},{\"attributes\":{\"end\":1.03634710181615,\"reset_end\":1.03634710181615,\"reset_start\":0.9721244489916518,\"start\":0.9721244489916518,\"tags\":[[[\"prices\",\"prices\",null]]]},\"id\":\"3344\",\"type\":\"Range1d\"},{\"attributes\":{\"months\":[0,1,2,3,4,5,6,7,8,9,10,11]},\"id\":\"3408\",\"type\":\"MonthsTicker\"},{\"attributes\":{\"source\":{\"id\":\"3376\"}},\"id\":\"3383\",\"type\":\"CDSView\"},{\"attributes\":{},\"id\":\"3386\",\"type\":\"DatetimeTickFormatter\"},{\"attributes\":{\"months\":[0,2,4,6,8,10]},\"id\":\"3409\",\"type\":\"MonthsTicker\"},{\"attributes\":{},\"id\":\"3363\",\"type\":\"SaveTool\"}],\"root_ids\":[\"3341\"]},\"title\":\"Bokeh Application\",\"version\":\"2.4.1\"}};\n",
       "    var render_items = [{\"docid\":\"86b29583-77af-4ee0-bd70-47de92ef289e\",\"root_ids\":[\"3341\"],\"roots\":{\"3341\":\"db8ea1ea-7e0b-454d-8ee1-1424c6ba04bd\"}}];\n",
       "    root.Bokeh.embed.embed_items_notebook(docs_json, render_items);\n",
       "  }\n",
       "  if (root.Bokeh !== undefined && root.Bokeh.Panel !== undefined) {\n",
       "    embed_document(root);\n",
       "  } else {\n",
       "    var attempts = 0;\n",
       "    var timer = setInterval(function(root) {\n",
       "      if (root.Bokeh !== undefined && root.Bokeh.Panel !== undefined) {\n",
       "        clearInterval(timer);\n",
       "        embed_document(root);\n",
       "      } else if (document.readyState == \"complete\") {\n",
       "        attempts++;\n",
       "        if (attempts > 200) {\n",
       "          clearInterval(timer);\n",
       "          console.log(\"Bokeh: ERROR: Unable to run BokehJS code because BokehJS library is missing\");\n",
       "        }\n",
       "      }\n",
       "    }, 25, root)\n",
       "  }\n",
       "})(window);</script>"
      ],
      "text/plain": [
       ":Curve   [time]   (prices)"
      ]
     },
     "execution_count": 89,
     "metadata": {
      "application/vnd.holoviews_exec.v0+json": {
       "id": "3341"
      }
     },
     "output_type": "execute_result"
    }
   ],
   "source": [
    "# Plotting Daily Prices\n",
    "usdp_price_plot = usdp.hvplot.line(\n",
    "    x='time',\n",
    "    y='prices',\n",
    "    xlabel='Date',\n",
    "    ylabel='Price',\n",
    "    title='Paxos-Standard Daily Prices May 2020 - May 2022'\n",
    ")\n",
    "\n",
    "# save plot to .png\n",
    "# hvplot.save(usdp_price_plot, 'images/usdp_price.png')\n",
    "\n",
    "# display plot\n",
    "usdp_price_plot"
   ]
  },
  {
   "cell_type": "code",
   "execution_count": 90,
   "id": "890fab78-7062-4cfd-aaa2-3b96d6e7677c",
   "metadata": {},
   "outputs": [
    {
     "data": {},
     "metadata": {},
     "output_type": "display_data"
    },
    {
     "data": {
      "application/vnd.holoviews_exec.v0+json": "",
      "text/html": [
       "<div id='3547'>\n",
       "\n",
       "\n",
       "\n",
       "\n",
       "\n",
       "  <div class=\"bk-root\" id=\"7b1b3a73-d654-4584-8740-6087952f511b\" data-root-id=\"3547\"></div>\n",
       "</div>\n",
       "<script type=\"application/javascript\">(function(root) {\n",
       "  function embed_document(root) {\n",
       "    var docs_json = {\"7e795072-91b9-4a66-b63b-f62cdd8b0466\":{\"defs\":[{\"extends\":null,\"module\":null,\"name\":\"ReactiveHTML1\",\"overrides\":[],\"properties\":[]},{\"extends\":null,\"module\":null,\"name\":\"FlexBox1\",\"overrides\":[],\"properties\":[{\"default\":\"flex-start\",\"kind\":null,\"name\":\"align_content\"},{\"default\":\"flex-start\",\"kind\":null,\"name\":\"align_items\"},{\"default\":\"row\",\"kind\":null,\"name\":\"flex_direction\"},{\"default\":\"wrap\",\"kind\":null,\"name\":\"flex_wrap\"},{\"default\":\"flex-start\",\"kind\":null,\"name\":\"justify_content\"}]},{\"extends\":null,\"module\":null,\"name\":\"GridStack1\",\"overrides\":[],\"properties\":[{\"default\":\"warn\",\"kind\":null,\"name\":\"mode\"},{\"default\":null,\"kind\":null,\"name\":\"ncols\"},{\"default\":null,\"kind\":null,\"name\":\"nrows\"},{\"default\":true,\"kind\":null,\"name\":\"allow_resize\"},{\"default\":true,\"kind\":null,\"name\":\"allow_drag\"},{\"default\":[],\"kind\":null,\"name\":\"state\"}]},{\"extends\":null,\"module\":null,\"name\":\"click1\",\"overrides\":[],\"properties\":[{\"default\":\"\",\"kind\":null,\"name\":\"terminal_output\"},{\"default\":\"\",\"kind\":null,\"name\":\"debug_name\"},{\"default\":0,\"kind\":null,\"name\":\"clears\"}]},{\"extends\":null,\"module\":null,\"name\":\"TemplateActions1\",\"overrides\":[],\"properties\":[{\"default\":0,\"kind\":null,\"name\":\"open_modal\"},{\"default\":0,\"kind\":null,\"name\":\"close_modal\"}]},{\"extends\":null,\"module\":null,\"name\":\"MaterialTemplateActions1\",\"overrides\":[],\"properties\":[{\"default\":0,\"kind\":null,\"name\":\"open_modal\"},{\"default\":0,\"kind\":null,\"name\":\"close_modal\"}]}],\"roots\":{\"references\":[{\"attributes\":{\"tools\":[{\"id\":\"3551\"},{\"id\":\"3569\"},{\"id\":\"3570\"},{\"id\":\"3571\"},{\"id\":\"3572\"},{\"id\":\"3573\"}]},\"id\":\"3575\",\"type\":\"Toolbar\"},{\"attributes\":{},\"id\":\"3593\",\"type\":\"AllLabels\"},{\"attributes\":{\"children\":[{\"id\":\"3548\"},{\"id\":\"3552\"},{\"id\":\"3617\"}],\"margin\":[0,0,0,0],\"name\":\"Row04047\",\"tags\":[\"embedded\"]},\"id\":\"3547\",\"type\":\"Row\"},{\"attributes\":{},\"id\":\"3569\",\"type\":\"SaveTool\"},{\"attributes\":{\"margin\":[5,5,5,5],\"name\":\"HSpacer04051\",\"sizing_mode\":\"stretch_width\"},\"id\":\"3548\",\"type\":\"Spacer\"},{\"attributes\":{},\"id\":\"3596\",\"type\":\"AllLabels\"},{\"attributes\":{},\"id\":\"3583\",\"type\":\"Selection\"},{\"attributes\":{},\"id\":\"3570\",\"type\":\"PanTool\"},{\"attributes\":{\"callback\":null,\"renderers\":[{\"id\":\"3588\"}],\"tags\":[\"hv_created\"],\"tooltips\":[[\"prices\",\"@{prices}\"],[\"Count\",\"@{prices_count}\"]]},\"id\":\"3551\",\"type\":\"HoverTool\"},{\"attributes\":{},\"id\":\"3571\",\"type\":\"WheelZoomTool\"},{\"attributes\":{\"margin\":[5,5,5,5],\"name\":\"HSpacer04052\",\"sizing_mode\":\"stretch_width\"},\"id\":\"3617\",\"type\":\"Spacer\"},{\"attributes\":{\"bottom\":{\"value\":0},\"fill_alpha\":{\"value\":0.1},\"fill_color\":{\"value\":\"#30a2da\"},\"hatch_alpha\":{\"value\":0.1},\"hatch_color\":{\"value\":\"#30a2da\"},\"left\":{\"field\":\"left\"},\"line_alpha\":{\"value\":0.1},\"right\":{\"field\":\"right\"},\"top\":{\"field\":\"top\"}},\"id\":\"3586\",\"type\":\"Quad\"},{\"attributes\":{\"overlay\":{\"id\":\"3574\"}},\"id\":\"3572\",\"type\":\"BoxZoomTool\"},{\"attributes\":{\"below\":[{\"id\":\"3561\"}],\"center\":[{\"id\":\"3564\"},{\"id\":\"3568\"}],\"height\":300,\"left\":[{\"id\":\"3565\"}],\"margin\":[5,5,5,5],\"min_border_bottom\":10,\"min_border_left\":10,\"min_border_right\":10,\"min_border_top\":10,\"renderers\":[{\"id\":\"3588\"}],\"sizing_mode\":\"fixed\",\"title\":{\"id\":\"3553\"},\"toolbar\":{\"id\":\"3575\"},\"width\":700,\"x_range\":{\"id\":\"3549\"},\"x_scale\":{\"id\":\"3557\"},\"y_range\":{\"id\":\"3550\"},\"y_scale\":{\"id\":\"3559\"}},\"id\":\"3552\",\"subtype\":\"Figure\",\"type\":\"Plot\"},{\"attributes\":{\"coordinates\":null,\"group\":null,\"text\":\"Histogram of Paxos-Standard Daily Prices May 2020 - May 2022\",\"text_color\":\"black\",\"text_font_size\":\"12pt\"},\"id\":\"3553\",\"type\":\"Title\"},{\"attributes\":{\"data\":{\"left\":{\"__ndarray__\":\"JmhbdHxH7z+xIchQaF3vPzzbNC1Uc+8/x5ShCUCJ7z9STg7mK5/vP9wHe8IXte8/Z8HnngPL7z/yelR77+DvP300wVfb9u8/BPcWmmMG8D/KU02IWRHwP4+wg3ZPHPA/VA26ZEUn8D8aavBSOzLwP9/GJkExPfA/pSNdLydI8D9qgJMdHVPwPzDdyQsTXvA/9TkA+ghp8D+7ljbo/nPwPw==\",\"dtype\":\"float64\",\"order\":\"little\",\"shape\":[20]},\"prices\":{\"__ndarray__\":\"7MSRYnJS7z92fv4+XmjvPwI4axtKfu8/jPHX9zWU7z8Xq0TUIarvP6JksbANwO8/LB4ejfnV7z+414pp5evvP6HI+6LoAPA/ZyUykd4L8D8sgmh/1BbwP/Lenm3KIfA/tzvVW8As8D98mAtKtjfwP0L1QTisQvA/CFJ4JqJN8D/Nrq4UmFjwP5IL5QKOY/A/WGgb8YNu8D8exVHfeXnwPw==\",\"dtype\":\"float64\",\"order\":\"little\",\"shape\":[20]},\"prices_count\":[1,0,0,1,4,3,28,215,543,225,51,8,7,0,2,2,2,1,1,2],\"right\":{\"__ndarray__\":\"sSHIUGhd7z882zQtVHPvP8eUoQlAie8/Uk4O5iuf7z/cB3vCF7XvP2fB554Dy+8/8npUe+/g7z99NMFX2/bvPwT3FppjBvA/ylNNiFkR8D+PsIN2TxzwP1QNumRFJ/A/GmrwUjsy8D/fxiZBMT3wP6UjXS8nSPA/aoCTHR1T8D8w3ckLE17wP/U5APoIafA/u5Y26P5z8D+A82zW9H7wPw==\",\"dtype\":\"float64\",\"order\":\"little\",\"shape\":[20]},\"top\":[1,0,0,1,4,3,28,215,543,225,51,8,7,0,2,2,2,1,1,2]},\"selected\":{\"id\":\"3583\"},\"selection_policy\":{\"id\":\"3604\"}},\"id\":\"3582\",\"type\":\"ColumnDataSource\"},{\"attributes\":{\"bottom\":{\"value\":0},\"fill_alpha\":{\"value\":1.0},\"fill_color\":{\"value\":\"#30a2da\"},\"hatch_alpha\":{\"value\":1.0},\"hatch_color\":{\"value\":\"#30a2da\"},\"hatch_scale\":{\"value\":12.0},\"hatch_weight\":{\"value\":1.0},\"left\":{\"field\":\"left\"},\"line_alpha\":{\"value\":1.0},\"line_cap\":{\"value\":\"butt\"},\"line_color\":{\"value\":\"black\"},\"line_dash\":{\"value\":[]},\"line_dash_offset\":{\"value\":0},\"line_join\":{\"value\":\"bevel\"},\"line_width\":{\"value\":1},\"right\":{\"field\":\"right\"},\"top\":{\"field\":\"top\"}},\"id\":\"3590\",\"type\":\"Quad\"},{\"attributes\":{},\"id\":\"3595\",\"type\":\"BasicTickFormatter\"},{\"attributes\":{},\"id\":\"3573\",\"type\":\"ResetTool\"},{\"attributes\":{\"bottom_units\":\"screen\",\"coordinates\":null,\"fill_alpha\":0.5,\"fill_color\":\"lightgrey\",\"group\":null,\"left_units\":\"screen\",\"level\":\"overlay\",\"line_alpha\":1.0,\"line_color\":\"black\",\"line_dash\":[4,4],\"line_width\":2,\"right_units\":\"screen\",\"syncable\":false,\"top_units\":\"screen\"},\"id\":\"3574\",\"type\":\"BoxAnnotation\"},{\"attributes\":{\"bottom\":{\"value\":0},\"fill_alpha\":{\"value\":0.2},\"fill_color\":{\"value\":\"#30a2da\"},\"hatch_alpha\":{\"value\":0.2},\"hatch_color\":{\"value\":\"#30a2da\"},\"left\":{\"field\":\"left\"},\"line_alpha\":{\"value\":0.2},\"right\":{\"field\":\"right\"},\"top\":{\"field\":\"top\"}},\"id\":\"3587\",\"type\":\"Quad\"},{\"attributes\":{},\"id\":\"3562\",\"type\":\"BasicTicker\"},{\"attributes\":{},\"id\":\"3557\",\"type\":\"LinearScale\"},{\"attributes\":{\"axis_label\":\"Date\",\"coordinates\":null,\"formatter\":{\"id\":\"3592\"},\"group\":null,\"major_label_policy\":{\"id\":\"3593\"},\"ticker\":{\"id\":\"3562\"}},\"id\":\"3561\",\"type\":\"LinearAxis\"},{\"attributes\":{\"axis\":{\"id\":\"3565\"},\"coordinates\":null,\"dimension\":1,\"grid_line_color\":null,\"group\":null,\"ticker\":null},\"id\":\"3568\",\"type\":\"Grid\"},{\"attributes\":{},\"id\":\"3559\",\"type\":\"LinearScale\"},{\"attributes\":{\"axis\":{\"id\":\"3561\"},\"coordinates\":null,\"grid_line_color\":null,\"group\":null,\"ticker\":null},\"id\":\"3564\",\"type\":\"Grid\"},{\"attributes\":{\"end\":1.0332888802530786,\"reset_end\":1.0332888802530786,\"reset_start\":0.9751826705547232,\"start\":0.9751826705547232,\"tags\":[[[\"prices\",\"prices\",null]]]},\"id\":\"3549\",\"type\":\"Range1d\"},{\"attributes\":{\"bottom\":{\"value\":0},\"fill_color\":{\"value\":\"#30a2da\"},\"hatch_color\":{\"value\":\"#30a2da\"},\"left\":{\"field\":\"left\"},\"right\":{\"field\":\"right\"},\"top\":{\"field\":\"top\"}},\"id\":\"3585\",\"type\":\"Quad\"},{\"attributes\":{},\"id\":\"3566\",\"type\":\"BasicTicker\"},{\"attributes\":{\"axis_label\":\"Price\",\"coordinates\":null,\"formatter\":{\"id\":\"3595\"},\"group\":null,\"major_label_policy\":{\"id\":\"3596\"},\"ticker\":{\"id\":\"3566\"}},\"id\":\"3565\",\"type\":\"LinearAxis\"},{\"attributes\":{},\"id\":\"3604\",\"type\":\"UnionRenderers\"},{\"attributes\":{\"end\":597.3,\"reset_end\":597.3,\"reset_start\":0.0,\"tags\":[[[\"prices_count\",\"Count\",null]]]},\"id\":\"3550\",\"type\":\"Range1d\"},{\"attributes\":{},\"id\":\"3592\",\"type\":\"BasicTickFormatter\"},{\"attributes\":{\"coordinates\":null,\"data_source\":{\"id\":\"3582\"},\"glyph\":{\"id\":\"3585\"},\"group\":null,\"hover_glyph\":null,\"muted_glyph\":{\"id\":\"3587\"},\"nonselection_glyph\":{\"id\":\"3586\"},\"selection_glyph\":{\"id\":\"3590\"},\"view\":{\"id\":\"3589\"}},\"id\":\"3588\",\"type\":\"GlyphRenderer\"},{\"attributes\":{\"source\":{\"id\":\"3582\"}},\"id\":\"3589\",\"type\":\"CDSView\"}],\"root_ids\":[\"3547\"]},\"title\":\"Bokeh Application\",\"version\":\"2.4.1\"}};\n",
       "    var render_items = [{\"docid\":\"7e795072-91b9-4a66-b63b-f62cdd8b0466\",\"root_ids\":[\"3547\"],\"roots\":{\"3547\":\"7b1b3a73-d654-4584-8740-6087952f511b\"}}];\n",
       "    root.Bokeh.embed.embed_items_notebook(docs_json, render_items);\n",
       "  }\n",
       "  if (root.Bokeh !== undefined && root.Bokeh.Panel !== undefined) {\n",
       "    embed_document(root);\n",
       "  } else {\n",
       "    var attempts = 0;\n",
       "    var timer = setInterval(function(root) {\n",
       "      if (root.Bokeh !== undefined && root.Bokeh.Panel !== undefined) {\n",
       "        clearInterval(timer);\n",
       "        embed_document(root);\n",
       "      } else if (document.readyState == \"complete\") {\n",
       "        attempts++;\n",
       "        if (attempts > 200) {\n",
       "          clearInterval(timer);\n",
       "          console.log(\"Bokeh: ERROR: Unable to run BokehJS code because BokehJS library is missing\");\n",
       "        }\n",
       "      }\n",
       "    }, 25, root)\n",
       "  }\n",
       "})(window);</script>"
      ],
      "text/plain": [
       ":Histogram   [prices]   (prices_count)"
      ]
     },
     "execution_count": 90,
     "metadata": {
      "application/vnd.holoviews_exec.v0+json": {
       "id": "3547"
      }
     },
     "output_type": "execute_result"
    }
   ],
   "source": [
    "#Create a histogram of Paxos prices to visualize frequency of non peg prices\n",
    "usdp_price_hist_plot = usdp.hvplot.hist(\n",
    "    y='prices',\n",
    "    xlabel='Date',\n",
    "    ylabel='Price',\n",
    "    title='Histogram of Paxos-Standard Daily Prices May 2020 - May 2022'\n",
    ")\n",
    "usdp_price_hist_plot"
   ]
  },
  {
   "cell_type": "markdown",
   "id": "efb27fc8",
   "metadata": {},
   "source": [
    "#### Paxos Price Historgram Analysis\n",
    "\n",
    "The *Histogram of Paxos-Standard Daily Prices May 2020 - May* 2022 plot reveals that Paxos was off of it's peg valueof \\#1.00 nearly 45% of the time. It also shows that a few larger outliers were observed that were +/ 0.3 from the peg value."
   ]
  },
  {
   "cell_type": "code",
   "execution_count": 91,
   "id": "df942642-923b-45fa-afaf-fa92cb7812d8",
   "metadata": {
    "tags": []
   },
   "outputs": [
    {
     "name": "stdout",
     "output_type": "stream",
     "text": [
      "USDP had 19 arbitrage opportunities\n"
     ]
    }
   ],
   "source": [
    "# Counting frequency of prices where the price was above or below its peg \n",
    "# by an amount equal to or greather than the margin\n",
    "usdp_arb = usdp['prices'][usdp['prices'] <= (peg-margin)].count() + usdp['prices'][usdp['prices'] >= (peg+margin)].count()\n",
    "print(f\"USDP had {usdp_arb} arbitrage opportunities\")"
   ]
  },
  {
   "cell_type": "code",
   "execution_count": 92,
   "id": "bbafba6e-f20c-457b-bb46-6ba755a2816b",
   "metadata": {
    "tags": []
   },
   "outputs": [],
   "source": [
    "# Creating variables for standard deviation and mean \n",
    "usdp_mean = usdp.describe().loc['mean','prices']\n",
    "usdp_std = usdp.describe().loc['std','prices']"
   ]
  },
  {
   "cell_type": "markdown",
   "id": "feaa540a-2cf5-4586-9f99-d61a99931aed",
   "metadata": {},
   "source": [
    "### DAI : Dai"
   ]
  },
  {
   "cell_type": "code",
   "execution_count": 93,
   "id": "58b1832b-ce2a-48df-b173-1ba8693386c6",
   "metadata": {},
   "outputs": [
    {
     "data": {
      "text/html": [
       "<div>\n",
       "<style scoped>\n",
       "    .dataframe tbody tr th:only-of-type {\n",
       "        vertical-align: middle;\n",
       "    }\n",
       "\n",
       "    .dataframe tbody tr th {\n",
       "        vertical-align: top;\n",
       "    }\n",
       "\n",
       "    .dataframe thead th {\n",
       "        text-align: right;\n",
       "    }\n",
       "</style>\n",
       "<table border=\"1\" class=\"dataframe\">\n",
       "  <thead>\n",
       "    <tr style=\"text-align: right;\">\n",
       "      <th></th>\n",
       "      <th>prices</th>\n",
       "      <th>market_caps</th>\n",
       "      <th>total_volumes</th>\n",
       "    </tr>\n",
       "    <tr>\n",
       "      <th>time</th>\n",
       "      <th></th>\n",
       "      <th></th>\n",
       "      <th></th>\n",
       "    </tr>\n",
       "  </thead>\n",
       "  <tbody>\n",
       "    <tr>\n",
       "      <th>2019-11-18</th>\n",
       "      <td>1.000651</td>\n",
       "      <td>1.437646e+06</td>\n",
       "      <td>8.727642e+05</td>\n",
       "    </tr>\n",
       "    <tr>\n",
       "      <th>2019-11-19</th>\n",
       "      <td>0.995411</td>\n",
       "      <td>6.945898e+06</td>\n",
       "      <td>4.841469e+06</td>\n",
       "    </tr>\n",
       "    <tr>\n",
       "      <th>2019-11-20</th>\n",
       "      <td>0.991591</td>\n",
       "      <td>8.989928e+06</td>\n",
       "      <td>1.007820e+06</td>\n",
       "    </tr>\n",
       "    <tr>\n",
       "      <th>2019-11-21</th>\n",
       "      <td>0.991102</td>\n",
       "      <td>1.249487e+07</td>\n",
       "      <td>3.679540e+06</td>\n",
       "    </tr>\n",
       "    <tr>\n",
       "      <th>2019-11-22</th>\n",
       "      <td>0.992850</td>\n",
       "      <td>1.439175e+07</td>\n",
       "      <td>7.201905e+06</td>\n",
       "    </tr>\n",
       "  </tbody>\n",
       "</table>\n",
       "</div>"
      ],
      "text/plain": [
       "              prices   market_caps  total_volumes\n",
       "time                                             \n",
       "2019-11-18  1.000651  1.437646e+06   8.727642e+05\n",
       "2019-11-19  0.995411  6.945898e+06   4.841469e+06\n",
       "2019-11-20  0.991591  8.989928e+06   1.007820e+06\n",
       "2019-11-21  0.991102  1.249487e+07   3.679540e+06\n",
       "2019-11-22  0.992850  1.439175e+07   7.201905e+06"
      ]
     },
     "execution_count": 93,
     "metadata": {},
     "output_type": "execute_result"
    }
   ],
   "source": [
    "# Pulling in api data for DAI\n",
    "dai_url = 'https://api.coingecko.com/api/v3/coins/dai/market_chart?vs_currency=usd&days=1095&interval=daily'\n",
    "\n",
    "# cleaning url. Displaying DataFrame\n",
    "dai = coin_gecko_cleaner(dai_url)\n",
    "\n",
    "# inspect dataframe\n",
    "dai.head()"
   ]
  },
  {
   "cell_type": "code",
   "execution_count": 94,
   "id": "c20cff91-8323-4092-83d4-3a63d81267c2",
   "metadata": {},
   "outputs": [
    {
     "data": {},
     "metadata": {},
     "output_type": "display_data"
    },
    {
     "data": {
      "application/vnd.holoviews_exec.v0+json": "",
      "text/html": [
       "<div id='3669'>\n",
       "\n",
       "\n",
       "\n",
       "\n",
       "\n",
       "  <div class=\"bk-root\" id=\"69273fad-bfa2-43b9-9907-bd6f7a941dd5\" data-root-id=\"3669\"></div>\n",
       "</div>\n",
       "<script type=\"application/javascript\">(function(root) {\n",
       "  function embed_document(root) {\n",
       "    var docs_json = {\"2eb37526-96ac-4119-9b8e-26bb0d23f773\":{\"defs\":[{\"extends\":null,\"module\":null,\"name\":\"ReactiveHTML1\",\"overrides\":[],\"properties\":[]},{\"extends\":null,\"module\":null,\"name\":\"FlexBox1\",\"overrides\":[],\"properties\":[{\"default\":\"flex-start\",\"kind\":null,\"name\":\"align_content\"},{\"default\":\"flex-start\",\"kind\":null,\"name\":\"align_items\"},{\"default\":\"row\",\"kind\":null,\"name\":\"flex_direction\"},{\"default\":\"wrap\",\"kind\":null,\"name\":\"flex_wrap\"},{\"default\":\"flex-start\",\"kind\":null,\"name\":\"justify_content\"}]},{\"extends\":null,\"module\":null,\"name\":\"GridStack1\",\"overrides\":[],\"properties\":[{\"default\":\"warn\",\"kind\":null,\"name\":\"mode\"},{\"default\":null,\"kind\":null,\"name\":\"ncols\"},{\"default\":null,\"kind\":null,\"name\":\"nrows\"},{\"default\":true,\"kind\":null,\"name\":\"allow_resize\"},{\"default\":true,\"kind\":null,\"name\":\"allow_drag\"},{\"default\":[],\"kind\":null,\"name\":\"state\"}]},{\"extends\":null,\"module\":null,\"name\":\"click1\",\"overrides\":[],\"properties\":[{\"default\":\"\",\"kind\":null,\"name\":\"terminal_output\"},{\"default\":\"\",\"kind\":null,\"name\":\"debug_name\"},{\"default\":0,\"kind\":null,\"name\":\"clears\"}]},{\"extends\":null,\"module\":null,\"name\":\"TemplateActions1\",\"overrides\":[],\"properties\":[{\"default\":0,\"kind\":null,\"name\":\"open_modal\"},{\"default\":0,\"kind\":null,\"name\":\"close_modal\"}]},{\"extends\":null,\"module\":null,\"name\":\"MaterialTemplateActions1\",\"overrides\":[],\"properties\":[{\"default\":0,\"kind\":null,\"name\":\"open_modal\"},{\"default\":0,\"kind\":null,\"name\":\"close_modal\"}]}],\"roots\":{\"references\":[{\"attributes\":{\"coordinates\":null,\"data_source\":{\"id\":\"3704\"},\"glyph\":{\"id\":\"3707\"},\"group\":null,\"hover_glyph\":null,\"muted_glyph\":{\"id\":\"3709\"},\"nonselection_glyph\":{\"id\":\"3708\"},\"selection_glyph\":{\"id\":\"3712\"},\"view\":{\"id\":\"3711\"}},\"id\":\"3710\",\"type\":\"GlyphRenderer\"},{\"attributes\":{\"days\":[1,15]},\"id\":\"3735\",\"type\":\"DaysTicker\"},{\"attributes\":{\"source\":{\"id\":\"3704\"}},\"id\":\"3711\",\"type\":\"CDSView\"},{\"attributes\":{},\"id\":\"3705\",\"type\":\"Selection\"},{\"attributes\":{},\"id\":\"3715\",\"type\":\"AllLabels\"},{\"attributes\":{\"months\":[0,1,2,3,4,5,6,7,8,9,10,11]},\"id\":\"3736\",\"type\":\"MonthsTicker\"},{\"attributes\":{\"line_alpha\":0.1,\"line_color\":\"#30a2da\",\"line_width\":2,\"x\":{\"field\":\"time\"},\"y\":{\"field\":\"prices\"}},\"id\":\"3708\",\"type\":\"Line\"},{\"attributes\":{},\"id\":\"3691\",\"type\":\"SaveTool\"},{\"attributes\":{},\"id\":\"3717\",\"type\":\"BasicTickFormatter\"},{\"attributes\":{\"base\":24,\"mantissas\":[1,2,4,6,8,12],\"max_interval\":43200000.0,\"min_interval\":3600000.0,\"num_minor_ticks\":0},\"id\":\"3731\",\"type\":\"AdaptiveTicker\"},{\"attributes\":{\"months\":[0,2,4,6,8,10]},\"id\":\"3737\",\"type\":\"MonthsTicker\"},{\"attributes\":{},\"id\":\"3692\",\"type\":\"PanTool\"},{\"attributes\":{\"below\":[{\"id\":\"3683\"}],\"center\":[{\"id\":\"3686\"},{\"id\":\"3690\"}],\"height\":300,\"left\":[{\"id\":\"3687\"}],\"margin\":[5,5,5,5],\"min_border_bottom\":10,\"min_border_left\":10,\"min_border_right\":10,\"min_border_top\":10,\"renderers\":[{\"id\":\"3710\"}],\"sizing_mode\":\"fixed\",\"title\":{\"id\":\"3675\"},\"toolbar\":{\"id\":\"3697\"},\"width\":700,\"x_range\":{\"id\":\"3671\"},\"x_scale\":{\"id\":\"3679\"},\"y_range\":{\"id\":\"3672\"},\"y_scale\":{\"id\":\"3681\"}},\"id\":\"3674\",\"subtype\":\"Figure\",\"type\":\"Plot\"},{\"attributes\":{\"months\":[0,4,8]},\"id\":\"3738\",\"type\":\"MonthsTicker\"},{\"attributes\":{},\"id\":\"3693\",\"type\":\"WheelZoomTool\"},{\"attributes\":{\"tools\":[{\"id\":\"3673\"},{\"id\":\"3691\"},{\"id\":\"3692\"},{\"id\":\"3693\"},{\"id\":\"3694\"},{\"id\":\"3695\"}]},\"id\":\"3697\",\"type\":\"Toolbar\"},{\"attributes\":{\"months\":[0,6]},\"id\":\"3739\",\"type\":\"MonthsTicker\"},{\"attributes\":{},\"id\":\"3681\",\"type\":\"LinearScale\"},{\"attributes\":{\"overlay\":{\"id\":\"3696\"}},\"id\":\"3694\",\"type\":\"BoxZoomTool\"},{\"attributes\":{\"coordinates\":null,\"group\":null,\"text\":\"DAI Daily Prices May 2020 - May 2022\",\"text_color\":\"black\",\"text_font_size\":\"12pt\"},\"id\":\"3675\",\"type\":\"Title\"},{\"attributes\":{},\"id\":\"3718\",\"type\":\"AllLabels\"},{\"attributes\":{},\"id\":\"3740\",\"type\":\"YearsTicker\"},{\"attributes\":{\"line_alpha\":0.2,\"line_color\":\"#30a2da\",\"line_width\":2,\"x\":{\"field\":\"time\"},\"y\":{\"field\":\"prices\"}},\"id\":\"3709\",\"type\":\"Line\"},{\"attributes\":{},\"id\":\"3695\",\"type\":\"ResetTool\"},{\"attributes\":{\"mantissas\":[1,2,5],\"max_interval\":500.0,\"num_minor_ticks\":0},\"id\":\"3729\",\"type\":\"AdaptiveTicker\"},{\"attributes\":{\"margin\":[5,5,5,5],\"name\":\"HSpacer04232\",\"sizing_mode\":\"stretch_width\"},\"id\":\"3763\",\"type\":\"Spacer\"},{\"attributes\":{\"bottom_units\":\"screen\",\"coordinates\":null,\"fill_alpha\":0.5,\"fill_color\":\"lightgrey\",\"group\":null,\"left_units\":\"screen\",\"level\":\"overlay\",\"line_alpha\":1.0,\"line_color\":\"black\",\"line_dash\":[4,4],\"line_width\":2,\"right_units\":\"screen\",\"syncable\":false,\"top_units\":\"screen\"},\"id\":\"3696\",\"type\":\"BoxAnnotation\"},{\"attributes\":{},\"id\":\"3688\",\"type\":\"BasicTicker\"},{\"attributes\":{\"axis_label\":\"Date\",\"coordinates\":null,\"formatter\":{\"id\":\"3714\"},\"group\":null,\"major_label_policy\":{\"id\":\"3715\"},\"ticker\":{\"id\":\"3684\"}},\"id\":\"3683\",\"type\":\"DatetimeAxis\"},{\"attributes\":{\"end\":1.0716094580429285,\"reset_end\":1.0716094580429285,\"reset_start\":0.9144383693210072,\"start\":0.9144383693210072,\"tags\":[[[\"prices\",\"prices\",null]]]},\"id\":\"3672\",\"type\":\"Range1d\"},{\"attributes\":{},\"id\":\"3679\",\"type\":\"LinearScale\"},{\"attributes\":{},\"id\":\"3726\",\"type\":\"UnionRenderers\"},{\"attributes\":{\"num_minor_ticks\":5,\"tickers\":[{\"id\":\"3729\"},{\"id\":\"3730\"},{\"id\":\"3731\"},{\"id\":\"3732\"},{\"id\":\"3733\"},{\"id\":\"3734\"},{\"id\":\"3735\"},{\"id\":\"3736\"},{\"id\":\"3737\"},{\"id\":\"3738\"},{\"id\":\"3739\"},{\"id\":\"3740\"}]},\"id\":\"3684\",\"type\":\"DatetimeTicker\"},{\"attributes\":{\"callback\":null,\"formatters\":{\"@{time}\":\"datetime\"},\"renderers\":[{\"id\":\"3710\"}],\"tags\":[\"hv_created\"],\"tooltips\":[[\"time\",\"@{time}{%F %T}\"],[\"prices\",\"@{prices}\"]]},\"id\":\"3673\",\"type\":\"HoverTool\"},{\"attributes\":{\"base\":60,\"mantissas\":[1,2,5,10,15,20,30],\"max_interval\":1800000.0,\"min_interval\":1000.0,\"num_minor_ticks\":0},\"id\":\"3730\",\"type\":\"AdaptiveTicker\"},{\"attributes\":{\"axis\":{\"id\":\"3683\"},\"coordinates\":null,\"grid_line_color\":null,\"group\":null,\"ticker\":null},\"id\":\"3686\",\"type\":\"Grid\"},{\"attributes\":{\"days\":[1,8,15,22]},\"id\":\"3734\",\"type\":\"DaysTicker\"},{\"attributes\":{\"children\":[{\"id\":\"3670\"},{\"id\":\"3674\"},{\"id\":\"3763\"}],\"margin\":[0,0,0,0],\"name\":\"Row04227\",\"tags\":[\"embedded\"]},\"id\":\"3669\",\"type\":\"Row\"},{\"attributes\":{\"axis\":{\"id\":\"3687\"},\"coordinates\":null,\"dimension\":1,\"grid_line_color\":null,\"group\":null,\"ticker\":null},\"id\":\"3690\",\"type\":\"Grid\"},{\"attributes\":{\"margin\":[5,5,5,5],\"name\":\"HSpacer04231\",\"sizing_mode\":\"stretch_width\"},\"id\":\"3670\",\"type\":\"Spacer\"},{\"attributes\":{\"axis_label\":\"Price\",\"coordinates\":null,\"formatter\":{\"id\":\"3717\"},\"group\":null,\"major_label_policy\":{\"id\":\"3718\"},\"ticker\":{\"id\":\"3688\"}},\"id\":\"3687\",\"type\":\"LinearAxis\"},{\"attributes\":{\"days\":[1,2,3,4,5,6,7,8,9,10,11,12,13,14,15,16,17,18,19,20,21,22,23,24,25,26,27,28,29,30,31]},\"id\":\"3732\",\"type\":\"DaysTicker\"},{\"attributes\":{\"end\":1653091200000.0,\"reset_end\":1653091200000.0,\"reset_start\":1574035200000.0,\"start\":1574035200000.0,\"tags\":[[[\"time\",\"time\",null]]]},\"id\":\"3671\",\"type\":\"Range1d\"},{\"attributes\":{\"line_color\":\"#30a2da\",\"line_width\":2,\"x\":{\"field\":\"time\"},\"y\":{\"field\":\"prices\"}},\"id\":\"3707\",\"type\":\"Line\"},{\"attributes\":{\"days\":[1,4,7,10,13,16,19,22,25,28]},\"id\":\"3733\",\"type\":\"DaysTicker\"},{\"attributes\":{},\"id\":\"3714\",\"type\":\"DatetimeTickFormatter\"},{\"attributes\":{\"line_color\":\"#30a2da\",\"line_width\":2,\"x\":{\"field\":\"time\"},\"y\":{\"field\":\"prices\"}},\"id\":\"3712\",\"type\":\"Line\"},{\"attributes\":{\"data\":{\"prices\":{\"__ndarray__\":\"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\",\"dtype\":\"float64\",\"order\":\"little\",\"shape\":[916]},\"time\":{\"__ndarray__\":\"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\",\"dtype\":\"float64\",\"order\":\"little\",\"shape\":[916]}},\"selected\":{\"id\":\"3705\"},\"selection_policy\":{\"id\":\"3726\"}},\"id\":\"3704\",\"type\":\"ColumnDataSource\"}],\"root_ids\":[\"3669\"]},\"title\":\"Bokeh Application\",\"version\":\"2.4.1\"}};\n",
       "    var render_items = [{\"docid\":\"2eb37526-96ac-4119-9b8e-26bb0d23f773\",\"root_ids\":[\"3669\"],\"roots\":{\"3669\":\"69273fad-bfa2-43b9-9907-bd6f7a941dd5\"}}];\n",
       "    root.Bokeh.embed.embed_items_notebook(docs_json, render_items);\n",
       "  }\n",
       "  if (root.Bokeh !== undefined && root.Bokeh.Panel !== undefined) {\n",
       "    embed_document(root);\n",
       "  } else {\n",
       "    var attempts = 0;\n",
       "    var timer = setInterval(function(root) {\n",
       "      if (root.Bokeh !== undefined && root.Bokeh.Panel !== undefined) {\n",
       "        clearInterval(timer);\n",
       "        embed_document(root);\n",
       "      } else if (document.readyState == \"complete\") {\n",
       "        attempts++;\n",
       "        if (attempts > 200) {\n",
       "          clearInterval(timer);\n",
       "          console.log(\"Bokeh: ERROR: Unable to run BokehJS code because BokehJS library is missing\");\n",
       "        }\n",
       "      }\n",
       "    }, 25, root)\n",
       "  }\n",
       "})(window);</script>"
      ],
      "text/plain": [
       ":Curve   [time]   (prices)"
      ]
     },
     "execution_count": 94,
     "metadata": {
      "application/vnd.holoviews_exec.v0+json": {
       "id": "3669"
      }
     },
     "output_type": "execute_result"
    }
   ],
   "source": [
    "# Plotting Daily Prices\n",
    "dai_price_plot = dai.hvplot.line(\n",
    "    x='time',\n",
    "    y='prices',\n",
    "    xlabel='Date',\n",
    "    ylabel='Price',\n",
    "    title='DAI Daily Prices May 2020 - May 2022'\n",
    ")\n",
    "\n",
    "# save as .png\n",
    "# hvplot.save(dai_price_plot, 'images/dai_price.png')\n",
    "\n",
    "#display plot\n",
    "dai_price_plot"
   ]
  },
  {
   "cell_type": "code",
   "execution_count": 95,
   "id": "ace5409c-2f17-432b-9b30-6b25f3502b2a",
   "metadata": {},
   "outputs": [
    {
     "name": "stdout",
     "output_type": "stream",
     "text": [
      "DAI had 173 arbitrage opportunities\n"
     ]
    }
   ],
   "source": [
    "# Counting frequency of prices where the price was above or below its peg \n",
    "# by an amount equal to or greather than the margin\n",
    "dai_arb = dai['prices'][dai['prices'] <= (peg-margin)].count() + dai['prices'][dai['prices'] >= (peg+margin)].count()\n",
    "print(f\"DAI had {dai_arb} arbitrage opportunities\")"
   ]
  },
  {
   "cell_type": "code",
   "execution_count": 96,
   "id": "1c6a275a-79e4-41f5-b357-0c8f51ed0d8c",
   "metadata": {
    "tags": []
   },
   "outputs": [],
   "source": [
    "# Creating variables for standard deviation and mean \n",
    "dai_mean = dai.describe().loc['mean','prices']\n",
    "dai_std = dai.describe().loc['std','prices']"
   ]
  },
  {
   "cell_type": "markdown",
   "id": "b30d6886-c7ac-4dae-ab16-285c1908ed0c",
   "metadata": {},
   "source": [
    "### sUSD : Synthetix USD"
   ]
  },
  {
   "cell_type": "code",
   "execution_count": 97,
   "id": "573d0ed6-d8de-43f0-9dd3-6af3a621ff7b",
   "metadata": {},
   "outputs": [
    {
     "data": {
      "text/html": [
       "<div>\n",
       "<style scoped>\n",
       "    .dataframe tbody tr th:only-of-type {\n",
       "        vertical-align: middle;\n",
       "    }\n",
       "\n",
       "    .dataframe tbody tr th {\n",
       "        vertical-align: top;\n",
       "    }\n",
       "\n",
       "    .dataframe thead th {\n",
       "        text-align: right;\n",
       "    }\n",
       "</style>\n",
       "<table border=\"1\" class=\"dataframe\">\n",
       "  <thead>\n",
       "    <tr style=\"text-align: right;\">\n",
       "      <th></th>\n",
       "      <th>prices</th>\n",
       "      <th>market_caps</th>\n",
       "      <th>total_volumes</th>\n",
       "    </tr>\n",
       "    <tr>\n",
       "      <th>time</th>\n",
       "      <th></th>\n",
       "      <th></th>\n",
       "      <th></th>\n",
       "    </tr>\n",
       "  </thead>\n",
       "  <tbody>\n",
       "    <tr>\n",
       "      <th>2019-05-22</th>\n",
       "      <td>0.992130</td>\n",
       "      <td>1.318240e+06</td>\n",
       "      <td>62110.323411</td>\n",
       "    </tr>\n",
       "    <tr>\n",
       "      <th>2019-05-23</th>\n",
       "      <td>0.974488</td>\n",
       "      <td>1.365479e+06</td>\n",
       "      <td>20560.452745</td>\n",
       "    </tr>\n",
       "    <tr>\n",
       "      <th>2019-05-24</th>\n",
       "      <td>0.976774</td>\n",
       "      <td>1.373353e+06</td>\n",
       "      <td>42091.205095</td>\n",
       "    </tr>\n",
       "    <tr>\n",
       "      <th>2019-05-25</th>\n",
       "      <td>0.974618</td>\n",
       "      <td>1.430889e+06</td>\n",
       "      <td>23278.405628</td>\n",
       "    </tr>\n",
       "    <tr>\n",
       "      <th>2019-05-26</th>\n",
       "      <td>0.975818</td>\n",
       "      <td>1.684320e+06</td>\n",
       "      <td>23308.175649</td>\n",
       "    </tr>\n",
       "  </tbody>\n",
       "</table>\n",
       "</div>"
      ],
      "text/plain": [
       "              prices   market_caps  total_volumes\n",
       "time                                             \n",
       "2019-05-22  0.992130  1.318240e+06   62110.323411\n",
       "2019-05-23  0.974488  1.365479e+06   20560.452745\n",
       "2019-05-24  0.976774  1.373353e+06   42091.205095\n",
       "2019-05-25  0.974618  1.430889e+06   23278.405628\n",
       "2019-05-26  0.975818  1.684320e+06   23308.175649"
      ]
     },
     "execution_count": 97,
     "metadata": {},
     "output_type": "execute_result"
    }
   ],
   "source": [
    "# Pulling in api data for sUSD\n",
    "susd_url = 'https://api.coingecko.com/api/v3/coins/nusd/market_chart?vs_currency=usd&days=1095&interval=daily'\n",
    "\n",
    "# cleaning url. Displaying DataFrame\n",
    "susd = coin_gecko_cleaner(susd_url)\n",
    "\n",
    "# inspect dataframe\n",
    "susd.head()"
   ]
  },
  {
   "cell_type": "code",
   "execution_count": 98,
   "id": "37c31cb0-e0b5-4dbf-9631-7b060c88faea",
   "metadata": {},
   "outputs": [
    {
     "data": {},
     "metadata": {},
     "output_type": "display_data"
    },
    {
     "data": {
      "application/vnd.holoviews_exec.v0+json": "",
      "text/html": [
       "<div id='3875'>\n",
       "\n",
       "\n",
       "\n",
       "\n",
       "\n",
       "  <div class=\"bk-root\" id=\"efe88e27-13cb-4647-a8f4-c185f617f279\" data-root-id=\"3875\"></div>\n",
       "</div>\n",
       "<script type=\"application/javascript\">(function(root) {\n",
       "  function embed_document(root) {\n",
       "    var docs_json = {\"e748bc65-fb04-4b7b-908a-b51176897c71\":{\"defs\":[{\"extends\":null,\"module\":null,\"name\":\"ReactiveHTML1\",\"overrides\":[],\"properties\":[]},{\"extends\":null,\"module\":null,\"name\":\"FlexBox1\",\"overrides\":[],\"properties\":[{\"default\":\"flex-start\",\"kind\":null,\"name\":\"align_content\"},{\"default\":\"flex-start\",\"kind\":null,\"name\":\"align_items\"},{\"default\":\"row\",\"kind\":null,\"name\":\"flex_direction\"},{\"default\":\"wrap\",\"kind\":null,\"name\":\"flex_wrap\"},{\"default\":\"flex-start\",\"kind\":null,\"name\":\"justify_content\"}]},{\"extends\":null,\"module\":null,\"name\":\"GridStack1\",\"overrides\":[],\"properties\":[{\"default\":\"warn\",\"kind\":null,\"name\":\"mode\"},{\"default\":null,\"kind\":null,\"name\":\"ncols\"},{\"default\":null,\"kind\":null,\"name\":\"nrows\"},{\"default\":true,\"kind\":null,\"name\":\"allow_resize\"},{\"default\":true,\"kind\":null,\"name\":\"allow_drag\"},{\"default\":[],\"kind\":null,\"name\":\"state\"}]},{\"extends\":null,\"module\":null,\"name\":\"click1\",\"overrides\":[],\"properties\":[{\"default\":\"\",\"kind\":null,\"name\":\"terminal_output\"},{\"default\":\"\",\"kind\":null,\"name\":\"debug_name\"},{\"default\":0,\"kind\":null,\"name\":\"clears\"}]},{\"extends\":null,\"module\":null,\"name\":\"TemplateActions1\",\"overrides\":[],\"properties\":[{\"default\":0,\"kind\":null,\"name\":\"open_modal\"},{\"default\":0,\"kind\":null,\"name\":\"close_modal\"}]},{\"extends\":null,\"module\":null,\"name\":\"MaterialTemplateActions1\",\"overrides\":[],\"properties\":[{\"default\":0,\"kind\":null,\"name\":\"open_modal\"},{\"default\":0,\"kind\":null,\"name\":\"close_modal\"}]}],\"roots\":{\"references\":[{\"attributes\":{\"axis_label\":\"Date\",\"coordinates\":null,\"formatter\":{\"id\":\"3920\"},\"group\":null,\"major_label_policy\":{\"id\":\"3921\"},\"ticker\":{\"id\":\"3890\"}},\"id\":\"3889\",\"type\":\"DatetimeAxis\"},{\"attributes\":{\"num_minor_ticks\":5,\"tickers\":[{\"id\":\"3935\"},{\"id\":\"3936\"},{\"id\":\"3937\"},{\"id\":\"3938\"},{\"id\":\"3939\"},{\"id\":\"3940\"},{\"id\":\"3941\"},{\"id\":\"3942\"},{\"id\":\"3943\"},{\"id\":\"3944\"},{\"id\":\"3945\"},{\"id\":\"3946\"}]},\"id\":\"3890\",\"type\":\"DatetimeTicker\"},{\"attributes\":{},\"id\":\"3932\",\"type\":\"UnionRenderers\"},{\"attributes\":{\"mantissas\":[1,2,5],\"max_interval\":500.0,\"num_minor_ticks\":0},\"id\":\"3935\",\"type\":\"AdaptiveTicker\"},{\"attributes\":{\"below\":[{\"id\":\"3889\"}],\"center\":[{\"id\":\"3892\"},{\"id\":\"3896\"}],\"height\":300,\"left\":[{\"id\":\"3893\"}],\"margin\":[5,5,5,5],\"min_border_bottom\":10,\"min_border_left\":10,\"min_border_right\":10,\"min_border_top\":10,\"renderers\":[{\"id\":\"3916\"}],\"sizing_mode\":\"fixed\",\"title\":{\"id\":\"3881\"},\"toolbar\":{\"id\":\"3903\"},\"width\":700,\"x_range\":{\"id\":\"3877\"},\"x_scale\":{\"id\":\"3885\"},\"y_range\":{\"id\":\"3878\"},\"y_scale\":{\"id\":\"3887\"}},\"id\":\"3880\",\"subtype\":\"Figure\",\"type\":\"Plot\"},{\"attributes\":{\"children\":[{\"id\":\"3876\"},{\"id\":\"3880\"},{\"id\":\"3969\"}],\"margin\":[0,0,0,0],\"name\":\"Row04406\",\"tags\":[\"embedded\"]},\"id\":\"3875\",\"type\":\"Row\"},{\"attributes\":{\"axis\":{\"id\":\"3889\"},\"coordinates\":null,\"grid_line_color\":null,\"group\":null,\"ticker\":null},\"id\":\"3892\",\"type\":\"Grid\"},{\"attributes\":{\"axis\":{\"id\":\"3893\"},\"coordinates\":null,\"dimension\":1,\"grid_line_color\":null,\"group\":null,\"ticker\":null},\"id\":\"3896\",\"type\":\"Grid\"},{\"attributes\":{\"axis_label\":\"Price\",\"coordinates\":null,\"formatter\":{\"id\":\"3923\"},\"group\":null,\"major_label_policy\":{\"id\":\"3924\"},\"ticker\":{\"id\":\"3894\"}},\"id\":\"3893\",\"type\":\"LinearAxis\"},{\"attributes\":{\"margin\":[5,5,5,5],\"name\":\"HSpacer04411\",\"sizing_mode\":\"stretch_width\"},\"id\":\"3969\",\"type\":\"Spacer\"},{\"attributes\":{\"end\":1653091200000.0,\"reset_end\":1653091200000.0,\"reset_start\":1558483200000.0,\"start\":1558483200000.0,\"tags\":[[[\"time\",\"time\",null]]]},\"id\":\"3877\",\"type\":\"Range1d\"},{\"attributes\":{\"base\":24,\"mantissas\":[1,2,4,6,8,12],\"max_interval\":43200000.0,\"min_interval\":3600000.0,\"num_minor_ticks\":0},\"id\":\"3937\",\"type\":\"AdaptiveTicker\"},{\"attributes\":{\"line_color\":\"#30a2da\",\"line_width\":2,\"x\":{\"field\":\"time\"},\"y\":{\"field\":\"prices\"}},\"id\":\"3913\",\"type\":\"Line\"},{\"attributes\":{},\"id\":\"3920\",\"type\":\"DatetimeTickFormatter\"},{\"attributes\":{},\"id\":\"3921\",\"type\":\"AllLabels\"},{\"attributes\":{\"base\":60,\"mantissas\":[1,2,5,10,15,20,30],\"max_interval\":1800000.0,\"min_interval\":1000.0,\"num_minor_ticks\":0},\"id\":\"3936\",\"type\":\"AdaptiveTicker\"},{\"attributes\":{\"coordinates\":null,\"data_source\":{\"id\":\"3910\"},\"glyph\":{\"id\":\"3913\"},\"group\":null,\"hover_glyph\":null,\"muted_glyph\":{\"id\":\"3915\"},\"nonselection_glyph\":{\"id\":\"3914\"},\"selection_glyph\":{\"id\":\"3918\"},\"view\":{\"id\":\"3917\"}},\"id\":\"3916\",\"type\":\"GlyphRenderer\"},{\"attributes\":{},\"id\":\"3911\",\"type\":\"Selection\"},{\"attributes\":{\"days\":[1,2,3,4,5,6,7,8,9,10,11,12,13,14,15,16,17,18,19,20,21,22,23,24,25,26,27,28,29,30,31]},\"id\":\"3938\",\"type\":\"DaysTicker\"},{\"attributes\":{\"coordinates\":null,\"group\":null,\"text\":\"Synthetic USD Daily Prices May 2020 - May 2022\",\"text_color\":\"black\",\"text_font_size\":\"12pt\"},\"id\":\"3881\",\"type\":\"Title\"},{\"attributes\":{\"source\":{\"id\":\"3910\"}},\"id\":\"3917\",\"type\":\"CDSView\"},{\"attributes\":{\"days\":[1,4,7,10,13,16,19,22,25,28]},\"id\":\"3939\",\"type\":\"DaysTicker\"},{\"attributes\":{},\"id\":\"3897\",\"type\":\"SaveTool\"},{\"attributes\":{},\"id\":\"3923\",\"type\":\"BasicTickFormatter\"},{\"attributes\":{\"days\":[1,8,15,22]},\"id\":\"3940\",\"type\":\"DaysTicker\"},{\"attributes\":{\"margin\":[5,5,5,5],\"name\":\"HSpacer04410\",\"sizing_mode\":\"stretch_width\"},\"id\":\"3876\",\"type\":\"Spacer\"},{\"attributes\":{},\"id\":\"3898\",\"type\":\"PanTool\"},{\"attributes\":{\"callback\":null,\"formatters\":{\"@{time}\":\"datetime\"},\"renderers\":[{\"id\":\"3916\"}],\"tags\":[\"hv_created\"],\"tooltips\":[[\"time\",\"@{time}{%F %T}\"],[\"prices\",\"@{prices}\"]]},\"id\":\"3879\",\"type\":\"HoverTool\"},{\"attributes\":{\"days\":[1,15]},\"id\":\"3941\",\"type\":\"DaysTicker\"},{\"attributes\":{},\"id\":\"3899\",\"type\":\"WheelZoomTool\"},{\"attributes\":{\"tools\":[{\"id\":\"3879\"},{\"id\":\"3897\"},{\"id\":\"3898\"},{\"id\":\"3899\"},{\"id\":\"3900\"},{\"id\":\"3901\"}]},\"id\":\"3903\",\"type\":\"Toolbar\"},{\"attributes\":{\"months\":[0,1,2,3,4,5,6,7,8,9,10,11]},\"id\":\"3942\",\"type\":\"MonthsTicker\"},{\"attributes\":{\"overlay\":{\"id\":\"3902\"}},\"id\":\"3900\",\"type\":\"BoxZoomTool\"},{\"attributes\":{},\"id\":\"3887\",\"type\":\"LinearScale\"},{\"attributes\":{\"months\":[0,2,4,6,8,10]},\"id\":\"3943\",\"type\":\"MonthsTicker\"},{\"attributes\":{\"line_alpha\":0.2,\"line_color\":\"#30a2da\",\"line_width\":2,\"x\":{\"field\":\"time\"},\"y\":{\"field\":\"prices\"}},\"id\":\"3915\",\"type\":\"Line\"},{\"attributes\":{\"months\":[0,4,8]},\"id\":\"3944\",\"type\":\"MonthsTicker\"},{\"attributes\":{},\"id\":\"3885\",\"type\":\"LinearScale\"},{\"attributes\":{\"line_color\":\"#30a2da\",\"line_width\":2,\"x\":{\"field\":\"time\"},\"y\":{\"field\":\"prices\"}},\"id\":\"3918\",\"type\":\"Line\"},{\"attributes\":{\"line_alpha\":0.1,\"line_color\":\"#30a2da\",\"line_width\":2,\"x\":{\"field\":\"time\"},\"y\":{\"field\":\"prices\"}},\"id\":\"3914\",\"type\":\"Line\"},{\"attributes\":{},\"id\":\"3901\",\"type\":\"ResetTool\"},{\"attributes\":{},\"id\":\"3924\",\"type\":\"AllLabels\"},{\"attributes\":{\"months\":[0,6]},\"id\":\"3945\",\"type\":\"MonthsTicker\"},{\"attributes\":{\"bottom_units\":\"screen\",\"coordinates\":null,\"fill_alpha\":0.5,\"fill_color\":\"lightgrey\",\"group\":null,\"left_units\":\"screen\",\"level\":\"overlay\",\"line_alpha\":1.0,\"line_color\":\"black\",\"line_dash\":[4,4],\"line_width\":2,\"right_units\":\"screen\",\"syncable\":false,\"top_units\":\"screen\"},\"id\":\"3902\",\"type\":\"BoxAnnotation\"},{\"attributes\":{},\"id\":\"3946\",\"type\":\"YearsTicker\"},{\"attributes\":{\"end\":1.174976853618185,\"reset_end\":1.174976853618185,\"reset_start\":0.3712984295047403,\"start\":0.3712984295047403,\"tags\":[[[\"prices\",\"prices\",null]]]},\"id\":\"3878\",\"type\":\"Range1d\"},{\"attributes\":{\"data\":{\"prices\":{\"__ndarray__\":\"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\",\"dtype\":\"float64\",\"order\":\"little\",\"shape\":[1095]},\"time\":{\"__ndarray__\":\"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\",\"dtype\":\"float64\",\"order\":\"little\",\"shape\":[1095]}},\"selected\":{\"id\":\"3911\"},\"selection_policy\":{\"id\":\"3932\"}},\"id\":\"3910\",\"type\":\"ColumnDataSource\"},{\"attributes\":{},\"id\":\"3894\",\"type\":\"BasicTicker\"}],\"root_ids\":[\"3875\"]},\"title\":\"Bokeh Application\",\"version\":\"2.4.1\"}};\n",
       "    var render_items = [{\"docid\":\"e748bc65-fb04-4b7b-908a-b51176897c71\",\"root_ids\":[\"3875\"],\"roots\":{\"3875\":\"efe88e27-13cb-4647-a8f4-c185f617f279\"}}];\n",
       "    root.Bokeh.embed.embed_items_notebook(docs_json, render_items);\n",
       "  }\n",
       "  if (root.Bokeh !== undefined && root.Bokeh.Panel !== undefined) {\n",
       "    embed_document(root);\n",
       "  } else {\n",
       "    var attempts = 0;\n",
       "    var timer = setInterval(function(root) {\n",
       "      if (root.Bokeh !== undefined && root.Bokeh.Panel !== undefined) {\n",
       "        clearInterval(timer);\n",
       "        embed_document(root);\n",
       "      } else if (document.readyState == \"complete\") {\n",
       "        attempts++;\n",
       "        if (attempts > 200) {\n",
       "          clearInterval(timer);\n",
       "          console.log(\"Bokeh: ERROR: Unable to run BokehJS code because BokehJS library is missing\");\n",
       "        }\n",
       "      }\n",
       "    }, 25, root)\n",
       "  }\n",
       "})(window);</script>"
      ],
      "text/plain": [
       ":Curve   [time]   (prices)"
      ]
     },
     "execution_count": 98,
     "metadata": {
      "application/vnd.holoviews_exec.v0+json": {
       "id": "3875"
      }
     },
     "output_type": "execute_result"
    }
   ],
   "source": [
    "# Plotting Daily Prices\n",
    "susd_price_plot = susd.hvplot.line(\n",
    "    x='time',\n",
    "    y='prices',\n",
    "    xlabel='Date',\n",
    "    ylabel='Price',\n",
    "    title='Synthetic USD Daily Prices May 2020 - May 2022'\n",
    ")\n",
    "\n",
    "# save as .png\n",
    "# hvplot.save(susd_price_plot, 'images/susd_price.png')\n",
    "\n",
    "# display plot\n",
    "susd_price_plot"
   ]
  },
  {
   "cell_type": "code",
   "execution_count": 99,
   "id": "793c3b7c-9929-4180-887a-aded7eff5fae",
   "metadata": {},
   "outputs": [
    {
     "name": "stdout",
     "output_type": "stream",
     "text": [
      "sUSD had 484 arbitrage opportunities\n"
     ]
    }
   ],
   "source": [
    "# Counting frequency of prices where the price was above or below its peg \n",
    "# by an amount equal to or greather than the margin\n",
    "susd_arb = susd['prices'][susd['prices'] <= (peg-margin)].count() + susd['prices'][susd['prices'] >= (peg+margin)].count()\n",
    "print(f\"sUSD had {susd_arb} arbitrage opportunities\")"
   ]
  },
  {
   "cell_type": "code",
   "execution_count": 100,
   "id": "89e1167a-1945-4e30-8f00-c5c4d9a1238e",
   "metadata": {
    "tags": []
   },
   "outputs": [],
   "source": [
    "# Creating variables for standard deviation and mean \n",
    "susd_mean = susd.describe().loc['mean','prices']\n",
    "susd_std = susd.describe().loc['std','prices']"
   ]
  },
  {
   "cell_type": "markdown",
   "id": "a46b8e5f-e1a9-4450-abe2-6067dd11d1a2",
   "metadata": {},
   "source": [
    "### Stable Coin Summary Table"
   ]
  },
  {
   "cell_type": "code",
   "execution_count": 101,
   "id": "711973f0-1178-448f-a125-8c5ecf0b1b63",
   "metadata": {},
   "outputs": [],
   "source": [
    "# Create Stable Coin Summary Table\n",
    "stable_coin_portfolio = pd.DataFrame()"
   ]
  },
  {
   "cell_type": "code",
   "execution_count": 102,
   "id": "a8c87704-8a8f-4ad5-9b4c-28cc16a7a033",
   "metadata": {},
   "outputs": [
    {
     "data": {
      "text/html": [
       "<style type=\"text/css\">\n",
       "</style>\n",
       "<table id=\"T_ae543_\">\n",
       "  <thead>\n",
       "    <tr>\n",
       "      <th class=\"blank level0\" >&nbsp;</th>\n",
       "      <th class=\"col_heading level0 col0\" >Potential Arbitrage Opportunities</th>\n",
       "      <th class=\"col_heading level0 col1\" >Std $\\sigma$</th>\n",
       "      <th class=\"col_heading level0 col2\" >Mean</th>\n",
       "    </tr>\n",
       "    <tr>\n",
       "      <th class=\"index_name level0\" >Coin Symbol</th>\n",
       "      <th class=\"blank col0\" >&nbsp;</th>\n",
       "      <th class=\"blank col1\" >&nbsp;</th>\n",
       "      <th class=\"blank col2\" >&nbsp;</th>\n",
       "    </tr>\n",
       "  </thead>\n",
       "  <tbody>\n",
       "    <tr>\n",
       "      <th id=\"T_ae543_level0_row0\" class=\"row_heading level0 row0\" >USDC</th>\n",
       "      <td id=\"T_ae543_row0_col0\" class=\"data row0 col0\" >7</td>\n",
       "      <td id=\"T_ae543_row0_col1\" class=\"data row0 col1\" >0.0026</td>\n",
       "      <td id=\"T_ae543_row0_col2\" class=\"data row0 col2\" >1.0005</td>\n",
       "    </tr>\n",
       "    <tr>\n",
       "      <th id=\"T_ae543_level0_row1\" class=\"row_heading level0 row1\" >GUSD</th>\n",
       "      <td id=\"T_ae543_row1_col0\" class=\"data row1 col0\" >149</td>\n",
       "      <td id=\"T_ae543_row1_col1\" class=\"data row1 col1\" >0.0090</td>\n",
       "      <td id=\"T_ae543_row1_col2\" class=\"data row1 col2\" >0.9991</td>\n",
       "    </tr>\n",
       "    <tr>\n",
       "      <th id=\"T_ae543_level0_row2\" class=\"row_heading level0 row2\" >USDT</th>\n",
       "      <td id=\"T_ae543_row2_col0\" class=\"data row2 col0\" >6</td>\n",
       "      <td id=\"T_ae543_row2_col1\" class=\"data row2 col1\" >0.0023</td>\n",
       "      <td id=\"T_ae543_row2_col2\" class=\"data row2 col2\" >1.0007</td>\n",
       "    </tr>\n",
       "    <tr>\n",
       "      <th id=\"T_ae543_level0_row3\" class=\"row_heading level0 row3\" >USDP</th>\n",
       "      <td id=\"T_ae543_row3_col0\" class=\"data row3 col0\" >19</td>\n",
       "      <td id=\"T_ae543_row3_col1\" class=\"data row3 col1\" >0.0034</td>\n",
       "      <td id=\"T_ae543_row3_col2\" class=\"data row3 col2\" >1.0006</td>\n",
       "    </tr>\n",
       "    <tr>\n",
       "      <th id=\"T_ae543_level0_row4\" class=\"row_heading level0 row4\" >DAI</th>\n",
       "      <td id=\"T_ae543_row4_col0\" class=\"data row4 col0\" >173</td>\n",
       "      <td id=\"T_ae543_row4_col1\" class=\"data row4 col1\" >0.0095</td>\n",
       "      <td id=\"T_ae543_row4_col2\" class=\"data row4 col2\" >1.0033</td>\n",
       "    </tr>\n",
       "    <tr>\n",
       "      <th id=\"T_ae543_level0_row5\" class=\"row_heading level0 row5\" >sUSD</th>\n",
       "      <td id=\"T_ae543_row5_col0\" class=\"data row5 col0\" >484</td>\n",
       "      <td id=\"T_ae543_row5_col1\" class=\"data row5 col1\" >0.0309</td>\n",
       "      <td id=\"T_ae543_row5_col2\" class=\"data row5 col2\" >0.9949</td>\n",
       "    </tr>\n",
       "  </tbody>\n",
       "</table>\n"
      ],
      "text/plain": [
       "<pandas.io.formats.style.Styler at 0x7fee7020b590>"
      ]
     },
     "execution_count": 102,
     "metadata": {},
     "output_type": "execute_result"
    }
   ],
   "source": [
    "#Dictionary to add to Stable Coin Summary containing the mean, standard deviation, return, and sharpe ratio of each stable coin\n",
    "stable_coin_symbols = ['USDC', 'GUSD', 'USDT', 'USDP', 'DAI', 'sUSD']\n",
    "stable_coin_arb = [usdc_arb, gusd_arb, usdt_arb, usdp_arb, dai_arb, susd_arb]\n",
    "stable_coin_mean = [usdc_mean, gusd_mean, usdt_mean, usdp_mean, dai_mean, susd_mean]\n",
    "stable_coin_std = [usdc_std, gusd_std, usdt_std, usdp_std, dai_std, susd_std]\n",
    "\n",
    "#Adding to Dataframe\n",
    "stable_coin_portfolio['Coin Symbol']=stable_coin_symbols\n",
    "stable_coin_portfolio['Potential Arbitrage Opportunities']=stable_coin_arb\n",
    "stable_coin_portfolio['Std $\\sigma$']=stable_coin_std\n",
    "stable_coin_portfolio['Mean']=stable_coin_mean\n",
    "\n",
    "# Set index to become the Coin Symbol Column\n",
    "stable_coin_portfolio.set_index('Coin Symbol', inplace=True)\n",
    "\n",
    "#Format Dataframe\n",
    "stable_coin_portfolio.style.format(formatter={'Mean': \"{:.4f}\",\n",
    "                                                      'Std $\\sigma$': \"{:.4f}\"\n",
    "                                                     })"
   ]
  },
  {
   "cell_type": "markdown",
   "id": "e12d3397-f0f7-4b86-940a-70a0c677f96a",
   "metadata": {},
   "source": [
    "## Summary Table Analysis\n",
    "- Based on the number of potential arbitrage opportunities and volatility (std), USDC, GUSD, USDT and USDP would not be good candidates to develop a trading strategy for. \n",
    "    - Although GUSD has 150 potential arbitrage opportunities, it's low standard deviation and .99 cent mean price don't provide enough volatility or potential arbitrage spread.\n",
    "    - sUSD and DAI have higher volatility and would be better candidates to further investingate and potentially develop a trading strategy to capitalize on potential arbitrage opportunities.\n",
    "- As expected the average price for each stable coin is pretty close to 1, with the exception of sUSD\n",
    "    - sUSD stands out in this group of coins with the lowest average price, highest standard deviation, and the most potential arbitrage opportunities, over 480, from May 2019 - May 2022. "
   ]
  },
  {
   "cell_type": "code",
   "execution_count": 103,
   "id": "f3e3ae7e-3cb8-4162-8aaf-0480fa7e233d",
   "metadata": {},
   "outputs": [
    {
     "data": {},
     "metadata": {},
     "output_type": "display_data"
    },
    {
     "data": {
      "application/vnd.holoviews_exec.v0+json": "",
      "text/html": [
       "<div id='4081'>\n",
       "\n",
       "\n",
       "\n",
       "\n",
       "\n",
       "  <div class=\"bk-root\" id=\"e628edf5-cbb7-48ad-b363-733677da094b\" data-root-id=\"4081\"></div>\n",
       "</div>\n",
       "<script type=\"application/javascript\">(function(root) {\n",
       "  function embed_document(root) {\n",
       "    var docs_json = {\"b4ffba7a-0fba-4481-bc45-39702b8ac266\":{\"defs\":[{\"extends\":null,\"module\":null,\"name\":\"ReactiveHTML1\",\"overrides\":[],\"properties\":[]},{\"extends\":null,\"module\":null,\"name\":\"FlexBox1\",\"overrides\":[],\"properties\":[{\"default\":\"flex-start\",\"kind\":null,\"name\":\"align_content\"},{\"default\":\"flex-start\",\"kind\":null,\"name\":\"align_items\"},{\"default\":\"row\",\"kind\":null,\"name\":\"flex_direction\"},{\"default\":\"wrap\",\"kind\":null,\"name\":\"flex_wrap\"},{\"default\":\"flex-start\",\"kind\":null,\"name\":\"justify_content\"}]},{\"extends\":null,\"module\":null,\"name\":\"GridStack1\",\"overrides\":[],\"properties\":[{\"default\":\"warn\",\"kind\":null,\"name\":\"mode\"},{\"default\":null,\"kind\":null,\"name\":\"ncols\"},{\"default\":null,\"kind\":null,\"name\":\"nrows\"},{\"default\":true,\"kind\":null,\"name\":\"allow_resize\"},{\"default\":true,\"kind\":null,\"name\":\"allow_drag\"},{\"default\":[],\"kind\":null,\"name\":\"state\"}]},{\"extends\":null,\"module\":null,\"name\":\"click1\",\"overrides\":[],\"properties\":[{\"default\":\"\",\"kind\":null,\"name\":\"terminal_output\"},{\"default\":\"\",\"kind\":null,\"name\":\"debug_name\"},{\"default\":0,\"kind\":null,\"name\":\"clears\"}]},{\"extends\":null,\"module\":null,\"name\":\"TemplateActions1\",\"overrides\":[],\"properties\":[{\"default\":0,\"kind\":null,\"name\":\"open_modal\"},{\"default\":0,\"kind\":null,\"name\":\"close_modal\"}]},{\"extends\":null,\"module\":null,\"name\":\"MaterialTemplateActions1\",\"overrides\":[],\"properties\":[{\"default\":0,\"kind\":null,\"name\":\"open_modal\"},{\"default\":0,\"kind\":null,\"name\":\"close_modal\"}]}],\"roots\":{\"references\":[{\"attributes\":{},\"id\":\"4096\",\"type\":\"CategoricalTicker\"},{\"attributes\":{\"callback\":null,\"renderers\":[{\"id\":\"4121\"}],\"tags\":[\"hv_created\"],\"tooltips\":[[\"Coin Symbol\",\"@{Coin_Symbol}\"],[\"Potential Arbitrage Opportunities\",\"@{Potential_Arbitrage_Opportunities}\"]]},\"id\":\"4085\",\"type\":\"HoverTool\"},{\"attributes\":{},\"id\":\"4125\",\"type\":\"CategoricalTickFormatter\"},{\"attributes\":{\"axis\":{\"id\":\"4098\"},\"coordinates\":null,\"dimension\":1,\"grid_line_color\":null,\"group\":null,\"ticker\":null},\"id\":\"4101\",\"type\":\"Grid\"},{\"attributes\":{\"axis\":{\"id\":\"4095\"},\"coordinates\":null,\"grid_line_color\":null,\"group\":null,\"ticker\":null},\"id\":\"4097\",\"type\":\"Grid\"},{\"attributes\":{\"data\":{\"Coin_Symbol\":[\"USDC\",\"GUSD\",\"USDT\",\"USDP\",\"DAI\",\"sUSD\"],\"Potential_Arbitrage_Opportunities\":[7,149,6,19,173,484]},\"selected\":{\"id\":\"4116\"},\"selection_policy\":{\"id\":\"4137\"}},\"id\":\"4115\",\"type\":\"ColumnDataSource\"},{\"attributes\":{\"margin\":[5,5,5,5],\"name\":\"HSpacer04587\",\"sizing_mode\":\"stretch_width\"},\"id\":\"4082\",\"type\":\"Spacer\"},{\"attributes\":{\"bottom_units\":\"screen\",\"coordinates\":null,\"fill_alpha\":0.5,\"fill_color\":\"lightgrey\",\"group\":null,\"left_units\":\"screen\",\"level\":\"overlay\",\"line_alpha\":1.0,\"line_color\":\"black\",\"line_dash\":[4,4],\"line_width\":2,\"right_units\":\"screen\",\"syncable\":false,\"top_units\":\"screen\"},\"id\":\"4107\",\"type\":\"BoxAnnotation\"},{\"attributes\":{},\"id\":\"4099\",\"type\":\"BasicTicker\"},{\"attributes\":{\"axis_label\":\"Potential Arbitrage Opportunities\",\"coordinates\":null,\"formatter\":{\"id\":\"4128\"},\"group\":null,\"major_label_policy\":{\"id\":\"4129\"},\"ticker\":{\"id\":\"4099\"}},\"id\":\"4098\",\"type\":\"LinearAxis\"},{\"attributes\":{\"margin\":[5,5,5,5],\"name\":\"HSpacer04588\",\"sizing_mode\":\"stretch_width\"},\"id\":\"4150\",\"type\":\"Spacer\"},{\"attributes\":{\"fill_alpha\":{\"value\":0.1},\"fill_color\":{\"value\":\"#30a2da\"},\"hatch_alpha\":{\"value\":0.1},\"hatch_color\":{\"value\":\"#30a2da\"},\"line_alpha\":{\"value\":0.1},\"top\":{\"field\":\"Potential_Arbitrage_Opportunities\"},\"width\":{\"value\":0.8},\"x\":{\"field\":\"Coin_Symbol\"}},\"id\":\"4119\",\"type\":\"VBar\"},{\"attributes\":{},\"id\":\"4116\",\"type\":\"Selection\"},{\"attributes\":{\"children\":[{\"id\":\"4082\"},{\"id\":\"4086\"},{\"id\":\"4150\"}],\"margin\":[0,0,0,0],\"name\":\"Row04583\",\"tags\":[\"embedded\"]},\"id\":\"4081\",\"type\":\"Row\"},{\"attributes\":{\"fill_alpha\":{\"value\":0.2},\"fill_color\":{\"value\":\"#30a2da\"},\"hatch_alpha\":{\"value\":0.2},\"hatch_color\":{\"value\":\"#30a2da\"},\"line_alpha\":{\"value\":0.2},\"top\":{\"field\":\"Potential_Arbitrage_Opportunities\"},\"width\":{\"value\":0.8},\"x\":{\"field\":\"Coin_Symbol\"}},\"id\":\"4120\",\"type\":\"VBar\"},{\"attributes\":{\"bottom\":{\"value\":0},\"fill_alpha\":{\"value\":1.0},\"fill_color\":{\"value\":\"#30a2da\"},\"hatch_alpha\":{\"value\":1.0},\"hatch_color\":{\"value\":\"#30a2da\"},\"hatch_scale\":{\"value\":12.0},\"hatch_weight\":{\"value\":1.0},\"line_alpha\":{\"value\":1.0},\"line_cap\":{\"value\":\"butt\"},\"line_color\":{\"value\":\"black\"},\"line_dash\":{\"value\":[]},\"line_dash_offset\":{\"value\":0},\"line_join\":{\"value\":\"bevel\"},\"line_width\":{\"value\":1},\"top\":{\"field\":\"Potential_Arbitrage_Opportunities\"},\"width\":{\"value\":0.8},\"x\":{\"field\":\"Coin_Symbol\"}},\"id\":\"4123\",\"type\":\"VBar\"},{\"attributes\":{},\"id\":\"4126\",\"type\":\"AllLabels\"},{\"attributes\":{},\"id\":\"4128\",\"type\":\"BasicTickFormatter\"},{\"attributes\":{\"end\":531.8,\"reset_end\":531.8,\"reset_start\":0.0,\"tags\":[[[\"Potential Arbitrage Opportunities\",\"Potential Arbitrage Opportunities\",null]]]},\"id\":\"4084\",\"type\":\"Range1d\"},{\"attributes\":{\"source\":{\"id\":\"4115\"}},\"id\":\"4122\",\"type\":\"CDSView\"},{\"attributes\":{},\"id\":\"4102\",\"type\":\"SaveTool\"},{\"attributes\":{\"factors\":[\"USDC\",\"GUSD\",\"USDT\",\"USDP\",\"DAI\",\"sUSD\"],\"tags\":[[[\"Coin Symbol\",\"Coin Symbol\",null]]]},\"id\":\"4083\",\"type\":\"FactorRange\"},{\"attributes\":{\"fill_color\":{\"value\":\"#30a2da\"},\"hatch_color\":{\"value\":\"#30a2da\"},\"top\":{\"field\":\"Potential_Arbitrage_Opportunities\"},\"width\":{\"value\":0.8},\"x\":{\"field\":\"Coin_Symbol\"}},\"id\":\"4118\",\"type\":\"VBar\"},{\"attributes\":{},\"id\":\"4103\",\"type\":\"PanTool\"},{\"attributes\":{},\"id\":\"4104\",\"type\":\"WheelZoomTool\"},{\"attributes\":{},\"id\":\"4137\",\"type\":\"UnionRenderers\"},{\"attributes\":{\"tools\":[{\"id\":\"4085\"},{\"id\":\"4102\"},{\"id\":\"4103\"},{\"id\":\"4104\"},{\"id\":\"4105\"},{\"id\":\"4106\"}]},\"id\":\"4108\",\"type\":\"Toolbar\"},{\"attributes\":{\"below\":[{\"id\":\"4095\"}],\"center\":[{\"id\":\"4097\"},{\"id\":\"4101\"}],\"height\":300,\"left\":[{\"id\":\"4098\"}],\"margin\":[5,5,5,5],\"min_border_bottom\":10,\"min_border_left\":10,\"min_border_right\":10,\"min_border_top\":10,\"renderers\":[{\"id\":\"4121\"}],\"sizing_mode\":\"fixed\",\"title\":{\"id\":\"4087\"},\"toolbar\":{\"id\":\"4108\"},\"width\":700,\"x_range\":{\"id\":\"4083\"},\"x_scale\":{\"id\":\"4091\"},\"y_range\":{\"id\":\"4084\"},\"y_scale\":{\"id\":\"4093\"}},\"id\":\"4086\",\"subtype\":\"Figure\",\"type\":\"Plot\"},{\"attributes\":{\"overlay\":{\"id\":\"4107\"}},\"id\":\"4105\",\"type\":\"BoxZoomTool\"},{\"attributes\":{\"coordinates\":null,\"group\":null,\"text\":\"Arbitrage Opportunities of Stable Coins May 2019 - May 2022\",\"text_color\":\"black\",\"text_font_size\":\"12pt\"},\"id\":\"4087\",\"type\":\"Title\"},{\"attributes\":{\"coordinates\":null,\"data_source\":{\"id\":\"4115\"},\"glyph\":{\"id\":\"4118\"},\"group\":null,\"hover_glyph\":null,\"muted_glyph\":{\"id\":\"4120\"},\"nonselection_glyph\":{\"id\":\"4119\"},\"selection_glyph\":{\"id\":\"4123\"},\"view\":{\"id\":\"4122\"}},\"id\":\"4121\",\"type\":\"GlyphRenderer\"},{\"attributes\":{},\"id\":\"4129\",\"type\":\"AllLabels\"},{\"attributes\":{},\"id\":\"4091\",\"type\":\"CategoricalScale\"},{\"attributes\":{},\"id\":\"4093\",\"type\":\"LinearScale\"},{\"attributes\":{},\"id\":\"4106\",\"type\":\"ResetTool\"},{\"attributes\":{\"axis_label\":\"Stable Coin Symbols\",\"coordinates\":null,\"formatter\":{\"id\":\"4125\"},\"group\":null,\"major_label_policy\":{\"id\":\"4126\"},\"ticker\":{\"id\":\"4096\"}},\"id\":\"4095\",\"type\":\"CategoricalAxis\"}],\"root_ids\":[\"4081\"]},\"title\":\"Bokeh Application\",\"version\":\"2.4.1\"}};\n",
       "    var render_items = [{\"docid\":\"b4ffba7a-0fba-4481-bc45-39702b8ac266\",\"root_ids\":[\"4081\"],\"roots\":{\"4081\":\"e628edf5-cbb7-48ad-b363-733677da094b\"}}];\n",
       "    root.Bokeh.embed.embed_items_notebook(docs_json, render_items);\n",
       "  }\n",
       "  if (root.Bokeh !== undefined && root.Bokeh.Panel !== undefined) {\n",
       "    embed_document(root);\n",
       "  } else {\n",
       "    var attempts = 0;\n",
       "    var timer = setInterval(function(root) {\n",
       "      if (root.Bokeh !== undefined && root.Bokeh.Panel !== undefined) {\n",
       "        clearInterval(timer);\n",
       "        embed_document(root);\n",
       "      } else if (document.readyState == \"complete\") {\n",
       "        attempts++;\n",
       "        if (attempts > 200) {\n",
       "          clearInterval(timer);\n",
       "          console.log(\"Bokeh: ERROR: Unable to run BokehJS code because BokehJS library is missing\");\n",
       "        }\n",
       "      }\n",
       "    }, 25, root)\n",
       "  }\n",
       "})(window);</script>"
      ],
      "text/plain": [
       ":Bars   [Coin Symbol]   (Potential Arbitrage Opportunities)"
      ]
     },
     "execution_count": 103,
     "metadata": {
      "application/vnd.holoviews_exec.v0+json": {
       "id": "4081"
      }
     },
     "output_type": "execute_result"
    }
   ],
   "source": [
    "# Plotting stable_coin_portfolio DataFrame\n",
    "stable_coin_plot = stable_coin_portfolio['Potential Arbitrage Opportunities'].hvplot.bar(\n",
    "    xlabel='Stable Coin Symbols',\n",
    "    ylabel='Potential Arbitrage Opportunities',\n",
    "    title = 'Arbitrage Opportunities of Stable Coins May 2019 - May 2022'\n",
    ")\n",
    "# # Saving plot to .png file\n",
    "# hvplot.save(stable_coin_plot, 'images/arbitrage_opp_plot.png')\n",
    "\n",
    "# display the graph\n",
    "stable_coin_plot"
   ]
  },
  {
   "cell_type": "code",
   "execution_count": 104,
   "id": "0b23f42d-e375-4d6d-973f-3fb9dff30714",
   "metadata": {},
   "outputs": [
    {
     "data": {
      "text/plain": [
       "<AxesSubplot:title={'center':'Stable Coin Prices 2019-2022'}, xlabel='time'>"
      ]
     },
     "execution_count": 104,
     "metadata": {},
     "output_type": "execute_result"
    },
    {
     "data": {
      "image/png": "[encoded data removed]",
      "text/plain": [
       "<Figure size 1080x504 with 1 Axes>"
      ]
     },
     "metadata": {
      "needs_background": "light"
     },
     "output_type": "display_data"
    }
   ],
   "source": [
    "# Overlapping line plot to display price volatility \n",
    "\n",
    "combined_plot = susd['prices'].plot(\n",
    "    legend=True,\n",
    "    figsize=(15,7),\n",
    "    color = 'brown',\n",
    "    label = 'sUSD'\n",
    ")\n",
    "usdc['prices'].plot(\n",
    "    legend=True,\n",
    "    figsize=(15,7),\n",
    "    title = 'Stable Coin Prices 2019-2022',\n",
    "    color = 'green',\n",
    "    label = 'USDC'\n",
    ")\n",
    "gusd['prices'].plot(\n",
    "    legend=True,\n",
    "    figsize=(15,7),\n",
    "    color = 'purple',\n",
    "    label = 'GUSD'\n",
    ")\n",
    "usdt['prices'].plot(\n",
    "    legend=True,\n",
    "    figsize=(15,7),\n",
    "    color = 'red',\n",
    "    label = 'USDT'\n",
    ")\n",
    "usdp['prices'].plot(\n",
    "    legend=True,\n",
    "    figsize=(15,7),\n",
    "    color = 'yellow',\n",
    "    label = 'USDP'\n",
    ")\n",
    "dai['prices'].plot(\n",
    "    legend=True,\n",
    "    figsize=(15,7),\n",
    "    color = 'orange',\n",
    "    label = 'DAI'\n",
    ")\n"
   ]
  },
  {
   "cell_type": "code",
   "execution_count": 105,
   "id": "5003bdd1-f85e-4c13-ab51-eb8f4cfbfa04",
   "metadata": {},
   "outputs": [],
   "source": [
    "#save plot to file\n",
    "combined_plot.figure.savefig('images/overlapping_coin_prices.png')"
   ]
  },
  {
   "cell_type": "code",
   "execution_count": 106,
   "id": "7d6b3bda-10ef-41c1-869b-059b9118deb3",
   "metadata": {},
   "outputs": [
    {
     "data": {},
     "metadata": {},
     "output_type": "display_data"
    },
    {
     "data": {
      "application/vnd.holoviews_exec.v0+json": "",
      "text/html": [
       "<div id='4202'>\n",
       "\n",
       "\n",
       "\n",
       "\n",
       "\n",
       "  <div class=\"bk-root\" id=\"3f3c9d70-ef18-41dc-bed6-8685d2ca7021\" data-root-id=\"4202\"></div>\n",
       "</div>\n",
       "<script type=\"application/javascript\">(function(root) {\n",
       "  function embed_document(root) {\n",
       "    var docs_json = {\"9972d27c-eea0-4fb9-b74c-b8875b011947\":{\"defs\":[{\"extends\":null,\"module\":null,\"name\":\"ReactiveHTML1\",\"overrides\":[],\"properties\":[]},{\"extends\":null,\"module\":null,\"name\":\"FlexBox1\",\"overrides\":[],\"properties\":[{\"default\":\"flex-start\",\"kind\":null,\"name\":\"align_content\"},{\"default\":\"flex-start\",\"kind\":null,\"name\":\"align_items\"},{\"default\":\"row\",\"kind\":null,\"name\":\"flex_direction\"},{\"default\":\"wrap\",\"kind\":null,\"name\":\"flex_wrap\"},{\"default\":\"flex-start\",\"kind\":null,\"name\":\"justify_content\"}]},{\"extends\":null,\"module\":null,\"name\":\"GridStack1\",\"overrides\":[],\"properties\":[{\"default\":\"warn\",\"kind\":null,\"name\":\"mode\"},{\"default\":null,\"kind\":null,\"name\":\"ncols\"},{\"default\":null,\"kind\":null,\"name\":\"nrows\"},{\"default\":true,\"kind\":null,\"name\":\"allow_resize\"},{\"default\":true,\"kind\":null,\"name\":\"allow_drag\"},{\"default\":[],\"kind\":null,\"name\":\"state\"}]},{\"extends\":null,\"module\":null,\"name\":\"click1\",\"overrides\":[],\"properties\":[{\"default\":\"\",\"kind\":null,\"name\":\"terminal_output\"},{\"default\":\"\",\"kind\":null,\"name\":\"debug_name\"},{\"default\":0,\"kind\":null,\"name\":\"clears\"}]},{\"extends\":null,\"module\":null,\"name\":\"TemplateActions1\",\"overrides\":[],\"properties\":[{\"default\":0,\"kind\":null,\"name\":\"open_modal\"},{\"default\":0,\"kind\":null,\"name\":\"close_modal\"}]},{\"extends\":null,\"module\":null,\"name\":\"MaterialTemplateActions1\",\"overrides\":[],\"properties\":[{\"default\":0,\"kind\":null,\"name\":\"open_modal\"},{\"default\":0,\"kind\":null,\"name\":\"close_modal\"}]}],\"roots\":{\"references\":[{\"attributes\":{\"factors\":[\"USDC\",\"GUSD\",\"USDT\",\"USDP\",\"DAI\",\"sUSD\"],\"tags\":[[[\"Coin Symbol\",\"Coin Symbol\",null]]]},\"id\":\"4204\",\"type\":\"FactorRange\"},{\"attributes\":{\"below\":[{\"id\":\"4216\"}],\"center\":[{\"id\":\"4218\"},{\"id\":\"4222\"}],\"height\":300,\"left\":[{\"id\":\"4219\"}],\"margin\":[5,5,5,5],\"min_border_bottom\":10,\"min_border_left\":10,\"min_border_right\":10,\"min_border_top\":10,\"renderers\":[{\"id\":\"4242\"}],\"sizing_mode\":\"fixed\",\"title\":{\"id\":\"4208\"},\"toolbar\":{\"id\":\"4229\"},\"width\":700,\"x_range\":{\"id\":\"4204\"},\"x_scale\":{\"id\":\"4212\"},\"y_range\":{\"id\":\"4205\"},\"y_scale\":{\"id\":\"4214\"}},\"id\":\"4207\",\"subtype\":\"Figure\",\"type\":\"Plot\"},{\"attributes\":{\"margin\":[5,5,5,5],\"name\":\"HSpacer04737\",\"sizing_mode\":\"stretch_width\"},\"id\":\"4271\",\"type\":\"Spacer\"},{\"attributes\":{},\"id\":\"4247\",\"type\":\"AllLabels\"},{\"attributes\":{},\"id\":\"4224\",\"type\":\"PanTool\"},{\"attributes\":{},\"id\":\"4249\",\"type\":\"BasicTickFormatter\"},{\"attributes\":{\"bottom_units\":\"screen\",\"coordinates\":null,\"fill_alpha\":0.5,\"fill_color\":\"lightgrey\",\"group\":null,\"left_units\":\"screen\",\"level\":\"overlay\",\"line_alpha\":1.0,\"line_color\":\"black\",\"line_dash\":[4,4],\"line_width\":2,\"right_units\":\"screen\",\"syncable\":false,\"top_units\":\"screen\"},\"id\":\"4228\",\"type\":\"BoxAnnotation\"},{\"attributes\":{},\"id\":\"4225\",\"type\":\"WheelZoomTool\"},{\"attributes\":{\"axis_label\":\"Stable Coin Symbols\",\"coordinates\":null,\"formatter\":{\"id\":\"4246\"},\"group\":null,\"major_label_policy\":{\"id\":\"4247\"},\"ticker\":{\"id\":\"4217\"}},\"id\":\"4216\",\"type\":\"CategoricalAxis\"},{\"attributes\":{\"axis\":{\"id\":\"4216\"},\"coordinates\":null,\"grid_line_color\":null,\"group\":null,\"ticker\":null},\"id\":\"4218\",\"type\":\"Grid\"},{\"attributes\":{\"coordinates\":null,\"group\":null,\"text\":\"Standard Deviations of Stable Coins May 2019 - May 2022\",\"text_color\":\"black\",\"text_font_size\":\"12pt\"},\"id\":\"4208\",\"type\":\"Title\"},{\"attributes\":{},\"id\":\"4258\",\"type\":\"UnionRenderers\"},{\"attributes\":{\"end\":0.0337618268427069,\"reset_end\":0.0337618268427069,\"reset_start\":0.0,\"tags\":[[[\"Std $\\\\sigma$\",\"Std $\\\\sigma$\",null]]]},\"id\":\"4205\",\"type\":\"Range1d\"},{\"attributes\":{},\"id\":\"4220\",\"type\":\"BasicTicker\"},{\"attributes\":{},\"id\":\"4227\",\"type\":\"ResetTool\"},{\"attributes\":{\"axis_label\":\"Standard Devaition\",\"coordinates\":null,\"formatter\":{\"id\":\"4249\"},\"group\":null,\"major_label_policy\":{\"id\":\"4250\"},\"ticker\":{\"id\":\"4220\"}},\"id\":\"4219\",\"type\":\"LinearAxis\"},{\"attributes\":{\"axis\":{\"id\":\"4219\"},\"coordinates\":null,\"dimension\":1,\"grid_line_color\":null,\"group\":null,\"ticker\":null},\"id\":\"4222\",\"type\":\"Grid\"},{\"attributes\":{\"coordinates\":null,\"data_source\":{\"id\":\"4236\"},\"glyph\":{\"id\":\"4239\"},\"group\":null,\"hover_glyph\":null,\"muted_glyph\":{\"id\":\"4241\"},\"nonselection_glyph\":{\"id\":\"4240\"},\"selection_glyph\":{\"id\":\"4244\"},\"view\":{\"id\":\"4243\"}},\"id\":\"4242\",\"type\":\"GlyphRenderer\"},{\"attributes\":{},\"id\":\"4250\",\"type\":\"AllLabels\"},{\"attributes\":{\"tools\":[{\"id\":\"4206\"},{\"id\":\"4223\"},{\"id\":\"4224\"},{\"id\":\"4225\"},{\"id\":\"4226\"},{\"id\":\"4227\"}]},\"id\":\"4229\",\"type\":\"Toolbar\"},{\"attributes\":{\"callback\":null,\"renderers\":[{\"id\":\"4242\"}],\"tags\":[\"hv_created\"],\"tooltips\":[[\"Coin Symbol\",\"@{Coin_Symbol}\"],[\"Std $\\\\sigma$\",\"@{Std_reverse_over_sigma}\"]]},\"id\":\"4206\",\"type\":\"HoverTool\"},{\"attributes\":{},\"id\":\"4214\",\"type\":\"LinearScale\"},{\"attributes\":{\"children\":[{\"id\":\"4203\"},{\"id\":\"4207\"},{\"id\":\"4271\"}],\"margin\":[0,0,0,0],\"name\":\"Row04732\",\"tags\":[\"embedded\"]},\"id\":\"4202\",\"type\":\"Row\"},{\"attributes\":{\"fill_alpha\":{\"value\":0.2},\"fill_color\":{\"value\":\"#30a2da\"},\"hatch_alpha\":{\"value\":0.2},\"hatch_color\":{\"value\":\"#30a2da\"},\"line_alpha\":{\"value\":0.2},\"top\":{\"field\":\"Std_reverse_over_sigma\"},\"width\":{\"value\":0.8},\"x\":{\"field\":\"Coin_Symbol\"}},\"id\":\"4241\",\"type\":\"VBar\"},{\"attributes\":{},\"id\":\"4217\",\"type\":\"CategoricalTicker\"},{\"attributes\":{},\"id\":\"4237\",\"type\":\"Selection\"},{\"attributes\":{\"margin\":[5,5,5,5],\"name\":\"HSpacer04736\",\"sizing_mode\":\"stretch_width\"},\"id\":\"4203\",\"type\":\"Spacer\"},{\"attributes\":{},\"id\":\"4212\",\"type\":\"CategoricalScale\"},{\"attributes\":{\"overlay\":{\"id\":\"4228\"}},\"id\":\"4226\",\"type\":\"BoxZoomTool\"},{\"attributes\":{\"fill_color\":{\"value\":\"#30a2da\"},\"hatch_color\":{\"value\":\"#30a2da\"},\"top\":{\"field\":\"Std_reverse_over_sigma\"},\"width\":{\"value\":0.8},\"x\":{\"field\":\"Coin_Symbol\"}},\"id\":\"4239\",\"type\":\"VBar\"},{\"attributes\":{},\"id\":\"4223\",\"type\":\"SaveTool\"},{\"attributes\":{\"source\":{\"id\":\"4236\"}},\"id\":\"4243\",\"type\":\"CDSView\"},{\"attributes\":{\"bottom\":{\"value\":0},\"fill_alpha\":{\"value\":1.0},\"fill_color\":{\"value\":\"#30a2da\"},\"hatch_alpha\":{\"value\":1.0},\"hatch_color\":{\"value\":\"#30a2da\"},\"hatch_scale\":{\"value\":12.0},\"hatch_weight\":{\"value\":1.0},\"line_alpha\":{\"value\":1.0},\"line_cap\":{\"value\":\"butt\"},\"line_color\":{\"value\":\"black\"},\"line_dash\":{\"value\":[]},\"line_dash_offset\":{\"value\":0},\"line_join\":{\"value\":\"bevel\"},\"line_width\":{\"value\":1},\"top\":{\"field\":\"Std_reverse_over_sigma\"},\"width\":{\"value\":0.8},\"x\":{\"field\":\"Coin_Symbol\"}},\"id\":\"4244\",\"type\":\"VBar\"},{\"attributes\":{\"data\":{\"Coin_Symbol\":[\"USDC\",\"GUSD\",\"USDT\",\"USDP\",\"DAI\",\"sUSD\"],\"Std_reverse_over_sigma\":{\"__ndarray__\":\"oRQ5sbgqZT9kBT9IQ1eCPy9jEklL3mI/RBMqr7yKaz/vKVYeL3eDP9u4zULDpJ8/\",\"dtype\":\"float64\",\"order\":\"little\",\"shape\":[6]}},\"selected\":{\"id\":\"4237\"},\"selection_policy\":{\"id\":\"4258\"}},\"id\":\"4236\",\"type\":\"ColumnDataSource\"},{\"attributes\":{\"fill_alpha\":{\"value\":0.1},\"fill_color\":{\"value\":\"#30a2da\"},\"hatch_alpha\":{\"value\":0.1},\"hatch_color\":{\"value\":\"#30a2da\"},\"line_alpha\":{\"value\":0.1},\"top\":{\"field\":\"Std_reverse_over_sigma\"},\"width\":{\"value\":0.8},\"x\":{\"field\":\"Coin_Symbol\"}},\"id\":\"4240\",\"type\":\"VBar\"},{\"attributes\":{},\"id\":\"4246\",\"type\":\"CategoricalTickFormatter\"}],\"root_ids\":[\"4202\"]},\"title\":\"Bokeh Application\",\"version\":\"2.4.1\"}};\n",
       "    var render_items = [{\"docid\":\"9972d27c-eea0-4fb9-b74c-b8875b011947\",\"root_ids\":[\"4202\"],\"roots\":{\"4202\":\"3f3c9d70-ef18-41dc-bed6-8685d2ca7021\"}}];\n",
       "    root.Bokeh.embed.embed_items_notebook(docs_json, render_items);\n",
       "  }\n",
       "  if (root.Bokeh !== undefined && root.Bokeh.Panel !== undefined) {\n",
       "    embed_document(root);\n",
       "  } else {\n",
       "    var attempts = 0;\n",
       "    var timer = setInterval(function(root) {\n",
       "      if (root.Bokeh !== undefined && root.Bokeh.Panel !== undefined) {\n",
       "        clearInterval(timer);\n",
       "        embed_document(root);\n",
       "      } else if (document.readyState == \"complete\") {\n",
       "        attempts++;\n",
       "        if (attempts > 200) {\n",
       "          clearInterval(timer);\n",
       "          console.log(\"Bokeh: ERROR: Unable to run BokehJS code because BokehJS library is missing\");\n",
       "        }\n",
       "      }\n",
       "    }, 25, root)\n",
       "  }\n",
       "})(window);</script>"
      ],
      "text/plain": [
       ":Bars   [Coin Symbol]   (Std $\\sigma$)"
      ]
     },
     "execution_count": 106,
     "metadata": {
      "application/vnd.holoviews_exec.v0+json": {
       "id": "4202"
      }
     },
     "output_type": "execute_result"
    }
   ],
   "source": [
    "# Plotting stable_coin_portfolio standard deviations\n",
    "stable_coin_std_plot = stable_coin_portfolio['Std $\\sigma$'].hvplot.bar(\n",
    "    xlabel='Stable Coin Symbols',\n",
    "    ylabel='Standard Devaition',\n",
    "    title = 'Standard Deviations of Stable Coins May 2019 - May 2022'\n",
    ")\n",
    "stable_coin_std_plot"
   ]
  },
  {
   "cell_type": "markdown",
   "id": "a52130d7-03dc-4958-92d8-aa29d01ce8fb",
   "metadata": {},
   "source": [
    "## Price Plot Analysis\n",
    " - sUSD was consistently the most volatile coin.\n",
    " - Overall, stable coins showed higher volatility between 2019-2021. Volatility decreases in 2022 showing a small increase of activity again in May 2022."
   ]
  },
  {
   "cell_type": "markdown",
   "id": "9e1a7896-ff8b-4fd2-9d16-b689fa3428e3",
   "metadata": {},
   "source": [
    "## Rolling 3 Day Volatility Analisys"
   ]
  },
  {
   "cell_type": "code",
   "execution_count": 107,
   "id": "e00807f1-bbb8-4b57-b825-5e34395103be",
   "metadata": {},
   "outputs": [
    {
     "data": {
      "text/html": [
       "<div>\n",
       "<style scoped>\n",
       "    .dataframe tbody tr th:only-of-type {\n",
       "        vertical-align: middle;\n",
       "    }\n",
       "\n",
       "    .dataframe tbody tr th {\n",
       "        vertical-align: top;\n",
       "    }\n",
       "\n",
       "    .dataframe thead th {\n",
       "        text-align: right;\n",
       "    }\n",
       "</style>\n",
       "<table border=\"1\" class=\"dataframe\">\n",
       "  <thead>\n",
       "    <tr style=\"text-align: right;\">\n",
       "      <th></th>\n",
       "      <th>USDC</th>\n",
       "      <th>GUSD</th>\n",
       "      <th>USDT</th>\n",
       "      <th>USDP</th>\n",
       "      <th>DAI</th>\n",
       "      <th>sUSD</th>\n",
       "    </tr>\n",
       "    <tr>\n",
       "      <th>time</th>\n",
       "      <th></th>\n",
       "      <th></th>\n",
       "      <th></th>\n",
       "      <th></th>\n",
       "      <th></th>\n",
       "      <th></th>\n",
       "    </tr>\n",
       "  </thead>\n",
       "  <tbody>\n",
       "    <tr>\n",
       "      <th>2019-05-22</th>\n",
       "      <td>0.999802</td>\n",
       "      <td>0.996765</td>\n",
       "      <td>1.000570</td>\n",
       "      <td>0.997595</td>\n",
       "      <td>NaN</td>\n",
       "      <td>0.992130</td>\n",
       "    </tr>\n",
       "    <tr>\n",
       "      <th>2019-05-23</th>\n",
       "      <td>1.002040</td>\n",
       "      <td>0.999212</td>\n",
       "      <td>1.001483</td>\n",
       "      <td>0.997621</td>\n",
       "      <td>NaN</td>\n",
       "      <td>0.974488</td>\n",
       "    </tr>\n",
       "    <tr>\n",
       "      <th>2019-05-24</th>\n",
       "      <td>1.000936</td>\n",
       "      <td>1.000104</td>\n",
       "      <td>1.001855</td>\n",
       "      <td>0.995586</td>\n",
       "      <td>NaN</td>\n",
       "      <td>0.976774</td>\n",
       "    </tr>\n",
       "    <tr>\n",
       "      <th>2019-05-25</th>\n",
       "      <td>1.003713</td>\n",
       "      <td>1.000882</td>\n",
       "      <td>1.001235</td>\n",
       "      <td>0.995438</td>\n",
       "      <td>NaN</td>\n",
       "      <td>0.974618</td>\n",
       "    </tr>\n",
       "    <tr>\n",
       "      <th>2019-05-26</th>\n",
       "      <td>0.999965</td>\n",
       "      <td>1.009095</td>\n",
       "      <td>1.007065</td>\n",
       "      <td>0.995349</td>\n",
       "      <td>NaN</td>\n",
       "      <td>0.975818</td>\n",
       "    </tr>\n",
       "    <tr>\n",
       "      <th>...</th>\n",
       "      <td>...</td>\n",
       "      <td>...</td>\n",
       "      <td>...</td>\n",
       "      <td>...</td>\n",
       "      <td>...</td>\n",
       "      <td>...</td>\n",
       "    </tr>\n",
       "    <tr>\n",
       "      <th>2022-05-17</th>\n",
       "      <td>1.002662</td>\n",
       "      <td>1.002885</td>\n",
       "      <td>1.000586</td>\n",
       "      <td>1.001213</td>\n",
       "      <td>1.001898</td>\n",
       "      <td>1.002738</td>\n",
       "    </tr>\n",
       "    <tr>\n",
       "      <th>2022-05-18</th>\n",
       "      <td>1.002225</td>\n",
       "      <td>1.001748</td>\n",
       "      <td>1.000228</td>\n",
       "      <td>1.001697</td>\n",
       "      <td>1.001998</td>\n",
       "      <td>1.000063</td>\n",
       "    </tr>\n",
       "    <tr>\n",
       "      <th>2022-05-19</th>\n",
       "      <td>1.001676</td>\n",
       "      <td>1.003524</td>\n",
       "      <td>1.001082</td>\n",
       "      <td>1.003353</td>\n",
       "      <td>1.002607</td>\n",
       "      <td>0.998989</td>\n",
       "    </tr>\n",
       "    <tr>\n",
       "      <th>2022-05-20</th>\n",
       "      <td>1.001674</td>\n",
       "      <td>1.002706</td>\n",
       "      <td>1.001254</td>\n",
       "      <td>1.002617</td>\n",
       "      <td>1.002442</td>\n",
       "      <td>1.000332</td>\n",
       "    </tr>\n",
       "    <tr>\n",
       "      <th>2022-05-21</th>\n",
       "      <td>1.002087</td>\n",
       "      <td>1.000798</td>\n",
       "      <td>1.001684</td>\n",
       "      <td>1.001101</td>\n",
       "      <td>1.002078</td>\n",
       "      <td>1.002617</td>\n",
       "    </tr>\n",
       "  </tbody>\n",
       "</table>\n",
       "<p>1096 rows × 6 columns</p>\n",
       "</div>"
      ],
      "text/plain": [
       "                USDC      GUSD      USDT      USDP       DAI      sUSD\n",
       "time                                                                  \n",
       "2019-05-22  0.999802  0.996765  1.000570  0.997595       NaN  0.992130\n",
       "2019-05-23  1.002040  0.999212  1.001483  0.997621       NaN  0.974488\n",
       "2019-05-24  1.000936  1.000104  1.001855  0.995586       NaN  0.976774\n",
       "2019-05-25  1.003713  1.000882  1.001235  0.995438       NaN  0.974618\n",
       "2019-05-26  0.999965  1.009095  1.007065  0.995349       NaN  0.975818\n",
       "...              ...       ...       ...       ...       ...       ...\n",
       "2022-05-17  1.002662  1.002885  1.000586  1.001213  1.001898  1.002738\n",
       "2022-05-18  1.002225  1.001748  1.000228  1.001697  1.001998  1.000063\n",
       "2022-05-19  1.001676  1.003524  1.001082  1.003353  1.002607  0.998989\n",
       "2022-05-20  1.001674  1.002706  1.001254  1.002617  1.002442  1.000332\n",
       "2022-05-21  1.002087  1.000798  1.001684  1.001101  1.002078  1.002617\n",
       "\n",
       "[1096 rows x 6 columns]"
      ]
     },
     "execution_count": 107,
     "metadata": {},
     "output_type": "execute_result"
    }
   ],
   "source": [
    "# Create a comparative Rolling 3 day mean price plot \n",
    "stable_coin_prices_df = pd.concat(\n",
    "    [\n",
    "        usdc['prices'], \n",
    "        gusd['prices'], \n",
    "        usdt['prices'], \n",
    "        usdp['prices'], \n",
    "        dai['prices'], \n",
    "        susd['prices']\n",
    "    ],\n",
    "    ignore_index=True,\n",
    "    axis=1,\n",
    ")\n",
    "\n",
    "stable_coin_prices_df.columns=['USDC', 'GUSD', 'USDT', 'USDP', 'DAI', 'sUSD']\n",
    "\n",
    "# # Review\n",
    "stable_coin_prices_df"
   ]
  },
  {
   "cell_type": "code",
   "execution_count": 108,
   "id": "2b31823e-1d34-4349-9420-8c00970761b3",
   "metadata": {},
   "outputs": [
    {
     "data": {
      "text/plain": [
       "<AxesSubplot:title={'center':'Rolling 3 Day Mean Prices - 2019-2022'}, xlabel='time'>"
      ]
     },
     "execution_count": 108,
     "metadata": {},
     "output_type": "execute_result"
    },
    {
     "data": {
      "image/png": "[encoded data removed]",
      "text/plain": [
       "<Figure size 720x360 with 1 Axes>"
      ]
     },
     "metadata": {
      "needs_background": "light"
     },
     "output_type": "display_data"
    }
   ],
   "source": [
    "stable_coin_3_Day_rolling = stable_coin_prices_df.rolling(3).mean()\n",
    "stable_coin_3_Day_rolling.plot(\n",
    "    figsize=(10,5),\n",
    "    title='Rolling 3 Day Mean Prices - 2019-2022'\n",
    ")"
   ]
  },
  {
   "cell_type": "code",
   "execution_count": 109,
   "id": "354102a1-f379-4e19-a924-fa8a8d662631",
   "metadata": {},
   "outputs": [
    {
     "data": {
      "text/plain": [
       "<AxesSubplot:title={'center':'Rolling 3 Day Variance- 2019-2022'}, xlabel='time'>"
      ]
     },
     "execution_count": 109,
     "metadata": {},
     "output_type": "execute_result"
    },
    {
     "data": {
      "image/png": "[encoded data removed]",
      "text/plain": [
       "<Figure size 720x360 with 1 Axes>"
      ]
     },
     "metadata": {
      "needs_background": "light"
     },
     "output_type": "display_data"
    }
   ],
   "source": [
    "stable_coin_3_Day_rolling = stable_coin_prices_df.rolling(3).var()\n",
    "stable_coin_3_Day_rolling.plot(\n",
    "    figsize=(10,5),\n",
    "    title='Rolling 3 Day Variance- 2019-2022'\n",
    ")"
   ]
  },
  {
   "cell_type": "markdown",
   "id": "bee7192e-710d-4447-9f87-71f1d223f49a",
   "metadata": {},
   "source": [
    "### Rolling 3 Day Analysis\n",
    "* As mentioned above, trends changed over time with more volatility on most coins prior to 2021\n",
    "* Significant peaks, as seen for sUSD, DAI and GUSD lasted several days."
   ]
  },
  {
   "cell_type": "markdown",
   "id": "05dd10ea-56ea-4c65-ac0f-7b625e266513",
   "metadata": {},
   "source": [
    "## Modeling Stable Coin Arbitrage: May 2021 - May 2022"
   ]
  },
  {
   "cell_type": "markdown",
   "id": "812d52e1-cf03-4e86-98ef-e5c3e840bdde",
   "metadata": {},
   "source": [
    "### Create stable coin price dataset"
   ]
  },
  {
   "cell_type": "code",
   "execution_count": 110,
   "id": "02157380",
   "metadata": {},
   "outputs": [
    {
     "data": {
      "text/plain": [
       "<AxesSubplot:title={'center':'Stable Coin Prices May 2021 - May 2022'}, xlabel='Date'>"
      ]
     },
     "execution_count": 110,
     "metadata": {},
     "output_type": "execute_result"
    },
    {
     "data": {
      "image/png": "[encoded data removed]",
      "text/plain": [
       "<Figure size 720x360 with 1 Axes>"
      ]
     },
     "metadata": {
      "needs_background": "light"
     },
     "output_type": "display_data"
    }
   ],
   "source": [
    "# for each coin, retrieve prices in the last year\n",
    "usdc_last_year=usdc[-365:]['prices']\n",
    "gusd_last_year=gusd[-365:]['prices']\n",
    "usdt_last_year=usdt[-365:]['prices']\n",
    "usdp_last_year=usdp[-365:]['prices']\n",
    "dai_last_year=dai[-365:]['prices']\n",
    "susd_last_year=susd[-365:]['prices']\n",
    "coins_last_year_df = pd.concat([usdc_last_year, gusd_last_year, usdt_last_year, usdp_last_year, dai_last_year, susd_last_year],axis=1)\n",
    "coins_last_year_df.columns=['USDC', 'GUSD', 'USDT', 'USDP', 'DAI', 'sUSD']\n",
    "coins_last_year_df.dropna(inplace=True)\n",
    "\n",
    "# visualize last years' prices\n",
    "coins_last_year_df.plot(\n",
    "    figsize=(10,5),\n",
    "    xlabel='Date',\n",
    "    title='Stable Coin Prices May 2021 - May 2022'\n",
    ")"
   ]
  },
  {
   "cell_type": "markdown",
   "id": "0d2be2e7-043b-49c0-96ed-2889411f43ae",
   "metadata": {},
   "source": [
    "## Modeling Abritrage Returns: 2021-2022\n",
    "\n",
    "### TODO Documentation \n",
    "- How we are modeling arbitrage and return: \n",
    "- Specify our assumption of clearing minimum 1% "
   ]
  },
  {
   "cell_type": "code",
   "execution_count": 111,
   "id": "e8192a1a-3fdc-4282-912b-01b10111eee6",
   "metadata": {},
   "outputs": [
    {
     "data": {
      "text/html": [
       "<div>\n",
       "<style scoped>\n",
       "    .dataframe tbody tr th:only-of-type {\n",
       "        vertical-align: middle;\n",
       "    }\n",
       "\n",
       "    .dataframe tbody tr th {\n",
       "        vertical-align: top;\n",
       "    }\n",
       "\n",
       "    .dataframe thead th {\n",
       "        text-align: right;\n",
       "    }\n",
       "</style>\n",
       "<table border=\"1\" class=\"dataframe\">\n",
       "  <thead>\n",
       "    <tr style=\"text-align: right;\">\n",
       "      <th></th>\n",
       "      <th>USDC</th>\n",
       "      <th>GUSD</th>\n",
       "      <th>USDT</th>\n",
       "      <th>USDP</th>\n",
       "      <th>DAI</th>\n",
       "      <th>sUSD</th>\n",
       "      <th>USDC_arb</th>\n",
       "      <th>GUSD_arb</th>\n",
       "      <th>USDT_arb</th>\n",
       "      <th>USDP_arb</th>\n",
       "      <th>DAI_arb</th>\n",
       "      <th>sUSD_arb</th>\n",
       "    </tr>\n",
       "    <tr>\n",
       "      <th>time</th>\n",
       "      <th></th>\n",
       "      <th></th>\n",
       "      <th></th>\n",
       "      <th></th>\n",
       "      <th></th>\n",
       "      <th></th>\n",
       "      <th></th>\n",
       "      <th></th>\n",
       "      <th></th>\n",
       "      <th></th>\n",
       "      <th></th>\n",
       "      <th></th>\n",
       "    </tr>\n",
       "  </thead>\n",
       "  <tbody>\n",
       "    <tr>\n",
       "      <th>2021-05-22</th>\n",
       "      <td>0.998093</td>\n",
       "      <td>0.989484</td>\n",
       "      <td>1.002870</td>\n",
       "      <td>0.997821</td>\n",
       "      <td>1.003970</td>\n",
       "      <td>1.002639</td>\n",
       "      <td>0.0</td>\n",
       "      <td>0.000628</td>\n",
       "      <td>0.0</td>\n",
       "      <td>0.0</td>\n",
       "      <td>0.0</td>\n",
       "      <td>0.0</td>\n",
       "    </tr>\n",
       "    <tr>\n",
       "      <th>2021-05-23</th>\n",
       "      <td>0.999800</td>\n",
       "      <td>1.004832</td>\n",
       "      <td>1.001365</td>\n",
       "      <td>1.001561</td>\n",
       "      <td>1.003149</td>\n",
       "      <td>0.995259</td>\n",
       "      <td>0.0</td>\n",
       "      <td>0.000000</td>\n",
       "      <td>0.0</td>\n",
       "      <td>0.0</td>\n",
       "      <td>0.0</td>\n",
       "      <td>0.0</td>\n",
       "    </tr>\n",
       "    <tr>\n",
       "      <th>2021-05-24</th>\n",
       "      <td>1.000310</td>\n",
       "      <td>0.999834</td>\n",
       "      <td>1.003081</td>\n",
       "      <td>0.998991</td>\n",
       "      <td>1.003641</td>\n",
       "      <td>0.998623</td>\n",
       "      <td>0.0</td>\n",
       "      <td>0.000000</td>\n",
       "      <td>0.0</td>\n",
       "      <td>0.0</td>\n",
       "      <td>0.0</td>\n",
       "      <td>0.0</td>\n",
       "    </tr>\n",
       "    <tr>\n",
       "      <th>2021-05-25</th>\n",
       "      <td>0.999217</td>\n",
       "      <td>0.995625</td>\n",
       "      <td>1.001160</td>\n",
       "      <td>1.000028</td>\n",
       "      <td>1.002556</td>\n",
       "      <td>1.001800</td>\n",
       "      <td>0.0</td>\n",
       "      <td>0.000000</td>\n",
       "      <td>0.0</td>\n",
       "      <td>0.0</td>\n",
       "      <td>0.0</td>\n",
       "      <td>0.0</td>\n",
       "    </tr>\n",
       "    <tr>\n",
       "      <th>2021-05-26</th>\n",
       "      <td>0.999699</td>\n",
       "      <td>1.002734</td>\n",
       "      <td>0.999310</td>\n",
       "      <td>0.999120</td>\n",
       "      <td>0.998606</td>\n",
       "      <td>0.998855</td>\n",
       "      <td>0.0</td>\n",
       "      <td>0.000000</td>\n",
       "      <td>0.0</td>\n",
       "      <td>0.0</td>\n",
       "      <td>0.0</td>\n",
       "      <td>0.0</td>\n",
       "    </tr>\n",
       "    <tr>\n",
       "      <th>...</th>\n",
       "      <td>...</td>\n",
       "      <td>...</td>\n",
       "      <td>...</td>\n",
       "      <td>...</td>\n",
       "      <td>...</td>\n",
       "      <td>...</td>\n",
       "      <td>...</td>\n",
       "      <td>...</td>\n",
       "      <td>...</td>\n",
       "      <td>...</td>\n",
       "      <td>...</td>\n",
       "      <td>...</td>\n",
       "    </tr>\n",
       "    <tr>\n",
       "      <th>2022-05-17</th>\n",
       "      <td>1.002662</td>\n",
       "      <td>1.002885</td>\n",
       "      <td>1.000586</td>\n",
       "      <td>1.001213</td>\n",
       "      <td>1.001898</td>\n",
       "      <td>1.002738</td>\n",
       "      <td>0.0</td>\n",
       "      <td>0.000000</td>\n",
       "      <td>0.0</td>\n",
       "      <td>0.0</td>\n",
       "      <td>0.0</td>\n",
       "      <td>0.0</td>\n",
       "    </tr>\n",
       "    <tr>\n",
       "      <th>2022-05-18</th>\n",
       "      <td>1.002225</td>\n",
       "      <td>1.001748</td>\n",
       "      <td>1.000228</td>\n",
       "      <td>1.001697</td>\n",
       "      <td>1.001998</td>\n",
       "      <td>1.000063</td>\n",
       "      <td>0.0</td>\n",
       "      <td>0.000000</td>\n",
       "      <td>0.0</td>\n",
       "      <td>0.0</td>\n",
       "      <td>0.0</td>\n",
       "      <td>0.0</td>\n",
       "    </tr>\n",
       "    <tr>\n",
       "      <th>2022-05-19</th>\n",
       "      <td>1.001676</td>\n",
       "      <td>1.003524</td>\n",
       "      <td>1.001082</td>\n",
       "      <td>1.003353</td>\n",
       "      <td>1.002607</td>\n",
       "      <td>0.998989</td>\n",
       "      <td>0.0</td>\n",
       "      <td>0.000000</td>\n",
       "      <td>0.0</td>\n",
       "      <td>0.0</td>\n",
       "      <td>0.0</td>\n",
       "      <td>0.0</td>\n",
       "    </tr>\n",
       "    <tr>\n",
       "      <th>2022-05-20</th>\n",
       "      <td>1.001674</td>\n",
       "      <td>1.002706</td>\n",
       "      <td>1.001254</td>\n",
       "      <td>1.002617</td>\n",
       "      <td>1.002442</td>\n",
       "      <td>1.000332</td>\n",
       "      <td>0.0</td>\n",
       "      <td>0.000000</td>\n",
       "      <td>0.0</td>\n",
       "      <td>0.0</td>\n",
       "      <td>0.0</td>\n",
       "      <td>0.0</td>\n",
       "    </tr>\n",
       "    <tr>\n",
       "      <th>2022-05-21</th>\n",
       "      <td>1.002087</td>\n",
       "      <td>1.000798</td>\n",
       "      <td>1.001684</td>\n",
       "      <td>1.001101</td>\n",
       "      <td>1.002078</td>\n",
       "      <td>1.002617</td>\n",
       "      <td>0.0</td>\n",
       "      <td>0.000000</td>\n",
       "      <td>0.0</td>\n",
       "      <td>0.0</td>\n",
       "      <td>0.0</td>\n",
       "      <td>0.0</td>\n",
       "    </tr>\n",
       "  </tbody>\n",
       "</table>\n",
       "<p>364 rows × 12 columns</p>\n",
       "</div>"
      ],
      "text/plain": [
       "                USDC      GUSD      USDT      USDP       DAI      sUSD  \\\n",
       "time                                                                     \n",
       "2021-05-22  0.998093  0.989484  1.002870  0.997821  1.003970  1.002639   \n",
       "2021-05-23  0.999800  1.004832  1.001365  1.001561  1.003149  0.995259   \n",
       "2021-05-24  1.000310  0.999834  1.003081  0.998991  1.003641  0.998623   \n",
       "2021-05-25  0.999217  0.995625  1.001160  1.000028  1.002556  1.001800   \n",
       "2021-05-26  0.999699  1.002734  0.999310  0.999120  0.998606  0.998855   \n",
       "...              ...       ...       ...       ...       ...       ...   \n",
       "2022-05-17  1.002662  1.002885  1.000586  1.001213  1.001898  1.002738   \n",
       "2022-05-18  1.002225  1.001748  1.000228  1.001697  1.001998  1.000063   \n",
       "2022-05-19  1.001676  1.003524  1.001082  1.003353  1.002607  0.998989   \n",
       "2022-05-20  1.001674  1.002706  1.001254  1.002617  1.002442  1.000332   \n",
       "2022-05-21  1.002087  1.000798  1.001684  1.001101  1.002078  1.002617   \n",
       "\n",
       "            USDC_arb  GUSD_arb  USDT_arb  USDP_arb  DAI_arb  sUSD_arb  \n",
       "time                                                                   \n",
       "2021-05-22       0.0  0.000628       0.0       0.0      0.0       0.0  \n",
       "2021-05-23       0.0  0.000000       0.0       0.0      0.0       0.0  \n",
       "2021-05-24       0.0  0.000000       0.0       0.0      0.0       0.0  \n",
       "2021-05-25       0.0  0.000000       0.0       0.0      0.0       0.0  \n",
       "2021-05-26       0.0  0.000000       0.0       0.0      0.0       0.0  \n",
       "...              ...       ...       ...       ...      ...       ...  \n",
       "2022-05-17       0.0  0.000000       0.0       0.0      0.0       0.0  \n",
       "2022-05-18       0.0  0.000000       0.0       0.0      0.0       0.0  \n",
       "2022-05-19       0.0  0.000000       0.0       0.0      0.0       0.0  \n",
       "2022-05-20       0.0  0.000000       0.0       0.0      0.0       0.0  \n",
       "2022-05-21       0.0  0.000000       0.0       0.0      0.0       0.0  \n",
       "\n",
       "[364 rows x 12 columns]"
      ]
     },
     "metadata": {},
     "output_type": "display_data"
    }
   ],
   "source": [
    "coins_last_year_df['USDC_arb'] = 0\n",
    "coins_last_year_df['USDC_arb'] = (coins_last_year_df.loc[(coins_last_year_df['USDC'] <= (peg-margin)) | (coins_last_year_df['USDC'] >=(peg+margin)),'USDC'].apply(lambda x: (x-peg)/peg if x > peg else (peg-x)/x))-margin\n",
    "coins_last_year_df['USDC_arb'].fillna(0,inplace=True)\n",
    "\n",
    "coins_last_year_df['GUSD_arb'] = 0\n",
    "coins_last_year_df['GUSD_arb'] =(coins_last_year_df.loc[(coins_last_year_df['GUSD'] <= (peg-margin)) | (coins_last_year_df['GUSD'] >=(peg+margin)),'GUSD'].apply(lambda x: (x-peg)/peg if x > peg else (peg-x)/x))-margin\n",
    "coins_last_year_df['GUSD_arb'].fillna(0,inplace=True)\n",
    "\n",
    "coins_last_year_df['USDT_arb'] = 0\n",
    "coins_last_year_df['USDT_arb'] =(coins_last_year_df.loc[(coins_last_year_df['USDT'] <= (peg-margin)) | (coins_last_year_df['USDT'] >=(peg+margin)),'USDT'].apply(lambda x: (x-peg)/peg if x > peg else (peg-x)/x))-margin\n",
    "coins_last_year_df['USDT_arb'].fillna(0,inplace=True)\n",
    "\n",
    "coins_last_year_df['USDP_arb'] = 0\n",
    "coins_last_year_df['USDP_arb'] =(coins_last_year_df.loc[(coins_last_year_df['USDP'] <= (peg-margin)) | (coins_last_year_df['USDP'] >=(peg+margin)),'USDP'].apply(lambda x: (x-peg)/peg if x > peg else (peg-x)/x))-margin\n",
    "coins_last_year_df['USDP_arb'].fillna(0,inplace=True)\n",
    "\n",
    "coins_last_year_df['DAI_arb'] = 0\n",
    "coins_last_year_df['DAI_arb'] =(coins_last_year_df.loc[(coins_last_year_df['DAI'] <= (peg-margin)) | (coins_last_year_df['DAI'] >=(peg+margin)),'DAI'].apply(lambda x: (x-peg)/peg if x > peg else (peg-x)/x))-margin\n",
    "coins_last_year_df['DAI_arb'].fillna(0,inplace=True)\n",
    "\n",
    "coins_last_year_df['sUSD_arb'] = 0\n",
    "coins_last_year_df['sUSD_arb'] =(coins_last_year_df.loc[(coins_last_year_df['sUSD'] <= (peg-margin)) | (coins_last_year_df['sUSD'] >=(peg+margin)),'sUSD'].apply(lambda x: (x-peg)/peg if x > peg else (peg-x)/x))-margin\n",
    "coins_last_year_df['sUSD_arb'].fillna(0,inplace=True)\n",
    "display(coins_last_year_df)"
   ]
  },
  {
   "cell_type": "markdown",
   "id": "6c598865-6935-4c0d-a934-e1ca6b0cd852",
   "metadata": {},
   "source": [
    "## Model Yield Farming Series\n",
    "\n",
    "A survey of safer stablecoin investment alternatives, such as yield farming was performed, see [stable_coin_compare.ipynb](stable_coin_compare.ipynb).\n",
    "\n",
    "Based on this survey, it was observed that yield farming was a good safe alternative.  The statistical distribution of yield farming returns were:\n",
    "* mean return: 0.011282\n",
    "* standard deviation: 0.001064\n",
    "\n",
    "These statistics will be used to create a series that models daily returns from yield farming over the last 365 days."
   ]
  },
  {
   "cell_type": "code",
   "execution_count": 112,
   "id": "2813501f-017d-44c5-b8cd-e7de08089e7b",
   "metadata": {},
   "outputs": [
    {
     "data": {
      "text/plain": [
       "0    0.000050\n",
       "1   -0.000054\n",
       "2    0.000024\n",
       "3    0.000002\n",
       "4    0.000041\n",
       "dtype: float64"
      ]
     },
     "execution_count": 112,
     "metadata": {},
     "output_type": "execute_result"
    }
   ],
   "source": [
    "#Values obtained from analysis performed in stable_coin_compare.ipynb\n",
    "\n",
    "# yield_farming_return = []\n",
    "yield_farming_mean_apr = 0.011282\n",
    "yield_farming_std = 0.001064\n",
    "# create a mock series for the staking option\n",
    "yield_farming_daily_return = pd.Series(np.random.normal(\n",
    "    loc=yield_farming_mean_apr/trading_days_per_year,\n",
    "    scale=yield_farming_std/np.sqrt(trading_days_per_year),\n",
    "    size=365\n",
    "))\n",
    "\n",
    "# inspect mock series for the staking option \n",
    "yield_farming_daily_return.head()"
   ]
  },
  {
   "cell_type": "code",
   "execution_count": 113,
   "id": "7abc60a5-c786-41f4-9f84-87fc1a2c104d",
   "metadata": {},
   "outputs": [
    {
     "data": {
      "text/html": [
       "<div>\n",
       "<style scoped>\n",
       "    .dataframe tbody tr th:only-of-type {\n",
       "        vertical-align: middle;\n",
       "    }\n",
       "\n",
       "    .dataframe tbody tr th {\n",
       "        vertical-align: top;\n",
       "    }\n",
       "\n",
       "    .dataframe thead th {\n",
       "        text-align: right;\n",
       "    }\n",
       "</style>\n",
       "<table border=\"1\" class=\"dataframe\">\n",
       "  <thead>\n",
       "    <tr style=\"text-align: right;\">\n",
       "      <th></th>\n",
       "      <th>Yield Farming</th>\n",
       "    </tr>\n",
       "    <tr>\n",
       "      <th>time</th>\n",
       "      <th></th>\n",
       "    </tr>\n",
       "  </thead>\n",
       "  <tbody>\n",
       "    <tr>\n",
       "      <th>2021-05-22</th>\n",
       "      <td>0.000050</td>\n",
       "    </tr>\n",
       "    <tr>\n",
       "      <th>2021-05-23</th>\n",
       "      <td>-0.000054</td>\n",
       "    </tr>\n",
       "    <tr>\n",
       "      <th>2021-05-24</th>\n",
       "      <td>0.000024</td>\n",
       "    </tr>\n",
       "    <tr>\n",
       "      <th>2021-05-25</th>\n",
       "      <td>0.000002</td>\n",
       "    </tr>\n",
       "    <tr>\n",
       "      <th>2021-05-26</th>\n",
       "      <td>0.000041</td>\n",
       "    </tr>\n",
       "  </tbody>\n",
       "</table>\n",
       "</div>"
      ],
      "text/plain": [
       "            Yield Farming\n",
       "time                     \n",
       "2021-05-22       0.000050\n",
       "2021-05-23      -0.000054\n",
       "2021-05-24       0.000024\n",
       "2021-05-25       0.000002\n",
       "2021-05-26       0.000041"
      ]
     },
     "execution_count": 113,
     "metadata": {},
     "output_type": "execute_result"
    }
   ],
   "source": [
    "# create yield farming datafframe with date for the last 365 days\n",
    "yield_farming_returns_df = pd.concat([pd.Series(list(coins_last_year_df.index)), yield_farming_daily_return],axis=1).dropna()\n",
    "yield_farming_returns_df.columns=['time', 'Yield Farming']\n",
    "yield_farming_returns_df.set_index('time',inplace=True)\n",
    "\n",
    "# inspect yield farming returns model\n",
    "yield_farming_returns_df.head()"
   ]
  },
  {
   "cell_type": "markdown",
   "id": "65a01769-4691-4024-bf61-569759f8e852",
   "metadata": {},
   "source": [
    "## Risk / Reward Sharpe Ration Analysis \n",
    "\n",
    "The Sharpe ratio is a metric that helps quantify both the risk and the potential reward of a particular investment.\n",
    "```\n",
    "Sharpe Ration = (Annualized Ave. Return - Risk Free Return)/Annualized Std. Deviation\n",
    "```\n",
    "\n",
    "For our purposes, \n",
    "* the risk free option is simply holding the stable coin, which returns 0%\n",
    "* the arbitrage strategy will be compared to yield farming"
   ]
  },
  {
   "cell_type": "code",
   "execution_count": 114,
   "id": "0c1adcfa-c2de-4371-8121-a13f853a24a3",
   "metadata": {},
   "outputs": [
    {
     "data": {
      "text/html": [
       "<div>\n",
       "<style scoped>\n",
       "    .dataframe tbody tr th:only-of-type {\n",
       "        vertical-align: middle;\n",
       "    }\n",
       "\n",
       "    .dataframe tbody tr th {\n",
       "        vertical-align: top;\n",
       "    }\n",
       "\n",
       "    .dataframe thead th {\n",
       "        text-align: right;\n",
       "    }\n",
       "</style>\n",
       "<table border=\"1\" class=\"dataframe\">\n",
       "  <thead>\n",
       "    <tr style=\"text-align: right;\">\n",
       "      <th></th>\n",
       "      <th>USDC_arb</th>\n",
       "      <th>GUSD_arb</th>\n",
       "      <th>USDT_arb</th>\n",
       "      <th>USDP_arb</th>\n",
       "      <th>DAI_arb</th>\n",
       "      <th>sUSD_arb</th>\n",
       "      <th>Yield Farming</th>\n",
       "    </tr>\n",
       "    <tr>\n",
       "      <th>time</th>\n",
       "      <th></th>\n",
       "      <th></th>\n",
       "      <th></th>\n",
       "      <th></th>\n",
       "      <th></th>\n",
       "      <th></th>\n",
       "      <th></th>\n",
       "    </tr>\n",
       "  </thead>\n",
       "  <tbody>\n",
       "    <tr>\n",
       "      <th>2021-05-22</th>\n",
       "      <td>0.0</td>\n",
       "      <td>0.000628</td>\n",
       "      <td>0.0</td>\n",
       "      <td>0.0</td>\n",
       "      <td>0.0</td>\n",
       "      <td>0.0</td>\n",
       "      <td>0.000050</td>\n",
       "    </tr>\n",
       "    <tr>\n",
       "      <th>2021-05-23</th>\n",
       "      <td>0.0</td>\n",
       "      <td>0.000000</td>\n",
       "      <td>0.0</td>\n",
       "      <td>0.0</td>\n",
       "      <td>0.0</td>\n",
       "      <td>0.0</td>\n",
       "      <td>-0.000054</td>\n",
       "    </tr>\n",
       "    <tr>\n",
       "      <th>2021-05-24</th>\n",
       "      <td>0.0</td>\n",
       "      <td>0.000000</td>\n",
       "      <td>0.0</td>\n",
       "      <td>0.0</td>\n",
       "      <td>0.0</td>\n",
       "      <td>0.0</td>\n",
       "      <td>0.000024</td>\n",
       "    </tr>\n",
       "    <tr>\n",
       "      <th>2021-05-25</th>\n",
       "      <td>0.0</td>\n",
       "      <td>0.000000</td>\n",
       "      <td>0.0</td>\n",
       "      <td>0.0</td>\n",
       "      <td>0.0</td>\n",
       "      <td>0.0</td>\n",
       "      <td>0.000002</td>\n",
       "    </tr>\n",
       "    <tr>\n",
       "      <th>2021-05-26</th>\n",
       "      <td>0.0</td>\n",
       "      <td>0.000000</td>\n",
       "      <td>0.0</td>\n",
       "      <td>0.0</td>\n",
       "      <td>0.0</td>\n",
       "      <td>0.0</td>\n",
       "      <td>0.000041</td>\n",
       "    </tr>\n",
       "    <tr>\n",
       "      <th>...</th>\n",
       "      <td>...</td>\n",
       "      <td>...</td>\n",
       "      <td>...</td>\n",
       "      <td>...</td>\n",
       "      <td>...</td>\n",
       "      <td>...</td>\n",
       "      <td>...</td>\n",
       "    </tr>\n",
       "    <tr>\n",
       "      <th>2022-05-17</th>\n",
       "      <td>0.0</td>\n",
       "      <td>0.000000</td>\n",
       "      <td>0.0</td>\n",
       "      <td>0.0</td>\n",
       "      <td>0.0</td>\n",
       "      <td>0.0</td>\n",
       "      <td>0.000034</td>\n",
       "    </tr>\n",
       "    <tr>\n",
       "      <th>2022-05-18</th>\n",
       "      <td>0.0</td>\n",
       "      <td>0.000000</td>\n",
       "      <td>0.0</td>\n",
       "      <td>0.0</td>\n",
       "      <td>0.0</td>\n",
       "      <td>0.0</td>\n",
       "      <td>-0.000102</td>\n",
       "    </tr>\n",
       "    <tr>\n",
       "      <th>2022-05-19</th>\n",
       "      <td>0.0</td>\n",
       "      <td>0.000000</td>\n",
       "      <td>0.0</td>\n",
       "      <td>0.0</td>\n",
       "      <td>0.0</td>\n",
       "      <td>0.0</td>\n",
       "      <td>0.000011</td>\n",
       "    </tr>\n",
       "    <tr>\n",
       "      <th>2022-05-20</th>\n",
       "      <td>0.0</td>\n",
       "      <td>0.000000</td>\n",
       "      <td>0.0</td>\n",
       "      <td>0.0</td>\n",
       "      <td>0.0</td>\n",
       "      <td>0.0</td>\n",
       "      <td>0.000120</td>\n",
       "    </tr>\n",
       "    <tr>\n",
       "      <th>2022-05-21</th>\n",
       "      <td>0.0</td>\n",
       "      <td>0.000000</td>\n",
       "      <td>0.0</td>\n",
       "      <td>0.0</td>\n",
       "      <td>0.0</td>\n",
       "      <td>0.0</td>\n",
       "      <td>-0.000011</td>\n",
       "    </tr>\n",
       "  </tbody>\n",
       "</table>\n",
       "<p>364 rows × 7 columns</p>\n",
       "</div>"
      ],
      "text/plain": [
       "            USDC_arb  GUSD_arb  USDT_arb  USDP_arb  DAI_arb  sUSD_arb  \\\n",
       "time                                                                    \n",
       "2021-05-22       0.0  0.000628       0.0       0.0      0.0       0.0   \n",
       "2021-05-23       0.0  0.000000       0.0       0.0      0.0       0.0   \n",
       "2021-05-24       0.0  0.000000       0.0       0.0      0.0       0.0   \n",
       "2021-05-25       0.0  0.000000       0.0       0.0      0.0       0.0   \n",
       "2021-05-26       0.0  0.000000       0.0       0.0      0.0       0.0   \n",
       "...              ...       ...       ...       ...      ...       ...   \n",
       "2022-05-17       0.0  0.000000       0.0       0.0      0.0       0.0   \n",
       "2022-05-18       0.0  0.000000       0.0       0.0      0.0       0.0   \n",
       "2022-05-19       0.0  0.000000       0.0       0.0      0.0       0.0   \n",
       "2022-05-20       0.0  0.000000       0.0       0.0      0.0       0.0   \n",
       "2022-05-21       0.0  0.000000       0.0       0.0      0.0       0.0   \n",
       "\n",
       "            Yield Farming  \n",
       "time                       \n",
       "2021-05-22       0.000050  \n",
       "2021-05-23      -0.000054  \n",
       "2021-05-24       0.000024  \n",
       "2021-05-25       0.000002  \n",
       "2021-05-26       0.000041  \n",
       "...                   ...  \n",
       "2022-05-17       0.000034  \n",
       "2022-05-18      -0.000102  \n",
       "2022-05-19       0.000011  \n",
       "2022-05-20       0.000120  \n",
       "2022-05-21      -0.000011  \n",
       "\n",
       "[364 rows x 7 columns]"
      ]
     },
     "execution_count": 114,
     "metadata": {},
     "output_type": "execute_result"
    }
   ],
   "source": [
    "# create df with arb returns and yield farming returns\n",
    "arbitrage_returns_last_year_df = pd.concat([coins_last_year_df['USDC_arb'],\n",
    "                                            coins_last_year_df['GUSD_arb'],\n",
    "                                            coins_last_year_df['USDT_arb'],\n",
    "                                            coins_last_year_df['USDP_arb'],\n",
    "                                            coins_last_year_df['DAI_arb'],\n",
    "                                            coins_last_year_df['sUSD_arb'],\n",
    "                                            yield_farming_returns_df\n",
    "                                           ],\n",
    "                                           axis=1\n",
    "                                          )\n",
    "\n",
    "# Visualize arbitrage returns\n",
    "arbitrage_returns_last_year_df"
   ]
  },
  {
   "cell_type": "code",
   "execution_count": 115,
   "id": "ed5432fe-bdc8-49b8-ba6b-2052b57f687e",
   "metadata": {},
   "outputs": [
    {
     "data": {
      "text/plain": [
       "USDC_arb         0.000927\n",
       "GUSD_arb         0.036982\n",
       "USDT_arb         0.000676\n",
       "USDP_arb         0.011426\n",
       "DAI_arb          0.000898\n",
       "sUSD_arb         0.466826\n",
       "Yield Farming    0.012275\n",
       "dtype: float64"
      ]
     },
     "execution_count": 115,
     "metadata": {},
     "output_type": "execute_result"
    }
   ],
   "source": [
    "# calculate the average annualized returns\n",
    "annualized_returns = arbitrage_returns_last_year_df.mean() * trading_days_per_year\n",
    "\n",
    "# display the average annualized returns\n",
    "annualized_returns"
   ]
  },
  {
   "cell_type": "code",
   "execution_count": 116,
   "id": "94e27b89-b53d-429f-9fa7-4473597e8b5c",
   "metadata": {},
   "outputs": [
    {
     "data": {
      "text/plain": [
       "<AxesSubplot:title={'center':'Annualized Returns Stablecoin Arbitrage vs Yield Farming'}>"
      ]
     },
     "execution_count": 116,
     "metadata": {},
     "output_type": "execute_result"
    },
    {
     "data": {
      "image/png": "[encoded data removed]",
      "text/plain": [
       "<Figure size 720x360 with 1 Axes>"
      ]
     },
     "metadata": {
      "needs_background": "light"
     },
     "output_type": "display_data"
    }
   ],
   "source": [
    "annualized_returns.plot.bar(\n",
    "    rot=90,\n",
    "    figsize=(10,5),\n",
    "    title='Annualized Returns Stablecoin Arbitrage vs Yield Farming'\n",
    ")"
   ]
  },
  {
   "cell_type": "code",
   "execution_count": 117,
   "id": "281c162d-4716-4ab0-8424-ce5e433c33d7",
   "metadata": {},
   "outputs": [
    {
     "data": {
      "text/plain": [
       "USDC_arb         0.000926\n",
       "GUSD_arb         0.018558\n",
       "USDT_arb         0.000675\n",
       "USDP_arb         0.008063\n",
       "DAI_arb          0.000896\n",
       "sUSD_arb         0.132127\n",
       "Yield Farming    0.001141\n",
       "dtype: float64"
      ]
     },
     "execution_count": 117,
     "metadata": {},
     "output_type": "execute_result"
    }
   ],
   "source": [
    "# calculate the annualized standard deviation\n",
    "annual_standard_deviation = arbitrage_returns_last_year_df.std() * np.sqrt(trading_days_per_year)\n",
    "\n",
    "# display the annualized standard deviation\n",
    "annual_standard_deviation"
   ]
  },
  {
   "cell_type": "code",
   "execution_count": 118,
   "id": "cbcaba45-3e58-49d0-9628-05f6e0c83771",
   "metadata": {},
   "outputs": [
    {
     "data": {
      "text/plain": [
       "USDC_arb          1.001373\n",
       "GUSD_arb          1.992745\n",
       "USDT_arb          1.001373\n",
       "USDP_arb          1.416960\n",
       "DAI_arb           1.001373\n",
       "sUSD_arb          3.533161\n",
       "Yield Farming    10.753571\n",
       "dtype: float64"
      ]
     },
     "execution_count": 118,
     "metadata": {},
     "output_type": "execute_result"
    }
   ],
   "source": [
    "# calculate sharpe ratio\n",
    "# Sharpe Ratio = (Annualized Ave. Return - Risk Free Return)/Annualized Std. Deviatio\n",
    "sharpe_ratio = (annualized_returns)/annual_standard_deviation\n",
    "\n",
    "# display sharpe ratio\n",
    "sharpe_ratio"
   ]
  },
  {
   "cell_type": "code",
   "execution_count": 119,
   "id": "a6093dce-8118-4dc1-845c-0ba7f8bafb1b",
   "metadata": {},
   "outputs": [
    {
     "data": {
      "text/plain": [
       "<AxesSubplot:title={'center':'Sharpe Ratio Stablecoin Arbitrage vs Yield Farming'}>"
      ]
     },
     "execution_count": 119,
     "metadata": {},
     "output_type": "execute_result"
    },
    {
     "data": {
      "image/png": "[encoded data removed]",
      "text/plain": [
       "<Figure size 720x360 with 1 Axes>"
      ]
     },
     "metadata": {
      "needs_background": "light"
     },
     "output_type": "display_data"
    }
   ],
   "source": [
    "sharpe_ratio.plot.bar(\n",
    "    rot=90,\n",
    "    figsize=(10,5),\n",
    "    title='Sharpe Ratio Stablecoin Arbitrage vs Yield Farming'\n",
    ")"
   ]
  },
  {
   "cell_type": "markdown",
   "id": "9ec2ff16-8518-4c3c-bcf5-0da6efb29033",
   "metadata": {},
   "source": [
    "## Sharpe Ratio Analysis\n",
    "- The Sharpe Ratio analysis shows that despite the potential high return of arbitrage on **sUSD**, surprisingly, nearly 50%, the high volatility of sUSD makes it a very risky investment.  Yield farming, with a modest return of around 1%, similar to that of a savings bank account, is seen as a better balance of risk vs reward."
   ]
  }
 ],
 "metadata": {
  "kernelspec": {
   "display_name": "Python 3 (ipykernel)",
   "language": "python",
   "name": "python3"
  },
  "language_info": {
   "codemirror_mode": {
    "name": "ipython",
    "version": 3
   },
   "file_extension": ".py",
   "mimetype": "text/x-python",
   "name": "python",
   "nbconvert_exporter": "python",
   "pygments_lexer": "ipython3",
   "version": "3.7.11"
  }
 },
 "nbformat": 4,
 "nbformat_minor": 5
}
