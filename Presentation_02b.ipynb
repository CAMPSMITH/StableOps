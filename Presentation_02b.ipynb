{
 "cells": [
  {
   "cell_type": "markdown",
   "id": "d4eb7d87",
   "metadata": {
    "slideshow": {
     "slide_type": "slide"
    }
   },
   "source": [
    "# StableOps\n",
    "*This project objective is to analyze volatility in stablecoin pricing and assess profitable arbitrage opportunities.*\n"
   ]
  },
  {
   "cell_type": "markdown",
   "id": "634a5f39",
   "metadata": {
    "slideshow": {
     "slide_type": "fragment"
    }
   },
   "source": [
    " By:\n",
    "   - Quintin Bland\n",
    "   - Kevin Corstorphine\n",
    "   - John Gruenewald\n",
    "   - Martin Smith\n",
    "   - Yanick Wilisky"
   ]
  },
  {
   "cell_type": "code",
   "execution_count": 34,
   "id": "8259269e",
   "metadata": {
    "slideshow": {
     "slide_type": "skip"
    }
   },
   "outputs": [],
   "source": [
    "# Slide Type: Skip\n",
    "import pandas as pd\n",
    "from pathlib import Path"
   ]
  },
  {
   "cell_type": "markdown",
   "id": "4cdfdff8",
   "metadata": {
    "slideshow": {
     "slide_type": "slide"
    }
   },
   "source": [
    "# Our Thought Process"
   ]
  },
  {
   "cell_type": "markdown",
   "id": "286c5e49",
   "metadata": {
    "slideshow": {
     "slide_type": "fragment"
    }
   },
   "source": [
    "- Can the volatility of stablecoin pricing yield sufficiently profitable arbitrage opportunities?"
   ]
  },
  {
   "cell_type": "markdown",
   "id": "13c36a9b",
   "metadata": {
    "slideshow": {
     "slide_type": "fragment"
    }
   },
   "source": [
    "- Is the volatility of stablecoins pegged to the US Dollar similar or are some stablecoins more volatile than others?"
   ]
  },
  {
   "cell_type": "markdown",
   "id": "d7aef159",
   "metadata": {
    "slideshow": {
     "slide_type": "fragment"
    }
   },
   "source": [
    "- Are the volatilities short lived or persistent?"
   ]
  },
  {
   "cell_type": "markdown",
   "id": "23633d8a",
   "metadata": {
    "slideshow": {
     "slide_type": "fragment"
    }
   },
   "source": [
    "- Are there any correlations between the volatility of various stablecoins?"
   ]
  },
  {
   "cell_type": "markdown",
   "id": "34328b4c",
   "metadata": {
    "slideshow": {
     "slide_type": "fragment"
    }
   },
   "source": [
    "- Do some pairs yield better arbitrage opportunities?"
   ]
  },
  {
   "cell_type": "markdown",
   "id": "c2fbb306",
   "metadata": {
    "slideshow": {
     "slide_type": "fragment"
    }
   },
   "source": [
    "- Are the risk, effort and costs associated with stablecoin arbitrage worth the potential reward?"
   ]
  },
  {
   "cell_type": "markdown",
   "id": "1b8d2d1e",
   "metadata": {
    "slideshow": {
     "slide_type": "slide"
    }
   },
   "source": [
    "# About | data.set"
   ]
  },
  {
   "cell_type": "markdown",
   "id": "2a5fb7d4",
   "metadata": {
    "slideshow": {
     "slide_type": "subslide"
    }
   },
   "source": [
    "### stable.coins\n",
    "\n",
    "![Stable Coins, 6 coins](./images/Coins_icons/Stables_Icons.png)\n",
    "    "
   ]
  },
  {
   "cell_type": "markdown",
   "id": "863f20c2",
   "metadata": {
    "slideshow": {
     "slide_type": "subslide"
    }
   },
   "source": [
    "### yield.farms\n",
    "    \n",
    "![Yield Farmin, 4 platform](./images/Yield_Farming/Yield_Farming.png)"
   ]
  },
  {
   "cell_type": "markdown",
   "id": "28688103",
   "metadata": {
    "slideshow": {
     "slide_type": "subslide"
    }
   },
   "source": [
    "### data.sources\n",
    "\n",
    "![Dataset, 2 sources](./images/Dataset/dataset.png)\n",
    "\n",
    "Add Yield Sources\n",
    "Add Exchange fees source"
   ]
  },
  {
   "cell_type": "markdown",
   "id": "ae11aa4e",
   "metadata": {
    "slideshow": {
     "slide_type": "subslide"
    }
   },
   "source": [
    "### data.prep\n",
    "![Data_prep, mindmap](./images/Mind_Mapping/dataset.png)\n",
    "\n"
   ]
  },
  {
   "cell_type": "markdown",
   "id": "fbb09217",
   "metadata": {
    "slideshow": {
     "slide_type": "subslide"
    }
   },
   "source": [
    "### data.base\n",
    "\n",
    "\n",
    "- Analysis of costs associated with exchanging stablecoins with FIAT currency or with another stablecoin - resolve a % cost overhead\n"
   ]
  },
  {
   "cell_type": "markdown",
   "id": "a73935ad",
   "metadata": {
    "slideshow": {
     "slide_type": "slide"
    }
   },
   "source": [
    "# The Analysis"
   ]
  },
  {
   "cell_type": "markdown",
   "id": "8670403b",
   "metadata": {
    "slideshow": {
     "slide_type": "subslide"
    }
   },
   "source": [
    "## Overview\n",
    "\n",
    "- Analysis of the volatility of a sampling of stablecoins based on the US Dollar\n",
    "- frequency and magnitude of deviations from pegged stable value\n",
    "- statistical distribution\n",
    "- line graph\n",
    "- histogram"
   ]
  },
  {
   "cell_type": "markdown",
   "id": "337efbed",
   "metadata": {
    "slideshow": {
     "slide_type": "subslide"
    }
   },
   "source": [
    "# The Sharpe Ratio\n",
    "### Assumptions\n",
    "- staking is risk free return alternative\n",
    "- average staking reward is 2% / year\n",
    "- 365 trading days / year, crypto trading is 24/7"
   ]
  },
  {
   "cell_type": "markdown",
   "id": "316fb9aa",
   "metadata": {
    "slideshow": {
     "slide_type": "fragment"
    }
   },
   "source": [
    "## Daily return arbitrage trading\n",
    "### Criteria\n",
    "- mean of 0.00\n",
    "- occasional deviations from mean +/- 6%\n",
    "- one years worth of data"
   ]
  },
  {
   "cell_type": "markdown",
   "id": "b282ee9c",
   "metadata": {
    "slideshow": {
     "slide_type": "fragment"
    }
   },
   "source": [
    "[plot.box]"
   ]
  },
  {
   "cell_type": "markdown",
   "id": "5faefb7e",
   "metadata": {
    "slideshow": {
     "slide_type": "fragment"
    }
   },
   "source": [
    "## Daily return Staking Option\n",
    "### Criteria\n",
    "- 2 % annualized return\n",
    "- one years worth of data"
   ]
  },
  {
   "cell_type": "markdown",
   "id": "ccaea2cd",
   "metadata": {
    "slideshow": {
     "slide_type": "fragment"
    }
   },
   "source": [
    "[plot.box]"
   ]
  },
  {
   "cell_type": "markdown",
   "id": "b5bf07c8",
   "metadata": {
    "slideshow": {
     "slide_type": "subslide"
    }
   },
   "source": [
    "- [Graphic Math Formula]\n",
    "- [plot.bar] \"Risk/Reward (Sharpe Ratio) Comparison of arbitrage vs staking\""
   ]
  },
  {
   "cell_type": "markdown",
   "id": "2e30b2aa",
   "metadata": {
    "slideshow": {
     "slide_type": "subslide"
    }
   },
   "source": [
    "# Montecarlo\n",
    "\n",
    "## Assumptions\n",
    "- 2 series"
   ]
  },
  {
   "cell_type": "markdown",
   "id": "8bdc33ae",
   "metadata": {
    "slideshow": {
     "slide_type": "fragment"
    }
   },
   "source": [
    "[Montecarlo Graph Serie 1] [Montecarlo Graph Serie 2] "
   ]
  },
  {
   "cell_type": "markdown",
   "id": "41886983",
   "metadata": {
    "slideshow": {
     "slide_type": "slide"
    }
   },
   "source": [
    "# Findings | Reflection"
   ]
  },
  {
   "cell_type": "markdown",
   "id": "194de15a",
   "metadata": {
    "slideshow": {
     "slide_type": "fragment"
    }
   },
   "source": [
    "### Finding 1"
   ]
  },
  {
   "cell_type": "markdown",
   "id": "d20755e0",
   "metadata": {
    "slideshow": {
     "slide_type": "fragment"
    }
   },
   "source": [
    "### Finding 2"
   ]
  },
  {
   "cell_type": "markdown",
   "id": "d017f11d",
   "metadata": {
    "slideshow": {
     "slide_type": "fragment"
    }
   },
   "source": [
    "### Finding 3"
   ]
  },
  {
   "cell_type": "markdown",
   "id": "214da4dc",
   "metadata": {
    "slideshow": {
     "slide_type": "slide"
    }
   },
   "source": [
    "# Next Steps\n",
    "- Push our analysis towards...\n",
    "- Implement a sim trading bot to test our finding.\n",
    "- Create an algorithm that processes live data feed.\n",
    "- Take our process and apply it to...\n"
   ]
  },
  {
   "cell_type": "code",
   "execution_count": null,
   "id": "cbc87ce9",
   "metadata": {},
   "outputs": [],
   "source": []
  }
 ],
 "metadata": {
  "celltoolbar": "Slideshow",
  "kernelspec": {
   "display_name": "Python 3 (ipykernel)",
   "language": "python",
   "name": "python3"
  },
  "language_info": {
   "codemirror_mode": {
    "name": "ipython",
    "version": 3
   },
   "file_extension": ".py",
   "mimetype": "text/x-python",
   "name": "python",
   "nbconvert_exporter": "python",
   "pygments_lexer": "ipython3",
   "version": "3.9.7"
  }
 },
 "nbformat": 4,
 "nbformat_minor": 5
}
