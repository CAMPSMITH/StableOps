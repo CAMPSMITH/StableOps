{
 "cells": [
  {
   "cell_type": "markdown",
   "id": "2e1c3e03-4770-4b15-8228-620b057b8a20",
   "metadata": {},
   "source": [
    "# StableOps\n",
    "An analysis of opportunities in stable coins\n"
   ]
  },
  {
   "cell_type": "code",
   "execution_count": 1,
   "id": "00bf244a-35c5-4a20-9874-f5f7dbc182ef",
   "metadata": {},
   "outputs": [],
   "source": [
    "# get 4 years of daily data\n",
    "\n",
    "\n"
   ]
  },
  {
   "cell_type": "code",
   "execution_count": 2,
   "id": "48d76b7a-6680-4c8c-9b7b-4c3ed3b5253b",
   "metadata": {},
   "outputs": [],
   "source": [
    "# There are multiple DEXs being built on various L2s that may offer substantially lower\n",
    "# trading/gas fees than what current L1 DEXs and centralied exchanges are currently offering.\n",
    "# For the purpose of this analysis, we will focus on identifying which pairs are the most \n",
    "# volatile. Determining where the trading is actually most profitable can be done at a later\n",
    "# date. "
   ]
  },
  {
   "cell_type": "code",
   "execution_count": 3,
   "id": "e2eed622-5111-4390-8a75-d71a2f7cb445",
   "metadata": {},
   "outputs": [],
   "source": [
    "# plot 3 year history of standard deviation. On the pairs with larger volume, there has been a\n",
    "# significant decrease of volatility within the last few years. The lesser known stablecoins with \n",
    "# fewer markets and lower liquidity are seeing more volatility, which works better for our bot."
   ]
  },
  {
   "cell_type": "code",
   "execution_count": 4,
   "id": "e4d008a5-46a1-49c3-8d96-48bc31246c7d",
   "metadata": {},
   "outputs": [],
   "source": [
    "# USDC\n",
    "# USDT\n",
    "# PAXOS\n",
    "# DAI\n",
    "# sUSD\n",
    "# GUSD\n"
   ]
  },
  {
   "cell_type": "code",
   "execution_count": 5,
   "id": "ad089d3a-4684-4a5d-8a48-6d5c464f7ceb",
   "metadata": {},
   "outputs": [],
   "source": [
    "#The larger volume stablecoins have seen a decrease in volatility over the last x amount of time.\n",
    "#The currency in other stablecoins is going to be difficult to chart, as eventually we will always \n",
    "#be settling in dollars. If we make 2% on a stablecoin yen play, but the difference between dollars\n",
    "#and yen changes that much over a day, we could lose money. "
   ]
  },
  {
   "cell_type": "code",
   "execution_count": 4,
   "id": "8de7d81d-2d67-4ac1-97e5-caff8407204c",
   "metadata": {},
   "outputs": [],
   "source": [
    "import requests\n",
    "import json\n",
    "import pandas as pd\n",
    "import os\n",
    "import numpy as np\n",
    "from time_utils import epoch_to_datetime\n",
    "from coin_gecko_cleaner import coin_gecko_cleaner"
   ]
  },
  {
   "cell_type": "markdown",
   "id": "054882c1-487e-439e-9069-a2ad631096be",
   "metadata": {},
   "source": [
    "#### USDC\n",
    "\n",
    "\n",
    "\n",
    "\n"
   ]
  },
  {
   "cell_type": "code",
   "execution_count": 5,
   "id": "6eb8cf9d-00a2-4daa-b23b-8b9354e7c499",
   "metadata": {},
   "outputs": [],
   "source": [
    "USDC_url = 'https://api.coingecko.com/api/v3/coins/usd-coin/market_chart?vs_currency=usd&days=730&interval=daily'"
   ]
  },
  {
   "cell_type": "code",
   "execution_count": 6,
   "id": "5d2bbf0a-8ab3-45ae-b315-d0aaf75c1b90",
   "metadata": {},
   "outputs": [],
   "source": [
    "USDC_df = coin_gecko_cleaner(USDC_url)"
   ]
  },
  {
   "cell_type": "code",
   "execution_count": 7,
   "id": "92289ca7-c807-4a97-9a52-1acb7fc505bf",
   "metadata": {},
   "outputs": [
    {
     "data": {
      "text/html": [
       "<div>\n",
       "<style scoped>\n",
       "    .dataframe tbody tr th:only-of-type {\n",
       "        vertical-align: middle;\n",
       "    }\n",
       "\n",
       "    .dataframe tbody tr th {\n",
       "        vertical-align: top;\n",
       "    }\n",
       "\n",
       "    .dataframe thead th {\n",
       "        text-align: right;\n",
       "    }\n",
       "</style>\n",
       "<table border=\"1\" class=\"dataframe\">\n",
       "  <thead>\n",
       "    <tr style=\"text-align: right;\">\n",
       "      <th></th>\n",
       "      <th>prices</th>\n",
       "      <th>market_caps</th>\n",
       "      <th>total_volumes</th>\n",
       "    </tr>\n",
       "    <tr>\n",
       "      <th>time</th>\n",
       "      <th></th>\n",
       "      <th></th>\n",
       "      <th></th>\n",
       "    </tr>\n",
       "  </thead>\n",
       "  <tbody>\n",
       "    <tr>\n",
       "      <th>2020-05-07 20:00:00-04:00</th>\n",
       "      <td>0.999685</td>\n",
       "      <td>7.220236e+08</td>\n",
       "      <td>4.935112e+08</td>\n",
       "    </tr>\n",
       "    <tr>\n",
       "      <th>2020-05-08 20:00:00-04:00</th>\n",
       "      <td>0.995866</td>\n",
       "      <td>7.212613e+08</td>\n",
       "      <td>5.010280e+08</td>\n",
       "    </tr>\n",
       "    <tr>\n",
       "      <th>2020-05-09 20:00:00-04:00</th>\n",
       "      <td>0.998052</td>\n",
       "      <td>7.222687e+08</td>\n",
       "      <td>4.702392e+08</td>\n",
       "    </tr>\n",
       "    <tr>\n",
       "      <th>2020-05-10 20:00:00-04:00</th>\n",
       "      <td>1.000952</td>\n",
       "      <td>7.469863e+08</td>\n",
       "      <td>5.592210e+08</td>\n",
       "    </tr>\n",
       "    <tr>\n",
       "      <th>2020-05-11 20:00:00-04:00</th>\n",
       "      <td>0.996859</td>\n",
       "      <td>7.450261e+08</td>\n",
       "      <td>5.024049e+08</td>\n",
       "    </tr>\n",
       "  </tbody>\n",
       "</table>\n",
       "</div>"
      ],
      "text/plain": [
       "                             prices   market_caps  total_volumes\n",
       "time                                                            \n",
       "2020-05-07 20:00:00-04:00  0.999685  7.220236e+08   4.935112e+08\n",
       "2020-05-08 20:00:00-04:00  0.995866  7.212613e+08   5.010280e+08\n",
       "2020-05-09 20:00:00-04:00  0.998052  7.222687e+08   4.702392e+08\n",
       "2020-05-10 20:00:00-04:00  1.000952  7.469863e+08   5.592210e+08\n",
       "2020-05-11 20:00:00-04:00  0.996859  7.450261e+08   5.024049e+08"
      ]
     },
     "execution_count": 7,
     "metadata": {},
     "output_type": "execute_result"
    }
   ],
   "source": [
    "USDC_df.head()"
   ]
  },
  {
   "cell_type": "code",
   "execution_count": 8,
   "id": "d2eea33f-cc1e-4b10-8028-a4c9eb2b8b9b",
   "metadata": {},
   "outputs": [],
   "source": [
    "#Gemeni Dollar"
   ]
  },
  {
   "cell_type": "code",
   "execution_count": 9,
   "id": "7ca53327-1e50-451b-a538-b24fe5c11ee8",
   "metadata": {},
   "outputs": [],
   "source": [
    "GUSD_url = 'https://api.coingecko.com/api/v3/coins/gemini-dollar/market_chart?vs_currency=usd&days=730&interval=daily'"
   ]
  },
  {
   "cell_type": "code",
   "execution_count": 10,
   "id": "a5455365-b785-4473-ab62-7d1b8a4a584a",
   "metadata": {},
   "outputs": [],
   "source": [
    "GUSD_df = coin_gecko_cleaner(GUSD_url)"
   ]
  },
  {
   "cell_type": "code",
   "execution_count": 11,
   "id": "505fb89c-7864-47c1-b545-42295c59429c",
   "metadata": {},
   "outputs": [
    {
     "data": {
      "text/html": [
       "<div>\n",
       "<style scoped>\n",
       "    .dataframe tbody tr th:only-of-type {\n",
       "        vertical-align: middle;\n",
       "    }\n",
       "\n",
       "    .dataframe tbody tr th {\n",
       "        vertical-align: top;\n",
       "    }\n",
       "\n",
       "    .dataframe thead th {\n",
       "        text-align: right;\n",
       "    }\n",
       "</style>\n",
       "<table border=\"1\" class=\"dataframe\">\n",
       "  <thead>\n",
       "    <tr style=\"text-align: right;\">\n",
       "      <th></th>\n",
       "      <th>prices</th>\n",
       "      <th>market_caps</th>\n",
       "      <th>total_volumes</th>\n",
       "    </tr>\n",
       "    <tr>\n",
       "      <th>time</th>\n",
       "      <th></th>\n",
       "      <th></th>\n",
       "      <th></th>\n",
       "    </tr>\n",
       "  </thead>\n",
       "  <tbody>\n",
       "    <tr>\n",
       "      <th>2020-05-07 20:00:00-04:00</th>\n",
       "      <td>0.996303</td>\n",
       "      <td>5.972149e+06</td>\n",
       "      <td>1.198791e+06</td>\n",
       "    </tr>\n",
       "    <tr>\n",
       "      <th>2020-05-08 20:00:00-04:00</th>\n",
       "      <td>0.990787</td>\n",
       "      <td>6.180827e+06</td>\n",
       "      <td>1.194009e+06</td>\n",
       "    </tr>\n",
       "    <tr>\n",
       "      <th>2020-05-09 20:00:00-04:00</th>\n",
       "      <td>0.995831</td>\n",
       "      <td>6.376956e+06</td>\n",
       "      <td>1.028302e+06</td>\n",
       "    </tr>\n",
       "    <tr>\n",
       "      <th>2020-05-10 20:00:00-04:00</th>\n",
       "      <td>0.995844</td>\n",
       "      <td>6.512598e+06</td>\n",
       "      <td>3.573520e+06</td>\n",
       "    </tr>\n",
       "    <tr>\n",
       "      <th>2020-05-11 20:00:00-04:00</th>\n",
       "      <td>0.978298</td>\n",
       "      <td>6.852361e+06</td>\n",
       "      <td>4.405390e+07</td>\n",
       "    </tr>\n",
       "  </tbody>\n",
       "</table>\n",
       "</div>"
      ],
      "text/plain": [
       "                             prices   market_caps  total_volumes\n",
       "time                                                            \n",
       "2020-05-07 20:00:00-04:00  0.996303  5.972149e+06   1.198791e+06\n",
       "2020-05-08 20:00:00-04:00  0.990787  6.180827e+06   1.194009e+06\n",
       "2020-05-09 20:00:00-04:00  0.995831  6.376956e+06   1.028302e+06\n",
       "2020-05-10 20:00:00-04:00  0.995844  6.512598e+06   3.573520e+06\n",
       "2020-05-11 20:00:00-04:00  0.978298  6.852361e+06   4.405390e+07"
      ]
     },
     "execution_count": 11,
     "metadata": {},
     "output_type": "execute_result"
    }
   ],
   "source": [
    "GUSD_df.head()"
   ]
  },
  {
   "cell_type": "code",
   "execution_count": null,
   "id": "d80692b6-2464-40ba-8007-1c97a9eb4038",
   "metadata": {},
   "outputs": [],
   "source": [
    "#USDT"
   ]
  },
  {
   "cell_type": "code",
   "execution_count": null,
   "id": "a4b7e6ca-9e0d-4b8c-9ce8-e30ede7328e9",
   "metadata": {},
   "outputs": [],
   "source": [
    "USDT_url = 'https://api.coingecko.com/api/v3/coins/tether/market_chart?vs_currency=usd&days=730&interval=daily'"
   ]
  },
  {
   "cell_type": "code",
   "execution_count": null,
   "id": "03d3f5cf-305f-4388-9adf-0521295fba7f",
   "metadata": {},
   "outputs": [],
   "source": [
    "USDT = requests.get(USDT_url).json()"
   ]
  },
  {
   "cell_type": "code",
   "execution_count": null,
   "id": "4afadbf3-2307-4f7e-a454-9d4c9f46a772",
   "metadata": {},
   "outputs": [],
   "source": [
    "USDT_df = pd.DataFrame(USDT)"
   ]
  },
  {
   "cell_type": "code",
   "execution_count": null,
   "id": "e39ba2d4-46be-45c9-b23c-abf0cb404fce",
   "metadata": {},
   "outputs": [],
   "source": [
    "display(USDT_df)"
   ]
  },
  {
   "cell_type": "code",
   "execution_count": null,
   "id": "fa9715cc-6ec2-4b9f-a92c-badfb800cbd4",
   "metadata": {},
   "outputs": [],
   "source": [
    "#Paxos-Standard\n",
    "\n",
    "\n",
    "\n",
    "\n"
   ]
  },
  {
   "cell_type": "code",
   "execution_count": null,
   "id": "a65027f9-de7c-4bb8-873e-6f47dbb51f4c",
   "metadata": {},
   "outputs": [],
   "source": [
    "USDP_url = 'https://api.coingecko.com/api/v3/coins/paxos-standard/market_chart?vs_currency=usd&days=730&interval=daily'"
   ]
  },
  {
   "cell_type": "code",
   "execution_count": null,
   "id": "44b4fa48-aadc-42b7-b865-8cdb1173a1c9",
   "metadata": {},
   "outputs": [],
   "source": [
    "USDP = requests.get(PAXOS_url).json()"
   ]
  },
  {
   "cell_type": "code",
   "execution_count": null,
   "id": "760d00e9-1229-47f0-b818-eae944bdcae7",
   "metadata": {},
   "outputs": [],
   "source": [
    "USDP_df = pd.DataFrame(USDP)"
   ]
  },
  {
   "cell_type": "code",
   "execution_count": null,
   "id": "2a9fb946-679e-49c1-a6e8-028d391543ca",
   "metadata": {},
   "outputs": [],
   "source": [
    "display(USDP_df)"
   ]
  },
  {
   "cell_type": "code",
   "execution_count": null,
   "id": "dc30cb63-938b-47a3-af72-7f2bfb77bde1",
   "metadata": {},
   "outputs": [],
   "source": [
    "#DAI\n",
    "\n",
    "\n",
    "\n"
   ]
  },
  {
   "cell_type": "code",
   "execution_count": null,
   "id": "e9a349f1-0d98-4470-986b-39ae8579ef28",
   "metadata": {},
   "outputs": [],
   "source": [
    "DAI_url = 'https://api.coingecko.com/api/v3/coins/dai/market_chart?vs_currency=usd&days=730&interval=daily'"
   ]
  },
  {
   "cell_type": "code",
   "execution_count": null,
   "id": "58b1832b-ce2a-48df-b173-1ba8693386c6",
   "metadata": {},
   "outputs": [],
   "source": [
    "DAI = requests.get(DAI_url).json()"
   ]
  },
  {
   "cell_type": "code",
   "execution_count": null,
   "id": "90ed647b-aaa0-4c34-9094-4b70ae899577",
   "metadata": {},
   "outputs": [],
   "source": [
    "DAI_df = pd.DataFrame(DAI)"
   ]
  },
  {
   "cell_type": "code",
   "execution_count": null,
   "id": "8564df48-eed2-4214-929e-1483b9d34e56",
   "metadata": {},
   "outputs": [],
   "source": [
    "display(DAI_df)"
   ]
  },
  {
   "cell_type": "code",
   "execution_count": null,
   "id": "3f2387e9-c354-4d22-9e05-6b8a3da79e8a",
   "metadata": {},
   "outputs": [],
   "source": [
    "# Synthetix USD sUSD\n",
    "\n",
    "\n",
    "\n",
    "\n"
   ]
  },
  {
   "cell_type": "code",
   "execution_count": 17,
   "id": "f7f59ae9-b03b-4831-a09b-e9645427b6fd",
   "metadata": {},
   "outputs": [],
   "source": [
    "sUSD_url = 'https://api.coingecko.com/api/v3/coins/nusd/market_chart?vs_currency=usd&days=730&interval=daily'"
   ]
  },
  {
   "cell_type": "code",
   "execution_count": 18,
   "id": "5139d0b0-2508-4339-95ed-c001fda87ead",
   "metadata": {},
   "outputs": [],
   "source": [
    "sUSD_df=coin_gecko_cleaner(sUSD_url)"
   ]
  },
  {
   "cell_type": "code",
   "execution_count": 19,
   "id": "4a11c257-5b9b-4af2-bee3-a1be619a770c",
   "metadata": {},
   "outputs": [
    {
     "data": {
      "text/html": [
       "<div>\n",
       "<style scoped>\n",
       "    .dataframe tbody tr th:only-of-type {\n",
       "        vertical-align: middle;\n",
       "    }\n",
       "\n",
       "    .dataframe tbody tr th {\n",
       "        vertical-align: top;\n",
       "    }\n",
       "\n",
       "    .dataframe thead th {\n",
       "        text-align: right;\n",
       "    }\n",
       "</style>\n",
       "<table border=\"1\" class=\"dataframe\">\n",
       "  <thead>\n",
       "    <tr style=\"text-align: right;\">\n",
       "      <th></th>\n",
       "      <th>prices</th>\n",
       "      <th>market_caps</th>\n",
       "      <th>total_volumes</th>\n",
       "    </tr>\n",
       "    <tr>\n",
       "      <th>time</th>\n",
       "      <th></th>\n",
       "      <th></th>\n",
       "      <th></th>\n",
       "    </tr>\n",
       "  </thead>\n",
       "  <tbody>\n",
       "    <tr>\n",
       "      <th>2020-05-07 20:00:00-04:00</th>\n",
       "      <td>1.001129</td>\n",
       "      <td>6.681667e+06</td>\n",
       "      <td>66920.176379</td>\n",
       "    </tr>\n",
       "    <tr>\n",
       "      <th>2020-05-08 20:00:00-04:00</th>\n",
       "      <td>0.988501</td>\n",
       "      <td>6.808013e+06</td>\n",
       "      <td>72760.441931</td>\n",
       "    </tr>\n",
       "    <tr>\n",
       "      <th>2020-05-09 20:00:00-04:00</th>\n",
       "      <td>0.993977</td>\n",
       "      <td>6.945831e+06</td>\n",
       "      <td>39008.835655</td>\n",
       "    </tr>\n",
       "    <tr>\n",
       "      <th>2020-05-10 20:00:00-04:00</th>\n",
       "      <td>1.004506</td>\n",
       "      <td>6.818654e+06</td>\n",
       "      <td>107182.229824</td>\n",
       "    </tr>\n",
       "    <tr>\n",
       "      <th>2020-05-11 20:00:00-04:00</th>\n",
       "      <td>1.001884</td>\n",
       "      <td>6.968239e+06</td>\n",
       "      <td>78868.711145</td>\n",
       "    </tr>\n",
       "  </tbody>\n",
       "</table>\n",
       "</div>"
      ],
      "text/plain": [
       "                             prices   market_caps  total_volumes\n",
       "time                                                            \n",
       "2020-05-07 20:00:00-04:00  1.001129  6.681667e+06   66920.176379\n",
       "2020-05-08 20:00:00-04:00  0.988501  6.808013e+06   72760.441931\n",
       "2020-05-09 20:00:00-04:00  0.993977  6.945831e+06   39008.835655\n",
       "2020-05-10 20:00:00-04:00  1.004506  6.818654e+06  107182.229824\n",
       "2020-05-11 20:00:00-04:00  1.001884  6.968239e+06   78868.711145"
      ]
     },
     "execution_count": 19,
     "metadata": {},
     "output_type": "execute_result"
    }
   ],
   "source": [
    "sUSD_df.head()"
   ]
  },
  {
   "cell_type": "code",
   "execution_count": null,
   "id": "40bc02a0-3eea-4ce2-adbf-d5f4982b5faf",
   "metadata": {},
   "outputs": [],
   "source": [
    "sUSD_df = pd.DataFrame(sUSD)"
   ]
  },
  {
   "cell_type": "code",
   "execution_count": null,
   "id": "fa0edb96-4dfe-4635-b6c4-795ec18ca163",
   "metadata": {},
   "outputs": [],
   "source": [
    "display(sUSD_df)"
   ]
  },
  {
   "cell_type": "code",
   "execution_count": null,
   "id": "573d0ed6-d8de-43f0-9dd3-6af3a621ff7b",
   "metadata": {},
   "outputs": [],
   "source": []
  }
 ],
 "metadata": {
  "kernelspec": {
   "display_name": "Python 3 (ipykernel)",
   "language": "python",
   "name": "python3"
  },
  "language_info": {
   "codemirror_mode": {
    "name": "ipython",
    "version": 3
   },
   "file_extension": ".py",
   "mimetype": "text/x-python",
   "name": "python",
   "nbconvert_exporter": "python",
   "pygments_lexer": "ipython3",
   "version": "3.7.11"
  }
 },
 "nbformat": 4,
 "nbformat_minor": 5
}
